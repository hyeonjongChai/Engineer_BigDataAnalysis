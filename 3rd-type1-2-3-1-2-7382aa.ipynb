{
 "cells": [
  {
   "cell_type": "markdown",
   "id": "c5e209ec",
   "metadata": {
    "papermill": {
     "duration": 0.002629,
     "end_time": "2022-06-19T08:24:31.987889",
     "exception": false,
     "start_time": "2022-06-19T08:24:31.985260",
     "status": "completed"
    },
    "tags": []
   },
   "source": [
    "# Q. 결측치 데이터(행)을 제거하고, 앞에서부터 60% 데이터만 활용해, 'f1' 컬럼 3사분위 값을 구하시오 \n",
    "- 60%가 소수점일 경우 절사(예: 36.6 일때 36으로 계산)\n",
    "- data: t1-data1.csv"
   ]
  },
  {
   "cell_type": "code",
   "execution_count": 1,
   "id": "f45617db",
   "metadata": {
    "_cell_guid": "b1076dfc-b9ad-4769-8c92-a6c4dae69d19",
    "_uuid": "8f2839f25d086af736a60e9eeb907d3b93b6e0e5",
    "execution": {
     "iopub.execute_input": "2022-06-19T08:24:31.993774Z",
     "iopub.status.busy": "2022-06-19T08:24:31.993151Z",
     "iopub.status.idle": "2022-06-19T08:24:32.037270Z",
     "shell.execute_reply": "2022-06-19T08:24:32.035690Z"
    },
    "papermill": {
     "duration": 0.050543,
     "end_time": "2022-06-19T08:24:32.040332",
     "exception": false,
     "start_time": "2022-06-19T08:24:31.989789",
     "status": "completed"
    },
    "tags": []
   },
   "outputs": [
    {
     "name": "stdout",
     "output_type": "stream",
     "text": [
      "77.25\n"
     ]
    }
   ],
   "source": [
    "import pandas as pd\n",
    "df = pd.read_csv(\"../input/big-data-analytics-certification/t1-data1.csv\")\n",
    "df1 = df.dropna()\n",
    "df2 = df1[:int(len(df1)*0.6)]\n",
    "\n",
    "print(df2['f1'].quantile(0.75))"
   ]
  }
 ],
 "metadata": {
  "kernelspec": {
   "display_name": "Python 3",
   "language": "python",
   "name": "python3"
  },
  "language_info": {
   "codemirror_mode": {
    "name": "ipython",
    "version": 3
   },
   "file_extension": ".py",
   "mimetype": "text/x-python",
   "name": "python",
   "nbconvert_exporter": "python",
   "pygments_lexer": "ipython3",
   "version": "3.7.12"
  },
  "papermill": {
   "default_parameters": {},
   "duration": 11.426657,
   "end_time": "2022-06-19T08:24:32.868152",
   "environment_variables": {},
   "exception": null,
   "input_path": "__notebook__.ipynb",
   "output_path": "__notebook__.ipynb",
   "parameters": {},
   "start_time": "2022-06-19T08:24:21.441495",
   "version": "2.3.4"
  }
 },
 "nbformat": 4,
 "nbformat_minor": 5
}
