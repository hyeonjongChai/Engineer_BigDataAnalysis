{
 "cells": [
  {
   "cell_type": "markdown",
   "id": "389caf2e",
   "metadata": {
    "papermill": {
     "duration": 0.004614,
     "end_time": "2022-06-16T08:38:24.758211",
     "exception": false,
     "start_time": "2022-06-16T08:38:24.753597",
     "status": "completed"
    },
    "tags": []
   },
   "source": [
    "### 주어진 데이터에서 2022년 월별 Sales 합계 중 가장 큰 금액과 \n",
    "### 2023년 월별 Sales 합계 중 가장 큰 금액의 차이를 절대값으로 구하시오. \n",
    "### 단 Events컬럼이 '1'인경우 80%의 Salse값만 반영함 \n",
    "### (최종값은 소수점 반올림 후 정수 출력)\n",
    "- 데이터셋 : basic2.csv\n",
    "- 오른쪽 상단 copy&edit 클릭 -> 예상문제 풀이 시작"
   ]
  },
  {
   "cell_type": "code",
   "execution_count": 1,
   "id": "00daf4e4",
   "metadata": {
    "_cell_guid": "b1076dfc-b9ad-4769-8c92-a6c4dae69d19",
    "_uuid": "8f2839f25d086af736a60e9eeb907d3b93b6e0e5",
    "execution": {
     "iopub.execute_input": "2022-06-16T08:38:24.782303Z",
     "iopub.status.busy": "2022-06-16T08:38:24.780748Z",
     "iopub.status.idle": "2022-06-16T08:38:25.305154Z",
     "shell.execute_reply": "2022-06-16T08:38:25.304345Z",
     "shell.execute_reply.started": "2022-06-16T08:37:26.367724Z"
    },
    "papermill": {
     "duration": 0.542107,
     "end_time": "2022-06-16T08:38:25.305344",
     "exception": false,
     "start_time": "2022-06-16T08:38:24.763237",
     "status": "completed"
    },
    "tags": []
   },
   "outputs": [
    {
     "name": "stdout",
     "output_type": "stream",
     "text": [
      "42473436\n"
     ]
    }
   ],
   "source": [
    "import pandas as pd\n",
    "import numpy as np\n",
    "\n",
    "df = pd.read_csv(\"../input/bigdatacertificationkr/basic2.csv\", \n",
    "                 parse_dates=['Date'])\n",
    "\n",
    "def events_processing(x):\n",
    "    if x['Events'] == 1:\n",
    "        x['New_Sales'] = x['Sales']*0.8\n",
    "    else:\n",
    "        x['New_Sales'] = x['Sales']\n",
    "        \n",
    "    return x\n",
    "\n",
    "df1 = df.apply(lambda x: events_processing(x), axis=1)\n",
    "df1['Year'] = df1['Date'].dt.year\n",
    "df1['Month'] = df1['Date'].dt.month\n",
    "\n",
    "df2 = df1.groupby(['Year', 'Month']).sum()\n",
    "df2 = df2.reset_index()[['Year', 'Month', 'New_Sales']]\n",
    "\n",
    "max_2022 = df2[df2['Year']==2022]['New_Sales'].max()\n",
    "max_2023 = df2[df2['Year']==2023]['New_Sales'].max()\n",
    "\n",
    "print(round(np.abs(max_2022-max_2023)))"
   ]
  }
 ],
 "metadata": {
  "kernelspec": {
   "display_name": "Python 3",
   "language": "python",
   "name": "python3"
  },
  "language_info": {
   "codemirror_mode": {
    "name": "ipython",
    "version": 3
   },
   "file_extension": ".py",
   "mimetype": "text/x-python",
   "name": "python",
   "nbconvert_exporter": "python",
   "pygments_lexer": "ipython3",
   "version": "3.7.10"
  },
  "papermill": {
   "default_parameters": {},
   "duration": 11.304995,
   "end_time": "2022-06-16T08:38:26.123549",
   "environment_variables": {},
   "exception": null,
   "input_path": "__notebook__.ipynb",
   "output_path": "__notebook__.ipynb",
   "parameters": {},
   "start_time": "2022-06-16T08:38:14.818554",
   "version": "2.3.3"
  }
 },
 "nbformat": 4,
 "nbformat_minor": 5
}
