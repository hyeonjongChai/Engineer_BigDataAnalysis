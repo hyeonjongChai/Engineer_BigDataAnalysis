{
 "cells": [
  {
   "cell_type": "markdown",
   "id": "9ea427b5",
   "metadata": {
    "papermill": {
     "duration": 0.007524,
     "end_time": "2022-06-15T08:07:00.204669",
     "exception": false,
     "start_time": "2022-06-15T08:07:00.197145",
     "status": "completed"
    },
    "tags": []
   },
   "source": [
    "## 조건에 맞는 데이터 표준편차 구하기\n",
    "- 주어진 데이터 중 basic1.csv에서 'f4'컬럼 값이 'ENFJ'와 'INFP'인 'f1'의 표준편차 차이를 절대값으로 구하시오\n",
    "- 데이터셋 : basic1.csv\n",
    "- 오른쪽 상단 copy&edit 클릭 -> 예상문제 풀이 시작"
   ]
  },
  {
   "cell_type": "code",
   "execution_count": 1,
   "id": "6dae7bf6",
   "metadata": {
    "execution": {
     "iopub.execute_input": "2022-06-15T08:07:00.228946Z",
     "iopub.status.busy": "2022-06-15T08:07:00.227262Z",
     "iopub.status.idle": "2022-06-15T08:07:00.269949Z",
     "shell.execute_reply": "2022-06-15T08:07:00.269222Z",
     "shell.execute_reply.started": "2022-06-15T08:06:27.623095Z"
    },
    "papermill": {
     "duration": 0.055645,
     "end_time": "2022-06-15T08:07:00.270112",
     "exception": false,
     "start_time": "2022-06-15T08:07:00.214467",
     "status": "completed"
    },
    "tags": []
   },
   "outputs": [
    {
     "data": {
      "text/plain": [
       "5.859621525876811"
      ]
     },
     "execution_count": 1,
     "metadata": {},
     "output_type": "execute_result"
    }
   ],
   "source": [
    "import numpy as np\n",
    "import pandas as pd\n",
    "\n",
    "df = pd.read_csv('../input/bigdatacertificationkr/basic1.csv')\n",
    "df.head()\n",
    "\n",
    "ENFJ_f1_std = df[df['f4'] == 'ENFJ']['f1'].std()\n",
    "INFP_f1_std = df[df['f4'] == 'INFP']['f1'].std()\n",
    "\n",
    "np.abs(ENFJ_f1_std - INFP_f1_std)"
   ]
  },
  {
   "cell_type": "markdown",
   "id": "8a5987c0",
   "metadata": {
    "papermill": {
     "duration": 0.006493,
     "end_time": "2022-06-15T08:07:00.283830",
     "exception": false,
     "start_time": "2022-06-15T08:07:00.277337",
     "status": "completed"
    },
    "tags": []
   },
   "source": [
    "## Hint\n",
    "- 절대 값 : np.abs()\n",
    "- 표준편차 : DataFrame.std()"
   ]
  },
  {
   "cell_type": "markdown",
   "id": "8df1b73c",
   "metadata": {
    "papermill": {
     "duration": 0.006721,
     "end_time": "2022-06-15T08:07:00.297567",
     "exception": false,
     "start_time": "2022-06-15T08:07:00.290846",
     "status": "completed"
    },
    "tags": []
   },
   "source": [
    "## 풀이"
   ]
  },
  {
   "cell_type": "code",
   "execution_count": 2,
   "id": "8a8b2476",
   "metadata": {
    "_cell_guid": "b1076dfc-b9ad-4769-8c92-a6c4dae69d19",
    "_uuid": "8f2839f25d086af736a60e9eeb907d3b93b6e0e5",
    "execution": {
     "iopub.execute_input": "2022-06-15T08:07:00.315120Z",
     "iopub.status.busy": "2022-06-15T08:07:00.314193Z",
     "iopub.status.idle": "2022-06-15T08:07:00.336583Z",
     "shell.execute_reply": "2022-06-15T08:07:00.337068Z",
     "shell.execute_reply.started": "2021-10-29T06:32:05.330857Z"
    },
    "papermill": {
     "duration": 0.03268,
     "end_time": "2022-06-15T08:07:00.337242",
     "exception": false,
     "start_time": "2022-06-15T08:07:00.304562",
     "status": "completed"
    },
    "tags": []
   },
   "outputs": [
    {
     "data": {
      "text/html": [
       "<div>\n",
       "<style scoped>\n",
       "    .dataframe tbody tr th:only-of-type {\n",
       "        vertical-align: middle;\n",
       "    }\n",
       "\n",
       "    .dataframe tbody tr th {\n",
       "        vertical-align: top;\n",
       "    }\n",
       "\n",
       "    .dataframe thead th {\n",
       "        text-align: right;\n",
       "    }\n",
       "</style>\n",
       "<table border=\"1\" class=\"dataframe\">\n",
       "  <thead>\n",
       "    <tr style=\"text-align: right;\">\n",
       "      <th></th>\n",
       "      <th>id</th>\n",
       "      <th>age</th>\n",
       "      <th>city</th>\n",
       "      <th>f1</th>\n",
       "      <th>f2</th>\n",
       "      <th>f3</th>\n",
       "      <th>f4</th>\n",
       "      <th>f5</th>\n",
       "    </tr>\n",
       "  </thead>\n",
       "  <tbody>\n",
       "    <tr>\n",
       "      <th>0</th>\n",
       "      <td>id01</td>\n",
       "      <td>2.0</td>\n",
       "      <td>서울</td>\n",
       "      <td>NaN</td>\n",
       "      <td>0</td>\n",
       "      <td>NaN</td>\n",
       "      <td>ENFJ</td>\n",
       "      <td>91.297791</td>\n",
       "    </tr>\n",
       "    <tr>\n",
       "      <th>1</th>\n",
       "      <td>id02</td>\n",
       "      <td>9.0</td>\n",
       "      <td>서울</td>\n",
       "      <td>70.0</td>\n",
       "      <td>1</td>\n",
       "      <td>NaN</td>\n",
       "      <td>ENFJ</td>\n",
       "      <td>60.339826</td>\n",
       "    </tr>\n",
       "    <tr>\n",
       "      <th>2</th>\n",
       "      <td>id03</td>\n",
       "      <td>27.0</td>\n",
       "      <td>서울</td>\n",
       "      <td>61.0</td>\n",
       "      <td>1</td>\n",
       "      <td>NaN</td>\n",
       "      <td>ISTJ</td>\n",
       "      <td>17.252986</td>\n",
       "    </tr>\n",
       "    <tr>\n",
       "      <th>3</th>\n",
       "      <td>id04</td>\n",
       "      <td>75.0</td>\n",
       "      <td>서울</td>\n",
       "      <td>NaN</td>\n",
       "      <td>2</td>\n",
       "      <td>NaN</td>\n",
       "      <td>INFP</td>\n",
       "      <td>52.667078</td>\n",
       "    </tr>\n",
       "    <tr>\n",
       "      <th>4</th>\n",
       "      <td>id05</td>\n",
       "      <td>24.0</td>\n",
       "      <td>서울</td>\n",
       "      <td>85.0</td>\n",
       "      <td>2</td>\n",
       "      <td>NaN</td>\n",
       "      <td>ISFJ</td>\n",
       "      <td>29.269869</td>\n",
       "    </tr>\n",
       "  </tbody>\n",
       "</table>\n",
       "</div>"
      ],
      "text/plain": [
       "     id   age city    f1  f2   f3    f4         f5\n",
       "0  id01   2.0   서울   NaN   0  NaN  ENFJ  91.297791\n",
       "1  id02   9.0   서울  70.0   1  NaN  ENFJ  60.339826\n",
       "2  id03  27.0   서울  61.0   1  NaN  ISTJ  17.252986\n",
       "3  id04  75.0   서울   NaN   2  NaN  INFP  52.667078\n",
       "4  id05  24.0   서울  85.0   2  NaN  ISFJ  29.269869"
      ]
     },
     "execution_count": 2,
     "metadata": {},
     "output_type": "execute_result"
    }
   ],
   "source": [
    "# 라이브러리 및 데이터 불러오기\n",
    "import pandas as pd\n",
    "import numpy as np\n",
    "\n",
    "df = pd.read_csv('../input/bigdatacertificationkr/basic1.csv')\n",
    "df.head()"
   ]
  },
  {
   "cell_type": "code",
   "execution_count": 3,
   "id": "fe906c15",
   "metadata": {
    "execution": {
     "iopub.execute_input": "2022-06-15T08:07:00.355261Z",
     "iopub.status.busy": "2022-06-15T08:07:00.354367Z",
     "iopub.status.idle": "2022-06-15T08:07:00.367314Z",
     "shell.execute_reply": "2022-06-15T08:07:00.367917Z",
     "shell.execute_reply.started": "2021-10-29T06:29:53.871399Z"
    },
    "papermill": {
     "duration": 0.023757,
     "end_time": "2022-06-15T08:07:00.368178",
     "exception": false,
     "start_time": "2022-06-15T08:07:00.344421",
     "status": "completed"
    },
    "tags": []
   },
   "outputs": [
    {
     "data": {
      "text/html": [
       "<div>\n",
       "<style scoped>\n",
       "    .dataframe tbody tr th:only-of-type {\n",
       "        vertical-align: middle;\n",
       "    }\n",
       "\n",
       "    .dataframe tbody tr th {\n",
       "        vertical-align: top;\n",
       "    }\n",
       "\n",
       "    .dataframe thead th {\n",
       "        text-align: right;\n",
       "    }\n",
       "</style>\n",
       "<table border=\"1\" class=\"dataframe\">\n",
       "  <thead>\n",
       "    <tr style=\"text-align: right;\">\n",
       "      <th></th>\n",
       "      <th>id</th>\n",
       "      <th>age</th>\n",
       "      <th>city</th>\n",
       "      <th>f1</th>\n",
       "      <th>f2</th>\n",
       "      <th>f3</th>\n",
       "      <th>f4</th>\n",
       "      <th>f5</th>\n",
       "    </tr>\n",
       "  </thead>\n",
       "  <tbody>\n",
       "    <tr>\n",
       "      <th>0</th>\n",
       "      <td>id01</td>\n",
       "      <td>2.0</td>\n",
       "      <td>서울</td>\n",
       "      <td>NaN</td>\n",
       "      <td>0</td>\n",
       "      <td>NaN</td>\n",
       "      <td>ENFJ</td>\n",
       "      <td>91.297791</td>\n",
       "    </tr>\n",
       "    <tr>\n",
       "      <th>1</th>\n",
       "      <td>id02</td>\n",
       "      <td>9.0</td>\n",
       "      <td>서울</td>\n",
       "      <td>70.0</td>\n",
       "      <td>1</td>\n",
       "      <td>NaN</td>\n",
       "      <td>ENFJ</td>\n",
       "      <td>60.339826</td>\n",
       "    </tr>\n",
       "    <tr>\n",
       "      <th>32</th>\n",
       "      <td>id33</td>\n",
       "      <td>47.0</td>\n",
       "      <td>부산</td>\n",
       "      <td>94.0</td>\n",
       "      <td>0</td>\n",
       "      <td>NaN</td>\n",
       "      <td>ENFJ</td>\n",
       "      <td>17.252986</td>\n",
       "    </tr>\n",
       "    <tr>\n",
       "      <th>40</th>\n",
       "      <td>id41</td>\n",
       "      <td>81.0</td>\n",
       "      <td>대구</td>\n",
       "      <td>55.0</td>\n",
       "      <td>0</td>\n",
       "      <td>NaN</td>\n",
       "      <td>ENFJ</td>\n",
       "      <td>37.113739</td>\n",
       "    </tr>\n",
       "    <tr>\n",
       "      <th>44</th>\n",
       "      <td>id45</td>\n",
       "      <td>97.0</td>\n",
       "      <td>대구</td>\n",
       "      <td>88.0</td>\n",
       "      <td>0</td>\n",
       "      <td>NaN</td>\n",
       "      <td>ENFJ</td>\n",
       "      <td>13.049921</td>\n",
       "    </tr>\n",
       "    <tr>\n",
       "      <th>53</th>\n",
       "      <td>id54</td>\n",
       "      <td>53.0</td>\n",
       "      <td>대구</td>\n",
       "      <td>NaN</td>\n",
       "      <td>1</td>\n",
       "      <td>NaN</td>\n",
       "      <td>ENFJ</td>\n",
       "      <td>69.730313</td>\n",
       "    </tr>\n",
       "  </tbody>\n",
       "</table>\n",
       "</div>"
      ],
      "text/plain": [
       "      id   age city    f1  f2   f3    f4         f5\n",
       "0   id01   2.0   서울   NaN   0  NaN  ENFJ  91.297791\n",
       "1   id02   9.0   서울  70.0   1  NaN  ENFJ  60.339826\n",
       "32  id33  47.0   부산  94.0   0  NaN  ENFJ  17.252986\n",
       "40  id41  81.0   대구  55.0   0  NaN  ENFJ  37.113739\n",
       "44  id45  97.0   대구  88.0   0  NaN  ENFJ  13.049921\n",
       "53  id54  53.0   대구   NaN   1  NaN  ENFJ  69.730313"
      ]
     },
     "execution_count": 3,
     "metadata": {},
     "output_type": "execute_result"
    }
   ],
   "source": [
    "# 조건에 맞는 데이터\n",
    "df[df['f4']=='ENFJ']"
   ]
  },
  {
   "cell_type": "code",
   "execution_count": 4,
   "id": "e3b45770",
   "metadata": {
    "execution": {
     "iopub.execute_input": "2022-06-15T08:07:00.386697Z",
     "iopub.status.busy": "2022-06-15T08:07:00.386101Z",
     "iopub.status.idle": "2022-06-15T08:07:00.391923Z",
     "shell.execute_reply": "2022-06-15T08:07:00.392403Z",
     "shell.execute_reply.started": "2021-10-29T06:30:03.762019Z"
    },
    "papermill": {
     "duration": 0.016734,
     "end_time": "2022-06-15T08:07:00.392585",
     "exception": false,
     "start_time": "2022-06-15T08:07:00.375851",
     "status": "completed"
    },
    "tags": []
   },
   "outputs": [
    {
     "data": {
      "text/plain": [
       "17.727097901235837"
      ]
     },
     "execution_count": 4,
     "metadata": {},
     "output_type": "execute_result"
    }
   ],
   "source": [
    "df[df['f4']=='ENFJ']['f1'].std()"
   ]
  },
  {
   "cell_type": "code",
   "execution_count": 5,
   "id": "a2e09e35",
   "metadata": {
    "execution": {
     "iopub.execute_input": "2022-06-15T08:07:00.424302Z",
     "iopub.status.busy": "2022-06-15T08:07:00.422313Z",
     "iopub.status.idle": "2022-06-15T08:07:00.427284Z",
     "shell.execute_reply": "2022-06-15T08:07:00.426447Z",
     "shell.execute_reply.started": "2021-10-29T06:30:17.153342Z"
    },
    "papermill": {
     "duration": 0.025294,
     "end_time": "2022-06-15T08:07:00.427505",
     "exception": false,
     "start_time": "2022-06-15T08:07:00.402211",
     "status": "completed"
    },
    "tags": []
   },
   "outputs": [
    {
     "data": {
      "text/plain": [
       "17.727097901235837"
      ]
     },
     "execution_count": 5,
     "metadata": {},
     "output_type": "execute_result"
    }
   ],
   "source": [
    "# 조건에 맞는 f1의 표준편차\n",
    "enfj = df[df['f4']=='ENFJ']['f1'].std()\n",
    "enfj"
   ]
  },
  {
   "cell_type": "code",
   "execution_count": 6,
   "id": "d4f02842",
   "metadata": {
    "execution": {
     "iopub.execute_input": "2022-06-15T08:07:00.449585Z",
     "iopub.status.busy": "2022-06-15T08:07:00.448599Z",
     "iopub.status.idle": "2022-06-15T08:07:00.455403Z",
     "shell.execute_reply": "2022-06-15T08:07:00.456071Z",
     "shell.execute_reply.started": "2021-10-29T06:30:35.689186Z"
    },
    "papermill": {
     "duration": 0.020503,
     "end_time": "2022-06-15T08:07:00.456243",
     "exception": false,
     "start_time": "2022-06-15T08:07:00.435740",
     "status": "completed"
    },
    "tags": []
   },
   "outputs": [
    {
     "data": {
      "text/plain": [
       "23.586719427112648"
      ]
     },
     "execution_count": 6,
     "metadata": {},
     "output_type": "execute_result"
    }
   ],
   "source": [
    "# 조건에 맞는 f1의 표준편차\n",
    "infp = df[df['f4']=='INFP']['f1'].std()\n",
    "infp"
   ]
  },
  {
   "cell_type": "code",
   "execution_count": 7,
   "id": "3e345f86",
   "metadata": {
    "execution": {
     "iopub.execute_input": "2022-06-15T08:07:00.476375Z",
     "iopub.status.busy": "2022-06-15T08:07:00.475471Z",
     "iopub.status.idle": "2022-06-15T08:07:00.480965Z",
     "shell.execute_reply": "2022-06-15T08:07:00.481728Z",
     "shell.execute_reply.started": "2021-10-29T06:32:32.699381Z"
    },
    "papermill": {
     "duration": 0.017181,
     "end_time": "2022-06-15T08:07:00.481981",
     "exception": false,
     "start_time": "2022-06-15T08:07:00.464800",
     "status": "completed"
    },
    "tags": []
   },
   "outputs": [
    {
     "name": "stdout",
     "output_type": "stream",
     "text": [
      "5.859621525876811\n"
     ]
    }
   ],
   "source": [
    "# 두 표준편차 차이 절대값 출력\n",
    "print(np.abs(enfj - infp))"
   ]
  }
 ],
 "metadata": {
  "kernelspec": {
   "display_name": "Python 3",
   "language": "python",
   "name": "python3"
  },
  "language_info": {
   "codemirror_mode": {
    "name": "ipython",
    "version": 3
   },
   "file_extension": ".py",
   "mimetype": "text/x-python",
   "name": "python",
   "nbconvert_exporter": "python",
   "pygments_lexer": "ipython3",
   "version": "3.7.10"
  },
  "papermill": {
   "default_parameters": {},
   "duration": 8.741588,
   "end_time": "2022-06-15T08:07:01.652722",
   "environment_variables": {},
   "exception": null,
   "input_path": "__notebook__.ipynb",
   "output_path": "__notebook__.ipynb",
   "parameters": {},
   "start_time": "2022-06-15T08:06:52.911134",
   "version": "2.3.3"
  }
 },
 "nbformat": 4,
 "nbformat_minor": 5
}
