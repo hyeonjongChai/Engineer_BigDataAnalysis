{
 "cells": [
  {
   "cell_type": "markdown",
   "id": "94ed26d5",
   "metadata": {
    "papermill": {
     "duration": 0.020828,
     "end_time": "2022-06-14T07:21:24.672638",
     "exception": false,
     "start_time": "2022-06-14T07:21:24.651810",
     "status": "completed"
    },
    "tags": []
   },
   "source": [
    "## 강의 영상 : https://youtu.be/Jh3rJaZlEg0"
   ]
  },
  {
   "cell_type": "markdown",
   "id": "1ec561db",
   "metadata": {
    "_cell_guid": "af4252ad-f822-45d3-b9c2-f26af7608ef4",
    "_uuid": "de34d146-4c69-4b7c-82f6-11d6287f6094",
    "execution": {
     "iopub.execute_input": "2021-10-07T06:47:44.152391Z",
     "iopub.status.busy": "2021-10-07T06:47:44.152048Z",
     "iopub.status.idle": "2021-10-07T06:47:44.18282Z",
     "shell.execute_reply": "2021-10-07T06:47:44.182194Z",
     "shell.execute_reply.started": "2021-10-07T06:47:44.152311Z"
    },
    "jupyter": {
     "outputs_hidden": false
    },
    "papermill": {
     "duration": 0.018744,
     "end_time": "2022-06-14T07:21:24.711131",
     "exception": false,
     "start_time": "2022-06-14T07:21:24.692387",
     "status": "completed"
    },
    "tags": []
   },
   "source": [
    "## 문제1\n",
    "- 데이터셋(basic1.csv)의 'f5' 컬럼을 기준으로 상위 10개의 데이터를 구하고,\n",
    "- 'f5'컬럼 10개 중 최소값으로 데이터를 대체한 후, \n",
    "- 'age'컬럼에서 80 이상인 데이터의'f5 컬럼 평균값 구하기"
   ]
  },
  {
   "cell_type": "code",
   "execution_count": 1,
   "id": "6d9fa7a2",
   "metadata": {
    "execution": {
     "iopub.execute_input": "2022-06-14T07:21:24.766247Z",
     "iopub.status.busy": "2022-06-14T07:21:24.765254Z",
     "iopub.status.idle": "2022-06-14T07:21:24.798876Z",
     "shell.execute_reply": "2022-06-14T07:21:24.797204Z",
     "shell.execute_reply.started": "2022-06-14T06:27:48.341114Z"
    },
    "papermill": {
     "duration": 0.068962,
     "end_time": "2022-06-14T07:21:24.799059",
     "exception": false,
     "start_time": "2022-06-14T07:21:24.730097",
     "status": "completed"
    },
    "tags": []
   },
   "outputs": [
    {
     "name": "stdout",
     "output_type": "stream",
     "text": [
      "62.497747125217394\n"
     ]
    },
    {
     "name": "stderr",
     "output_type": "stream",
     "text": [
      "/opt/conda/lib/python3.7/site-packages/ipykernel_launcher.py:11: SettingWithCopyWarning: \n",
      "A value is trying to be set on a copy of a slice from a DataFrame\n",
      "\n",
      "See the caveats in the documentation: https://pandas.pydata.org/pandas-docs/stable/user_guide/indexing.html#returning-a-view-versus-a-copy\n",
      "  # This is added back by InteractiveShellApp.init_path()\n"
     ]
    }
   ],
   "source": [
    "# 내 풀이\n",
    "\n",
    "import pandas as pd\n",
    "\n",
    "df = pd.read_csv('../input/bigdatacertificationkr/basic1.csv')\n",
    "# print(df.head())\n",
    "\n",
    "df = df.sort_values('f5', ascending = False)\n",
    "# print(df['f5'][:10])\n",
    "\n",
    "df['f5'][:10] = df['f5'][:10].min()\n",
    "# print(df.head(10))\n",
    "\n",
    "print(df[df['age'] >= 80]['f5'].mean())"
   ]
  },
  {
   "cell_type": "code",
   "execution_count": 2,
   "id": "f7ef4f9a",
   "metadata": {
    "execution": {
     "iopub.execute_input": "2022-06-14T07:21:24.845573Z",
     "iopub.status.busy": "2022-06-14T07:21:24.844919Z",
     "iopub.status.idle": "2022-06-14T07:21:24.872244Z",
     "shell.execute_reply": "2022-06-14T07:21:24.871675Z",
     "shell.execute_reply.started": "2022-06-14T06:28:03.778527Z"
    },
    "papermill": {
     "duration": 0.052815,
     "end_time": "2022-06-14T07:21:24.872398",
     "exception": false,
     "start_time": "2022-06-14T07:21:24.819583",
     "status": "completed"
    },
    "tags": []
   },
   "outputs": [
    {
     "data": {
      "text/html": [
       "<div>\n",
       "<style scoped>\n",
       "    .dataframe tbody tr th:only-of-type {\n",
       "        vertical-align: middle;\n",
       "    }\n",
       "\n",
       "    .dataframe tbody tr th {\n",
       "        vertical-align: top;\n",
       "    }\n",
       "\n",
       "    .dataframe thead th {\n",
       "        text-align: right;\n",
       "    }\n",
       "</style>\n",
       "<table border=\"1\" class=\"dataframe\">\n",
       "  <thead>\n",
       "    <tr style=\"text-align: right;\">\n",
       "      <th></th>\n",
       "      <th>id</th>\n",
       "      <th>age</th>\n",
       "      <th>city</th>\n",
       "      <th>f1</th>\n",
       "      <th>f2</th>\n",
       "      <th>f3</th>\n",
       "      <th>f4</th>\n",
       "      <th>f5</th>\n",
       "    </tr>\n",
       "  </thead>\n",
       "  <tbody>\n",
       "    <tr>\n",
       "      <th>0</th>\n",
       "      <td>id01</td>\n",
       "      <td>2.0</td>\n",
       "      <td>서울</td>\n",
       "      <td>NaN</td>\n",
       "      <td>0</td>\n",
       "      <td>NaN</td>\n",
       "      <td>ENFJ</td>\n",
       "      <td>91.297791</td>\n",
       "    </tr>\n",
       "    <tr>\n",
       "      <th>1</th>\n",
       "      <td>id02</td>\n",
       "      <td>9.0</td>\n",
       "      <td>서울</td>\n",
       "      <td>70.0</td>\n",
       "      <td>1</td>\n",
       "      <td>NaN</td>\n",
       "      <td>ENFJ</td>\n",
       "      <td>60.339826</td>\n",
       "    </tr>\n",
       "    <tr>\n",
       "      <th>2</th>\n",
       "      <td>id03</td>\n",
       "      <td>27.0</td>\n",
       "      <td>서울</td>\n",
       "      <td>61.0</td>\n",
       "      <td>1</td>\n",
       "      <td>NaN</td>\n",
       "      <td>ISTJ</td>\n",
       "      <td>17.252986</td>\n",
       "    </tr>\n",
       "    <tr>\n",
       "      <th>3</th>\n",
       "      <td>id04</td>\n",
       "      <td>75.0</td>\n",
       "      <td>서울</td>\n",
       "      <td>NaN</td>\n",
       "      <td>2</td>\n",
       "      <td>NaN</td>\n",
       "      <td>INFP</td>\n",
       "      <td>52.667078</td>\n",
       "    </tr>\n",
       "    <tr>\n",
       "      <th>4</th>\n",
       "      <td>id05</td>\n",
       "      <td>24.0</td>\n",
       "      <td>서울</td>\n",
       "      <td>85.0</td>\n",
       "      <td>2</td>\n",
       "      <td>NaN</td>\n",
       "      <td>ISFJ</td>\n",
       "      <td>29.269869</td>\n",
       "    </tr>\n",
       "  </tbody>\n",
       "</table>\n",
       "</div>"
      ],
      "text/plain": [
       "     id   age city    f1  f2   f3    f4         f5\n",
       "0  id01   2.0   서울   NaN   0  NaN  ENFJ  91.297791\n",
       "1  id02   9.0   서울  70.0   1  NaN  ENFJ  60.339826\n",
       "2  id03  27.0   서울  61.0   1  NaN  ISTJ  17.252986\n",
       "3  id04  75.0   서울   NaN   2  NaN  INFP  52.667078\n",
       "4  id05  24.0   서울  85.0   2  NaN  ISFJ  29.269869"
      ]
     },
     "execution_count": 2,
     "metadata": {},
     "output_type": "execute_result"
    }
   ],
   "source": [
    "# 라이브러리 및 데이터 불러오기\n",
    "import pandas as pd\n",
    "\n",
    "df = pd.read_csv('../input/bigdatacertificationkr/basic1.csv')\n",
    "df.head()"
   ]
  },
  {
   "cell_type": "code",
   "execution_count": 3,
   "id": "bf9b90c6",
   "metadata": {
    "execution": {
     "iopub.execute_input": "2022-06-14T07:21:24.933658Z",
     "iopub.status.busy": "2022-06-14T07:21:24.932967Z",
     "iopub.status.idle": "2022-06-14T07:21:24.937499Z",
     "shell.execute_reply": "2022-06-14T07:21:24.936870Z",
     "shell.execute_reply.started": "2022-06-14T06:28:05.047713Z"
    },
    "papermill": {
     "duration": 0.044696,
     "end_time": "2022-06-14T07:21:24.937651",
     "exception": false,
     "start_time": "2022-06-14T07:21:24.892955",
     "status": "completed"
    },
    "tags": []
   },
   "outputs": [
    {
     "data": {
      "text/html": [
       "<div>\n",
       "<style scoped>\n",
       "    .dataframe tbody tr th:only-of-type {\n",
       "        vertical-align: middle;\n",
       "    }\n",
       "\n",
       "    .dataframe tbody tr th {\n",
       "        vertical-align: top;\n",
       "    }\n",
       "\n",
       "    .dataframe thead th {\n",
       "        text-align: right;\n",
       "    }\n",
       "</style>\n",
       "<table border=\"1\" class=\"dataframe\">\n",
       "  <thead>\n",
       "    <tr style=\"text-align: right;\">\n",
       "      <th></th>\n",
       "      <th>id</th>\n",
       "      <th>age</th>\n",
       "      <th>city</th>\n",
       "      <th>f1</th>\n",
       "      <th>f2</th>\n",
       "      <th>f3</th>\n",
       "      <th>f4</th>\n",
       "      <th>f5</th>\n",
       "    </tr>\n",
       "  </thead>\n",
       "  <tbody>\n",
       "    <tr>\n",
       "      <th>10</th>\n",
       "      <td>id11</td>\n",
       "      <td>40.0</td>\n",
       "      <td>서울</td>\n",
       "      <td>68.0</td>\n",
       "      <td>0</td>\n",
       "      <td>NaN</td>\n",
       "      <td>ENFP</td>\n",
       "      <td>98.429899</td>\n",
       "    </tr>\n",
       "    <tr>\n",
       "      <th>97</th>\n",
       "      <td>id98</td>\n",
       "      <td>39.0</td>\n",
       "      <td>경기</td>\n",
       "      <td>58.0</td>\n",
       "      <td>2</td>\n",
       "      <td>NaN</td>\n",
       "      <td>INFP</td>\n",
       "      <td>98.429899</td>\n",
       "    </tr>\n",
       "    <tr>\n",
       "      <th>9</th>\n",
       "      <td>id10</td>\n",
       "      <td>95.0</td>\n",
       "      <td>서울</td>\n",
       "      <td>74.0</td>\n",
       "      <td>1</td>\n",
       "      <td>NaN</td>\n",
       "      <td>ISFP</td>\n",
       "      <td>98.429899</td>\n",
       "    </tr>\n",
       "    <tr>\n",
       "      <th>76</th>\n",
       "      <td>id77</td>\n",
       "      <td>77.0</td>\n",
       "      <td>경기</td>\n",
       "      <td>31.0</td>\n",
       "      <td>0</td>\n",
       "      <td>NaN</td>\n",
       "      <td>INFP</td>\n",
       "      <td>98.429899</td>\n",
       "    </tr>\n",
       "    <tr>\n",
       "      <th>98</th>\n",
       "      <td>id99</td>\n",
       "      <td>1.0</td>\n",
       "      <td>경기</td>\n",
       "      <td>47.0</td>\n",
       "      <td>0</td>\n",
       "      <td>NaN</td>\n",
       "      <td>ESFJ</td>\n",
       "      <td>97.381034</td>\n",
       "    </tr>\n",
       "    <tr>\n",
       "      <th>91</th>\n",
       "      <td>id92</td>\n",
       "      <td>97.0</td>\n",
       "      <td>경기</td>\n",
       "      <td>78.0</td>\n",
       "      <td>1</td>\n",
       "      <td>NaN</td>\n",
       "      <td>INFP</td>\n",
       "      <td>97.381034</td>\n",
       "    </tr>\n",
       "    <tr>\n",
       "      <th>86</th>\n",
       "      <td>id87</td>\n",
       "      <td>19.0</td>\n",
       "      <td>경기</td>\n",
       "      <td>NaN</td>\n",
       "      <td>1</td>\n",
       "      <td>NaN</td>\n",
       "      <td>ISFP</td>\n",
       "      <td>97.381034</td>\n",
       "    </tr>\n",
       "    <tr>\n",
       "      <th>71</th>\n",
       "      <td>id72</td>\n",
       "      <td>8.0</td>\n",
       "      <td>경기</td>\n",
       "      <td>97.0</td>\n",
       "      <td>0</td>\n",
       "      <td>NaN</td>\n",
       "      <td>ESTJ</td>\n",
       "      <td>97.381034</td>\n",
       "    </tr>\n",
       "    <tr>\n",
       "      <th>11</th>\n",
       "      <td>id12</td>\n",
       "      <td>20.0</td>\n",
       "      <td>서울</td>\n",
       "      <td>NaN</td>\n",
       "      <td>0</td>\n",
       "      <td>NaN</td>\n",
       "      <td>ESTP</td>\n",
       "      <td>91.297791</td>\n",
       "    </tr>\n",
       "    <tr>\n",
       "      <th>19</th>\n",
       "      <td>id20</td>\n",
       "      <td>11.0</td>\n",
       "      <td>서울</td>\n",
       "      <td>51.0</td>\n",
       "      <td>1</td>\n",
       "      <td>NaN</td>\n",
       "      <td>INTJ</td>\n",
       "      <td>91.297791</td>\n",
       "    </tr>\n",
       "  </tbody>\n",
       "</table>\n",
       "</div>"
      ],
      "text/plain": [
       "      id   age city    f1  f2   f3    f4         f5\n",
       "10  id11  40.0   서울  68.0   0  NaN  ENFP  98.429899\n",
       "97  id98  39.0   경기  58.0   2  NaN  INFP  98.429899\n",
       "9   id10  95.0   서울  74.0   1  NaN  ISFP  98.429899\n",
       "76  id77  77.0   경기  31.0   0  NaN  INFP  98.429899\n",
       "98  id99   1.0   경기  47.0   0  NaN  ESFJ  97.381034\n",
       "91  id92  97.0   경기  78.0   1  NaN  INFP  97.381034\n",
       "86  id87  19.0   경기   NaN   1  NaN  ISFP  97.381034\n",
       "71  id72   8.0   경기  97.0   0  NaN  ESTJ  97.381034\n",
       "11  id12  20.0   서울   NaN   0  NaN  ESTP  91.297791\n",
       "19  id20  11.0   서울  51.0   1  NaN  INTJ  91.297791"
      ]
     },
     "execution_count": 3,
     "metadata": {},
     "output_type": "execute_result"
    }
   ],
   "source": [
    "# f5컬럼을 기준으로 내림차순 정렬\n",
    "df = df.sort_values('f5', ascending=False)\n",
    "df.head(10)"
   ]
  },
  {
   "cell_type": "code",
   "execution_count": 4,
   "id": "e54029aa",
   "metadata": {
    "execution": {
     "iopub.execute_input": "2022-06-14T07:21:24.986717Z",
     "iopub.status.busy": "2022-06-14T07:21:24.986054Z",
     "iopub.status.idle": "2022-06-14T07:21:24.990563Z",
     "shell.execute_reply": "2022-06-14T07:21:24.989891Z",
     "shell.execute_reply.started": "2022-06-14T06:28:21.252237Z"
    },
    "papermill": {
     "duration": 0.031973,
     "end_time": "2022-06-14T07:21:24.990712",
     "exception": false,
     "start_time": "2022-06-14T07:21:24.958739",
     "status": "completed"
    },
    "tags": []
   },
   "outputs": [
    {
     "data": {
      "text/plain": [
       "91.29779092"
      ]
     },
     "execution_count": 4,
     "metadata": {},
     "output_type": "execute_result"
    }
   ],
   "source": [
    "# 최소값 찾기\n",
    "min = df['f5'][:10].min()\n",
    "# min = 91.297791\n",
    "min"
   ]
  },
  {
   "cell_type": "code",
   "execution_count": 5,
   "id": "98726f5d",
   "metadata": {
    "execution": {
     "iopub.execute_input": "2022-06-14T07:21:25.054253Z",
     "iopub.status.busy": "2022-06-14T07:21:25.041227Z",
     "iopub.status.idle": "2022-06-14T07:21:25.058908Z",
     "shell.execute_reply": "2022-06-14T07:21:25.058262Z",
     "shell.execute_reply.started": "2022-06-14T06:28:22.255411Z"
    },
    "papermill": {
     "duration": 0.046223,
     "end_time": "2022-06-14T07:21:25.059048",
     "exception": false,
     "start_time": "2022-06-14T07:21:25.012825",
     "status": "completed"
    },
    "tags": []
   },
   "outputs": [
    {
     "name": "stderr",
     "output_type": "stream",
     "text": [
      "/opt/conda/lib/python3.7/site-packages/ipykernel_launcher.py:1: SettingWithCopyWarning: \n",
      "A value is trying to be set on a copy of a slice from a DataFrame\n",
      "\n",
      "See the caveats in the documentation: https://pandas.pydata.org/pandas-docs/stable/user_guide/indexing.html#returning-a-view-versus-a-copy\n",
      "  \"\"\"Entry point for launching an IPython kernel.\n"
     ]
    },
    {
     "data": {
      "text/html": [
       "<div>\n",
       "<style scoped>\n",
       "    .dataframe tbody tr th:only-of-type {\n",
       "        vertical-align: middle;\n",
       "    }\n",
       "\n",
       "    .dataframe tbody tr th {\n",
       "        vertical-align: top;\n",
       "    }\n",
       "\n",
       "    .dataframe thead th {\n",
       "        text-align: right;\n",
       "    }\n",
       "</style>\n",
       "<table border=\"1\" class=\"dataframe\">\n",
       "  <thead>\n",
       "    <tr style=\"text-align: right;\">\n",
       "      <th></th>\n",
       "      <th>id</th>\n",
       "      <th>age</th>\n",
       "      <th>city</th>\n",
       "      <th>f1</th>\n",
       "      <th>f2</th>\n",
       "      <th>f3</th>\n",
       "      <th>f4</th>\n",
       "      <th>f5</th>\n",
       "    </tr>\n",
       "  </thead>\n",
       "  <tbody>\n",
       "    <tr>\n",
       "      <th>10</th>\n",
       "      <td>id11</td>\n",
       "      <td>40.0</td>\n",
       "      <td>서울</td>\n",
       "      <td>68.0</td>\n",
       "      <td>0</td>\n",
       "      <td>NaN</td>\n",
       "      <td>ENFP</td>\n",
       "      <td>91.297791</td>\n",
       "    </tr>\n",
       "    <tr>\n",
       "      <th>97</th>\n",
       "      <td>id98</td>\n",
       "      <td>39.0</td>\n",
       "      <td>경기</td>\n",
       "      <td>58.0</td>\n",
       "      <td>2</td>\n",
       "      <td>NaN</td>\n",
       "      <td>INFP</td>\n",
       "      <td>91.297791</td>\n",
       "    </tr>\n",
       "    <tr>\n",
       "      <th>9</th>\n",
       "      <td>id10</td>\n",
       "      <td>95.0</td>\n",
       "      <td>서울</td>\n",
       "      <td>74.0</td>\n",
       "      <td>1</td>\n",
       "      <td>NaN</td>\n",
       "      <td>ISFP</td>\n",
       "      <td>91.297791</td>\n",
       "    </tr>\n",
       "    <tr>\n",
       "      <th>76</th>\n",
       "      <td>id77</td>\n",
       "      <td>77.0</td>\n",
       "      <td>경기</td>\n",
       "      <td>31.0</td>\n",
       "      <td>0</td>\n",
       "      <td>NaN</td>\n",
       "      <td>INFP</td>\n",
       "      <td>91.297791</td>\n",
       "    </tr>\n",
       "    <tr>\n",
       "      <th>98</th>\n",
       "      <td>id99</td>\n",
       "      <td>1.0</td>\n",
       "      <td>경기</td>\n",
       "      <td>47.0</td>\n",
       "      <td>0</td>\n",
       "      <td>NaN</td>\n",
       "      <td>ESFJ</td>\n",
       "      <td>91.297791</td>\n",
       "    </tr>\n",
       "    <tr>\n",
       "      <th>91</th>\n",
       "      <td>id92</td>\n",
       "      <td>97.0</td>\n",
       "      <td>경기</td>\n",
       "      <td>78.0</td>\n",
       "      <td>1</td>\n",
       "      <td>NaN</td>\n",
       "      <td>INFP</td>\n",
       "      <td>91.297791</td>\n",
       "    </tr>\n",
       "    <tr>\n",
       "      <th>86</th>\n",
       "      <td>id87</td>\n",
       "      <td>19.0</td>\n",
       "      <td>경기</td>\n",
       "      <td>NaN</td>\n",
       "      <td>1</td>\n",
       "      <td>NaN</td>\n",
       "      <td>ISFP</td>\n",
       "      <td>91.297791</td>\n",
       "    </tr>\n",
       "    <tr>\n",
       "      <th>71</th>\n",
       "      <td>id72</td>\n",
       "      <td>8.0</td>\n",
       "      <td>경기</td>\n",
       "      <td>97.0</td>\n",
       "      <td>0</td>\n",
       "      <td>NaN</td>\n",
       "      <td>ESTJ</td>\n",
       "      <td>91.297791</td>\n",
       "    </tr>\n",
       "    <tr>\n",
       "      <th>11</th>\n",
       "      <td>id12</td>\n",
       "      <td>20.0</td>\n",
       "      <td>서울</td>\n",
       "      <td>NaN</td>\n",
       "      <td>0</td>\n",
       "      <td>NaN</td>\n",
       "      <td>ESTP</td>\n",
       "      <td>91.297791</td>\n",
       "    </tr>\n",
       "    <tr>\n",
       "      <th>19</th>\n",
       "      <td>id20</td>\n",
       "      <td>11.0</td>\n",
       "      <td>서울</td>\n",
       "      <td>51.0</td>\n",
       "      <td>1</td>\n",
       "      <td>NaN</td>\n",
       "      <td>INTJ</td>\n",
       "      <td>91.297791</td>\n",
       "    </tr>\n",
       "  </tbody>\n",
       "</table>\n",
       "</div>"
      ],
      "text/plain": [
       "      id   age city    f1  f2   f3    f4         f5\n",
       "10  id11  40.0   서울  68.0   0  NaN  ENFP  91.297791\n",
       "97  id98  39.0   경기  58.0   2  NaN  INFP  91.297791\n",
       "9   id10  95.0   서울  74.0   1  NaN  ISFP  91.297791\n",
       "76  id77  77.0   경기  31.0   0  NaN  INFP  91.297791\n",
       "98  id99   1.0   경기  47.0   0  NaN  ESFJ  91.297791\n",
       "91  id92  97.0   경기  78.0   1  NaN  INFP  91.297791\n",
       "86  id87  19.0   경기   NaN   1  NaN  ISFP  91.297791\n",
       "71  id72   8.0   경기  97.0   0  NaN  ESTJ  91.297791\n",
       "11  id12  20.0   서울   NaN   0  NaN  ESTP  91.297791\n",
       "19  id20  11.0   서울  51.0   1  NaN  INTJ  91.297791"
      ]
     },
     "execution_count": 5,
     "metadata": {},
     "output_type": "execute_result"
    }
   ],
   "source": [
    "df['f5'][:10] = min\n",
    "df.head(10)"
   ]
  },
  {
   "cell_type": "code",
   "execution_count": 6,
   "id": "6df0a0e9",
   "metadata": {
    "execution": {
     "iopub.execute_input": "2022-06-14T07:21:25.111656Z",
     "iopub.status.busy": "2022-06-14T07:21:25.110980Z",
     "iopub.status.idle": "2022-06-14T07:21:25.114728Z",
     "shell.execute_reply": "2022-06-14T07:21:25.114183Z",
     "shell.execute_reply.started": "2022-06-14T06:28:24.832831Z"
    },
    "papermill": {
     "duration": 0.03258,
     "end_time": "2022-06-14T07:21:25.114882",
     "exception": false,
     "start_time": "2022-06-14T07:21:25.082302",
     "status": "completed"
    },
    "tags": []
   },
   "outputs": [
    {
     "name": "stdout",
     "output_type": "stream",
     "text": [
      "62.497747125217394\n"
     ]
    }
   ],
   "source": [
    "# 80세 이상의 f5컬럼 평균\n",
    "print(df[df['age']>=80]['f5'].mean())"
   ]
  },
  {
   "cell_type": "markdown",
   "id": "26a5d819",
   "metadata": {
    "papermill": {
     "duration": 0.022282,
     "end_time": "2022-06-14T07:21:25.159618",
     "exception": false,
     "start_time": "2022-06-14T07:21:25.137336",
     "status": "completed"
    },
    "tags": []
   },
   "source": [
    "## 문제2\n",
    "- 데이터셋(basic1.csv)의 앞에서 순서대로 70% 데이터만 활용해서,\n",
    "- 'f1'컬럼 결측치를 중앙값으로 채우기 전후의 표준편차를 구하고\n",
    "- 두 표준편차 차이 계산하기"
   ]
  },
  {
   "cell_type": "code",
   "execution_count": 7,
   "id": "171fa361",
   "metadata": {
    "execution": {
     "iopub.execute_input": "2022-06-14T07:21:25.212501Z",
     "iopub.status.busy": "2022-06-14T07:21:25.211853Z",
     "iopub.status.idle": "2022-06-14T07:21:25.222439Z",
     "shell.execute_reply": "2022-06-14T07:21:25.222991Z",
     "shell.execute_reply.started": "2022-06-14T07:09:02.282995Z"
    },
    "papermill": {
     "duration": 0.040923,
     "end_time": "2022-06-14T07:21:25.223163",
     "exception": false,
     "start_time": "2022-06-14T07:21:25.182240",
     "status": "completed"
    },
    "tags": []
   },
   "outputs": [
    {
     "data": {
      "text/plain": [
       "3.2965018033960725"
      ]
     },
     "execution_count": 7,
     "metadata": {},
     "output_type": "execute_result"
    }
   ],
   "source": [
    "# 내 풀이\n",
    "import pandas as pd\n",
    "import numpy as np\n",
    "\n",
    "df = pd.read_csv('../input/bigdatacertificationkr/basic1.csv')\n",
    "\n",
    "df = df[:int(len(df)*0.7)]\n",
    "# df.isnull().sum()\n",
    "before_na = df['f1'].std()\n",
    "f1_median = df['f1'].median()\n",
    "df = df.fillna(f1_median)\n",
    "after_na = df['f1'].std()\n",
    "\n",
    "np.abs(after_na - before_na)"
   ]
  },
  {
   "cell_type": "code",
   "execution_count": 8,
   "id": "9d9d88c2",
   "metadata": {
    "execution": {
     "iopub.execute_input": "2022-06-14T07:21:25.286979Z",
     "iopub.status.busy": "2022-06-14T07:21:25.286288Z",
     "iopub.status.idle": "2022-06-14T07:21:25.290403Z",
     "shell.execute_reply": "2022-06-14T07:21:25.289879Z",
     "shell.execute_reply.started": "2022-06-14T07:08:45.729320Z"
    },
    "papermill": {
     "duration": 0.04422,
     "end_time": "2022-06-14T07:21:25.290541",
     "exception": false,
     "start_time": "2022-06-14T07:21:25.246321",
     "status": "completed"
    },
    "tags": []
   },
   "outputs": [
    {
     "data": {
      "text/html": [
       "<div>\n",
       "<style scoped>\n",
       "    .dataframe tbody tr th:only-of-type {\n",
       "        vertical-align: middle;\n",
       "    }\n",
       "\n",
       "    .dataframe tbody tr th {\n",
       "        vertical-align: top;\n",
       "    }\n",
       "\n",
       "    .dataframe thead th {\n",
       "        text-align: right;\n",
       "    }\n",
       "</style>\n",
       "<table border=\"1\" class=\"dataframe\">\n",
       "  <thead>\n",
       "    <tr style=\"text-align: right;\">\n",
       "      <th></th>\n",
       "      <th>id</th>\n",
       "      <th>age</th>\n",
       "      <th>city</th>\n",
       "      <th>f1</th>\n",
       "      <th>f2</th>\n",
       "      <th>f3</th>\n",
       "      <th>f4</th>\n",
       "      <th>f5</th>\n",
       "    </tr>\n",
       "  </thead>\n",
       "  <tbody>\n",
       "    <tr>\n",
       "      <th>65</th>\n",
       "      <td>id66</td>\n",
       "      <td>87.0</td>\n",
       "      <td>경기</td>\n",
       "      <td>68.0</td>\n",
       "      <td>1</td>\n",
       "      <td>68.0</td>\n",
       "      <td>ISFP</td>\n",
       "      <td>17.252986</td>\n",
       "    </tr>\n",
       "    <tr>\n",
       "      <th>66</th>\n",
       "      <td>id67</td>\n",
       "      <td>66.0</td>\n",
       "      <td>경기</td>\n",
       "      <td>52.0</td>\n",
       "      <td>1</td>\n",
       "      <td>68.0</td>\n",
       "      <td>ISFJ</td>\n",
       "      <td>73.586397</td>\n",
       "    </tr>\n",
       "    <tr>\n",
       "      <th>67</th>\n",
       "      <td>id68</td>\n",
       "      <td>35.0</td>\n",
       "      <td>경기</td>\n",
       "      <td>45.0</td>\n",
       "      <td>2</td>\n",
       "      <td>68.0</td>\n",
       "      <td>ISFP</td>\n",
       "      <td>67.886373</td>\n",
       "    </tr>\n",
       "    <tr>\n",
       "      <th>68</th>\n",
       "      <td>id69</td>\n",
       "      <td>75.0</td>\n",
       "      <td>경기</td>\n",
       "      <td>85.0</td>\n",
       "      <td>0</td>\n",
       "      <td>68.0</td>\n",
       "      <td>ESTJ</td>\n",
       "      <td>69.730313</td>\n",
       "    </tr>\n",
       "    <tr>\n",
       "      <th>69</th>\n",
       "      <td>id70</td>\n",
       "      <td>-9.0</td>\n",
       "      <td>경기</td>\n",
       "      <td>96.0</td>\n",
       "      <td>1</td>\n",
       "      <td>68.0</td>\n",
       "      <td>ISTP</td>\n",
       "      <td>48.431184</td>\n",
       "    </tr>\n",
       "  </tbody>\n",
       "</table>\n",
       "</div>"
      ],
      "text/plain": [
       "      id   age city    f1  f2    f3    f4         f5\n",
       "65  id66  87.0   경기  68.0   1  68.0  ISFP  17.252986\n",
       "66  id67  66.0   경기  52.0   1  68.0  ISFJ  73.586397\n",
       "67  id68  35.0   경기  45.0   2  68.0  ISFP  67.886373\n",
       "68  id69  75.0   경기  85.0   0  68.0  ESTJ  69.730313\n",
       "69  id70  -9.0   경기  96.0   1  68.0  ISTP  48.431184"
      ]
     },
     "execution_count": 8,
     "metadata": {},
     "output_type": "execute_result"
    }
   ],
   "source": [
    "# 데이터 나누기 방법1\n",
    "data70 = df.iloc[:70]\n",
    "data30 = df.iloc[70:]\n",
    "\n",
    "# [심화학습] 데이터 나누기 방법2\n",
    "# data70, data30 = np.split(df, [int(.7*len(df))])\n",
    "\n",
    "# [심화학습] 데이터 나누기 방법3 (랜덤으로 샘플링하라고 했을 때!!)\n",
    "# data70 = df.sample(frac = 0.7)\n",
    "# data70 = df.drop(data70.index)\n",
    "\n",
    "data70.tail()"
   ]
  },
  {
   "cell_type": "code",
   "execution_count": 9,
   "id": "df1f31c2",
   "metadata": {
    "execution": {
     "iopub.execute_input": "2022-06-14T07:21:25.347441Z",
     "iopub.status.busy": "2022-06-14T07:21:25.346759Z",
     "iopub.status.idle": "2022-06-14T07:21:25.350044Z",
     "shell.execute_reply": "2022-06-14T07:21:25.350529Z",
     "shell.execute_reply.started": "2022-06-14T07:08:46.512989Z"
    },
    "papermill": {
     "duration": 0.036695,
     "end_time": "2022-06-14T07:21:25.350700",
     "exception": false,
     "start_time": "2022-06-14T07:21:25.314005",
     "status": "completed"
    },
    "tags": []
   },
   "outputs": [
    {
     "data": {
      "text/plain": [
       "id      0\n",
       "age     0\n",
       "city    0\n",
       "f1      0\n",
       "f2      0\n",
       "f3      0\n",
       "f4      0\n",
       "f5      0\n",
       "dtype: int64"
      ]
     },
     "execution_count": 9,
     "metadata": {},
     "output_type": "execute_result"
    }
   ],
   "source": [
    "## 결측치 확인\n",
    "data70.isnull().sum()"
   ]
  },
  {
   "cell_type": "code",
   "execution_count": 10,
   "id": "7fe3d01b",
   "metadata": {
    "execution": {
     "iopub.execute_input": "2022-06-14T07:21:25.402935Z",
     "iopub.status.busy": "2022-06-14T07:21:25.402272Z",
     "iopub.status.idle": "2022-06-14T07:21:25.409114Z",
     "shell.execute_reply": "2022-06-14T07:21:25.408500Z",
     "shell.execute_reply.started": "2022-06-14T07:08:46.924458Z"
    },
    "papermill": {
     "duration": 0.034916,
     "end_time": "2022-06-14T07:21:25.409259",
     "exception": false,
     "start_time": "2022-06-14T07:21:25.374343",
     "status": "completed"
    },
    "tags": []
   },
   "outputs": [
    {
     "data": {
      "text/plain": [
       "14.690773995256688"
      ]
     },
     "execution_count": 10,
     "metadata": {},
     "output_type": "execute_result"
    }
   ],
   "source": [
    "## 결측치 채우기 전 f1컬럼 표준편자\n",
    "std1 = data70['f1'].std()\n",
    "std1"
   ]
  },
  {
   "cell_type": "code",
   "execution_count": 11,
   "id": "a0e2941b",
   "metadata": {
    "execution": {
     "iopub.execute_input": "2022-06-14T07:21:25.463592Z",
     "iopub.status.busy": "2022-06-14T07:21:25.460882Z",
     "iopub.status.idle": "2022-06-14T07:21:25.467900Z",
     "shell.execute_reply": "2022-06-14T07:21:25.467230Z",
     "shell.execute_reply.started": "2022-06-14T07:08:47.369628Z"
    },
    "papermill": {
     "duration": 0.034844,
     "end_time": "2022-06-14T07:21:25.468047",
     "exception": false,
     "start_time": "2022-06-14T07:21:25.433203",
     "status": "completed"
    },
    "tags": []
   },
   "outputs": [
    {
     "data": {
      "text/plain": [
       "68.0"
      ]
     },
     "execution_count": 11,
     "metadata": {},
     "output_type": "execute_result"
    }
   ],
   "source": [
    "## 중앙값 확인\n",
    "med=data70['f1'].median()\n",
    "med"
   ]
  },
  {
   "cell_type": "code",
   "execution_count": 12,
   "id": "8d7d5d1c",
   "metadata": {
    "execution": {
     "iopub.execute_input": "2022-06-14T07:21:25.524710Z",
     "iopub.status.busy": "2022-06-14T07:21:25.523998Z",
     "iopub.status.idle": "2022-06-14T07:21:25.529879Z",
     "shell.execute_reply": "2022-06-14T07:21:25.530382Z",
     "shell.execute_reply.started": "2022-06-14T07:08:47.878663Z"
    },
    "papermill": {
     "duration": 0.037232,
     "end_time": "2022-06-14T07:21:25.530567",
     "exception": false,
     "start_time": "2022-06-14T07:21:25.493335",
     "status": "completed"
    },
    "tags": []
   },
   "outputs": [],
   "source": [
    "## 중앙값으로 채우기\n",
    "data70['f1'] = data70['f1'].fillna(med)\n",
    "\n",
    "## 다른 방법들\n",
    "# data70['f1']= data70['f1'].replace(np.nan, med)\n",
    "# data70 = data70.fillna(value=med)"
   ]
  },
  {
   "cell_type": "code",
   "execution_count": 13,
   "id": "0da64974",
   "metadata": {
    "execution": {
     "iopub.execute_input": "2022-06-14T07:21:25.588885Z",
     "iopub.status.busy": "2022-06-14T07:21:25.588214Z",
     "iopub.status.idle": "2022-06-14T07:21:25.590913Z",
     "shell.execute_reply": "2022-06-14T07:21:25.591482Z",
     "shell.execute_reply.started": "2022-06-14T07:08:49.936419Z"
    },
    "papermill": {
     "duration": 0.036705,
     "end_time": "2022-06-14T07:21:25.591662",
     "exception": false,
     "start_time": "2022-06-14T07:21:25.554957",
     "status": "completed"
    },
    "tags": []
   },
   "outputs": [
    {
     "data": {
      "text/plain": [
       "id      0\n",
       "age     0\n",
       "city    0\n",
       "f1      0\n",
       "f2      0\n",
       "f3      0\n",
       "f4      0\n",
       "f5      0\n",
       "dtype: int64"
      ]
     },
     "execution_count": 13,
     "metadata": {},
     "output_type": "execute_result"
    }
   ],
   "source": [
    "## 결측치 확인\n",
    "data70.isnull().sum()"
   ]
  },
  {
   "cell_type": "code",
   "execution_count": 14,
   "id": "f982c5ae",
   "metadata": {
    "execution": {
     "iopub.execute_input": "2022-06-14T07:21:25.646000Z",
     "iopub.status.busy": "2022-06-14T07:21:25.645307Z",
     "iopub.status.idle": "2022-06-14T07:21:25.650384Z",
     "shell.execute_reply": "2022-06-14T07:21:25.651114Z",
     "shell.execute_reply.started": "2022-06-14T07:08:51.179152Z"
    },
    "papermill": {
     "duration": 0.03441,
     "end_time": "2022-06-14T07:21:25.651312",
     "exception": false,
     "start_time": "2022-06-14T07:21:25.616902",
     "status": "completed"
    },
    "tags": []
   },
   "outputs": [
    {
     "data": {
      "text/plain": [
       "14.690773995256688"
      ]
     },
     "execution_count": 14,
     "metadata": {},
     "output_type": "execute_result"
    }
   ],
   "source": [
    "## 결측치를 채운 후 표준편차 구하기\n",
    "std2 = data70['f1'].std()\n",
    "std2"
   ]
  },
  {
   "cell_type": "code",
   "execution_count": 15,
   "id": "79e0657f",
   "metadata": {
    "execution": {
     "iopub.execute_input": "2022-06-14T07:21:25.716290Z",
     "iopub.status.busy": "2022-06-14T07:21:25.715394Z",
     "iopub.status.idle": "2022-06-14T07:21:25.718837Z",
     "shell.execute_reply": "2022-06-14T07:21:25.719324Z",
     "shell.execute_reply.started": "2022-06-14T07:08:52.457333Z"
    },
    "papermill": {
     "duration": 0.038869,
     "end_time": "2022-06-14T07:21:25.719491",
     "exception": false,
     "start_time": "2022-06-14T07:21:25.680622",
     "status": "completed"
    },
    "tags": []
   },
   "outputs": [
    {
     "name": "stdout",
     "output_type": "stream",
     "text": [
      "0.0\n"
     ]
    }
   ],
   "source": [
    "print(std1-std2)"
   ]
  },
  {
   "cell_type": "markdown",
   "id": "034fbcff",
   "metadata": {
    "papermill": {
     "duration": 0.026062,
     "end_time": "2022-06-14T07:21:25.771921",
     "exception": false,
     "start_time": "2022-06-14T07:21:25.745859",
     "status": "completed"
    },
    "tags": []
   },
   "source": [
    "## 문제3\n",
    "- 데이터셋(basic1.csv)의 'age'컬럼의 이상치를 더하시오!\n",
    "- 단, 평균으로부터 '표준편차*1.5'를 벗어나는 영역을 이상치라고 판단함"
   ]
  },
  {
   "cell_type": "code",
   "execution_count": 16,
   "id": "e215dc4d",
   "metadata": {
    "execution": {
     "iopub.execute_input": "2022-06-14T07:21:25.841067Z",
     "iopub.status.busy": "2022-06-14T07:21:25.840266Z",
     "iopub.status.idle": "2022-06-14T07:21:25.857669Z",
     "shell.execute_reply": "2022-06-14T07:21:25.858424Z",
     "shell.execute_reply.started": "2022-06-14T07:16:41.202331Z"
    },
    "papermill": {
     "duration": 0.056329,
     "end_time": "2022-06-14T07:21:25.858676",
     "exception": false,
     "start_time": "2022-06-14T07:21:25.802347",
     "status": "completed"
    },
    "tags": []
   },
   "outputs": [
    {
     "data": {
      "text/plain": [
       "473.5"
      ]
     },
     "execution_count": 16,
     "metadata": {},
     "output_type": "execute_result"
    }
   ],
   "source": [
    "# 내 풀이\n",
    "\n",
    "import pandas as pd\n",
    "\n",
    "df = pd.read_csv('../input/bigdatacertificationkr/basic1.csv')\n",
    "\n",
    "outlier_plus = df['age'].mean() + df['age'].std()*1.5\n",
    "outlier_minus = df['age'].mean() - df['age'].std()*1.5\n",
    "\n",
    "df[(df['age']>outlier_plus) | (df['age']<outlier_minus)]['age'].sum()"
   ]
  },
  {
   "cell_type": "code",
   "execution_count": 17,
   "id": "8ccdf5da",
   "metadata": {
    "execution": {
     "iopub.execute_input": "2022-06-14T07:21:25.931206Z",
     "iopub.status.busy": "2022-06-14T07:21:25.930388Z",
     "iopub.status.idle": "2022-06-14T07:21:25.940979Z",
     "shell.execute_reply": "2022-06-14T07:21:25.941505Z",
     "shell.execute_reply.started": "2022-06-14T07:16:45.602717Z"
    },
    "papermill": {
     "duration": 0.042131,
     "end_time": "2022-06-14T07:21:25.941702",
     "exception": false,
     "start_time": "2022-06-14T07:21:25.899571",
     "status": "completed"
    },
    "tags": []
   },
   "outputs": [],
   "source": [
    "# 라이브러리 및 데이터 불러오기\n",
    "import pandas as pd\n",
    "import numpy as np\n",
    "\n",
    "df = pd.read_csv('../input/bigdatacertificationkr/basic1.csv')"
   ]
  },
  {
   "cell_type": "code",
   "execution_count": 18,
   "id": "7ac19b37",
   "metadata": {
    "execution": {
     "iopub.execute_input": "2022-06-14T07:21:26.014763Z",
     "iopub.status.busy": "2022-06-14T07:21:26.013770Z",
     "iopub.status.idle": "2022-06-14T07:21:26.020545Z",
     "shell.execute_reply": "2022-06-14T07:21:26.021155Z",
     "shell.execute_reply.started": "2022-06-14T07:16:46.069564Z"
    },
    "papermill": {
     "duration": 0.046769,
     "end_time": "2022-06-14T07:21:26.021349",
     "exception": false,
     "start_time": "2022-06-14T07:21:25.974580",
     "status": "completed"
    },
    "tags": []
   },
   "outputs": [
    {
     "name": "stdout",
     "output_type": "stream",
     "text": [
      "5.527756578730639 96.39824342126937\n"
     ]
    }
   ],
   "source": [
    "std = np.std(df['age']) * 1.5\n",
    "mean = df['age'].mean()\n",
    "\n",
    "min_out = mean - std\n",
    "max_out = mean + std\n",
    "print(min_out, max_out)"
   ]
  },
  {
   "cell_type": "code",
   "execution_count": 19,
   "id": "ec8f34ef",
   "metadata": {
    "execution": {
     "iopub.execute_input": "2022-06-14T07:21:26.090647Z",
     "iopub.status.busy": "2022-06-14T07:21:26.089653Z",
     "iopub.status.idle": "2022-06-14T07:21:26.095432Z",
     "shell.execute_reply": "2022-06-14T07:21:26.096073Z",
     "shell.execute_reply.started": "2022-06-14T07:16:46.592188Z"
    },
    "papermill": {
     "duration": 0.045157,
     "end_time": "2022-06-14T07:21:26.096269",
     "exception": false,
     "start_time": "2022-06-14T07:21:26.051112",
     "status": "completed"
    },
    "tags": []
   },
   "outputs": [
    {
     "data": {
      "text/plain": [
       "473.5"
      ]
     },
     "execution_count": 19,
     "metadata": {},
     "output_type": "execute_result"
    }
   ],
   "source": [
    "# 이상치 age합\n",
    "df[(df['age']>max_out)|(df['age']<min_out)]['age'].sum()\n",
    "\n",
    "# 다르게 작성방법\n",
    "# df.loc[(df['age'] > max)]['age'].sum() + df.loc[(df['age']< min)]['age'].sum()"
   ]
  },
  {
   "cell_type": "code",
   "execution_count": null,
   "id": "42c78c5f",
   "metadata": {
    "papermill": {
     "duration": 0.026727,
     "end_time": "2022-06-14T07:21:26.150017",
     "exception": false,
     "start_time": "2022-06-14T07:21:26.123290",
     "status": "completed"
    },
    "tags": []
   },
   "outputs": [],
   "source": []
  }
 ],
 "metadata": {
  "kernelspec": {
   "display_name": "Python 3",
   "language": "python",
   "name": "python3"
  },
  "language_info": {
   "codemirror_mode": {
    "name": "ipython",
    "version": 3
   },
   "file_extension": ".py",
   "mimetype": "text/x-python",
   "name": "python",
   "nbconvert_exporter": "python",
   "pygments_lexer": "ipython3",
   "version": "3.7.10"
  },
  "papermill": {
   "default_parameters": {},
   "duration": 11.940759,
   "end_time": "2022-06-14T07:21:27.515021",
   "environment_variables": {},
   "exception": null,
   "input_path": "__notebook__.ipynb",
   "output_path": "__notebook__.ipynb",
   "parameters": {},
   "start_time": "2022-06-14T07:21:15.574262",
   "version": "2.3.3"
  }
 },
 "nbformat": 4,
 "nbformat_minor": 5
}
