{
 "cells": [
  {
   "cell_type": "markdown",
   "id": "0d4700a9",
   "metadata": {
    "papermill": {
     "duration": 0.005347,
     "end_time": "2022-06-18T06:14:28.042046",
     "exception": false,
     "start_time": "2022-06-18T06:14:28.036699",
     "status": "completed"
    },
    "tags": []
   },
   "source": [
    "## 1. 첫번째 데이터 부터 순서대로 50:50으로 데이터를 나누고, 앞에서 부터 50%의 데이터(이하, A그룹)는 'f1'컬럼의 결측치를 A그룹의 중앙값으로 채우고, 뒤에서부터 50% 데이터(이하, B그룹)는 'f1'컬럼의 결측치를 B그룹의 최대값으로 채운 후, A그룹과 B그룹의 표준편차 합을 구하시오\n",
    "### 단, 소수점 첫째자리까지 구하시오 (둘째자리에서 반올림)"
   ]
  },
  {
   "cell_type": "code",
   "execution_count": 1,
   "id": "f6ef7d1f",
   "metadata": {
    "execution": {
     "iopub.execute_input": "2022-06-18T06:14:28.057615Z",
     "iopub.status.busy": "2022-06-18T06:14:28.055704Z",
     "iopub.status.idle": "2022-06-18T06:14:28.096239Z",
     "shell.execute_reply": "2022-06-18T06:14:28.096757Z",
     "shell.execute_reply.started": "2022-06-18T06:11:37.755446Z"
    },
    "papermill": {
     "duration": 0.050133,
     "end_time": "2022-06-18T06:14:28.097061",
     "exception": false,
     "start_time": "2022-06-18T06:14:28.046928",
     "status": "completed"
    },
    "tags": []
   },
   "outputs": [
    {
     "name": "stdout",
     "output_type": "stream",
     "text": [
      "42.0\n"
     ]
    },
    {
     "name": "stderr",
     "output_type": "stream",
     "text": [
      "/opt/conda/lib/python3.7/site-packages/ipykernel_launcher.py:14: SettingWithCopyWarning: \n",
      "A value is trying to be set on a copy of a slice from a DataFrame.\n",
      "Try using .loc[row_indexer,col_indexer] = value instead\n",
      "\n",
      "See the caveats in the documentation: https://pandas.pydata.org/pandas-docs/stable/user_guide/indexing.html#returning-a-view-versus-a-copy\n",
      "  \n",
      "/opt/conda/lib/python3.7/site-packages/ipykernel_launcher.py:15: SettingWithCopyWarning: \n",
      "A value is trying to be set on a copy of a slice from a DataFrame.\n",
      "Try using .loc[row_indexer,col_indexer] = value instead\n",
      "\n",
      "See the caveats in the documentation: https://pandas.pydata.org/pandas-docs/stable/user_guide/indexing.html#returning-a-view-versus-a-copy\n",
      "  from ipykernel import kernelapp as app\n"
     ]
    }
   ],
   "source": [
    "import pandas as pd\n",
    "\n",
    "df = pd.read_csv(\"../input/bigdatacertificationkr/basic1.csv\")\n",
    "df.head()\n",
    "\n",
    "A = df[:int(len(df)/2)]\n",
    "B = df[int(len(df)/2):]\n",
    "\n",
    "# print(len(A), len(B))\n",
    "\n",
    "A_median = A.f1.median()\n",
    "B_max = B.f1.max()\n",
    "\n",
    "A['f1'] = A['f1'].fillna(A_median)\n",
    "B['f1'] = B['f1'].fillna(B_max)\n",
    "\n",
    "print(round(A.f1.std()+B.f1.std(),1))"
   ]
  },
  {
   "cell_type": "markdown",
   "id": "c985aa1a",
   "metadata": {
    "papermill": {
     "duration": 0.004755,
     "end_time": "2022-06-18T06:14:28.107051",
     "exception": false,
     "start_time": "2022-06-18T06:14:28.102296",
     "status": "completed"
    },
    "tags": []
   },
   "source": [
    "## 2. 'f4'컬럼을 기준 내림차순 정렬과 'f5'컬럼기준 오름차순 정렬을 순서대로 다중 조건 정렬하고나서 앞에서부터 10개의 데이터 중 'f5'컬럼의 최소값 찾고, 이 최소값으로 앞에서 부터 10개의 'f5'컬럼 데이터를 변경함. 그리고 'f5'컬럼의 평균값을 계산함\n",
    "### 단 소수점 둘째자리까지 출력(셋째자리에서 반올림)"
   ]
  },
  {
   "cell_type": "code",
   "execution_count": 2,
   "id": "7fa3a183",
   "metadata": {
    "execution": {
     "iopub.execute_input": "2022-06-18T06:14:28.120845Z",
     "iopub.status.busy": "2022-06-18T06:14:28.119853Z",
     "iopub.status.idle": "2022-06-18T06:14:28.144032Z",
     "shell.execute_reply": "2022-06-18T06:14:28.144572Z",
     "shell.execute_reply.started": "2022-06-18T06:08:31.105924Z"
    },
    "papermill": {
     "duration": 0.032724,
     "end_time": "2022-06-18T06:14:28.144759",
     "exception": false,
     "start_time": "2022-06-18T06:14:28.112035",
     "status": "completed"
    },
    "tags": []
   },
   "outputs": [
    {
     "name": "stdout",
     "output_type": "stream",
     "text": [
      "53.63\n"
     ]
    },
    {
     "name": "stderr",
     "output_type": "stream",
     "text": [
      "/opt/conda/lib/python3.7/site-packages/ipykernel_launcher.py:13: SettingWithCopyWarning: \n",
      "A value is trying to be set on a copy of a slice from a DataFrame.\n",
      "Try using .loc[row_indexer,col_indexer] = value instead\n",
      "\n",
      "See the caveats in the documentation: https://pandas.pydata.org/pandas-docs/stable/user_guide/indexing.html#returning-a-view-versus-a-copy\n",
      "  del sys.path[0]\n"
     ]
    }
   ],
   "source": [
    "import pandas as pd\n",
    "\n",
    "df = pd.read_csv(\"../input/bigdatacertificationkr/basic1.csv\")\n",
    "# print(df.head())\n",
    "\n",
    "df1 = df.sort_values(by = ['f4', 'f5'], ascending = [False, True])\n",
    "# print(df1.head())\n",
    "\n",
    "f5_min = df1[:10]['f5'].min()\n",
    "# print(df1[:10])\n",
    "# print(f5_min)\n",
    "\n",
    "df1[:10]['f5'] = f5_min\n",
    "print(round(df1.f5.mean(),2))"
   ]
  },
  {
   "cell_type": "markdown",
   "id": "7dd3ede0",
   "metadata": {
    "papermill": {
     "duration": 0.005225,
     "end_time": "2022-06-18T06:14:28.158012",
     "exception": false,
     "start_time": "2022-06-18T06:14:28.152787",
     "status": "completed"
    },
    "tags": []
   },
   "source": [
    "## 3. 'age' 컬럼의 IQR방식을 이용한 이상치 수와 표준편차*1.5방식을 이용한 이상치 수 합을 구하시오\n",
    "- IQR방식 : Q1 - 1.5 * IQR, Q3 + 1.5 * IQR에서 벗어나는 영역을 이상치라고 판단함 (Q1은 데이터의 25%, Q3는 데이터의 75% 지점임)\n",
    "- 표준편차*1.5방식: 평균으로부터 '표준편차*1.5'를 벗어나는 영역을 이상치라고 판단함"
   ]
  },
  {
   "cell_type": "code",
   "execution_count": 3,
   "id": "2d2b3e62",
   "metadata": {
    "execution": {
     "iopub.execute_input": "2022-06-18T06:14:28.177033Z",
     "iopub.status.busy": "2022-06-18T06:14:28.175955Z",
     "iopub.status.idle": "2022-06-18T06:14:28.187291Z",
     "shell.execute_reply": "2022-06-18T06:14:28.188203Z",
     "shell.execute_reply.started": "2022-06-18T06:07:35.254468Z"
    },
    "papermill": {
     "duration": 0.024972,
     "end_time": "2022-06-18T06:14:28.188528",
     "exception": false,
     "start_time": "2022-06-18T06:14:28.163556",
     "status": "completed"
    },
    "tags": []
   },
   "outputs": [
    {
     "name": "stdout",
     "output_type": "stream",
     "text": [
      "14\n"
     ]
    }
   ],
   "source": [
    "import pandas as pd\n",
    "\n",
    "df = pd.read_csv(\"../input/bigdatacertificationkr/basic1.csv\")\n",
    "df.head()\n",
    "\n",
    "# IQR method\n",
    "\n",
    "Q1 = df.age.quantile(0.25)\n",
    "Q3 = df.age.quantile(0.75)\n",
    "IQR = Q3 - Q1\n",
    "\n",
    "IQR_lower = Q1 - IQR * 1.5\n",
    "IQR_upper = Q3 + IQR * 1.5\n",
    "\n",
    "IQR_outlier = len(df[(df['age']>IQR_upper) | (df['age']<IQR_lower)])\n",
    "\n",
    "# STD method\n",
    "\n",
    "mean = df.age.mean()\n",
    "std = df.age.std()\n",
    "\n",
    "STD_lower = mean - std*1.5\n",
    "STD_upper = mean + std*1.5\n",
    "\n",
    "STD_outlier = len(df[(df['age']>STD_upper) | (df['age']<STD_lower)])\n",
    "\n",
    "print(IQR_outlier+STD_outlier)\n",
    "\n"
   ]
  }
 ],
 "metadata": {
  "kernelspec": {
   "display_name": "Python 3",
   "language": "python",
   "name": "python3"
  },
  "language_info": {
   "codemirror_mode": {
    "name": "ipython",
    "version": 3
   },
   "file_extension": ".py",
   "mimetype": "text/x-python",
   "name": "python",
   "nbconvert_exporter": "python",
   "pygments_lexer": "ipython3",
   "version": "3.7.10"
  },
  "papermill": {
   "default_parameters": {},
   "duration": 10.383478,
   "end_time": "2022-06-18T06:14:28.806054",
   "environment_variables": {},
   "exception": null,
   "input_path": "__notebook__.ipynb",
   "output_path": "__notebook__.ipynb",
   "parameters": {},
   "start_time": "2022-06-18T06:14:18.422576",
   "version": "2.3.3"
  }
 },
 "nbformat": 4,
 "nbformat_minor": 5
}
