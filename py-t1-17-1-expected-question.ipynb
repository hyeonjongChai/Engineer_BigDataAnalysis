{
 "cells": [
  {
   "cell_type": "markdown",
   "id": "f0ad4ad9",
   "metadata": {
    "_cell_guid": "8ff7b472-fc18-4b53-90bc-b4efe5de3917",
    "_uuid": "b10ce964-3eb1-4bbf-a14d-e6e2400b77eb",
    "papermill": {
     "duration": 0.003948,
     "end_time": "2022-06-16T07:47:33.094963",
     "exception": false,
     "start_time": "2022-06-16T07:47:33.091015",
     "status": "completed"
    },
    "tags": []
   },
   "source": [
    "### 2022년 5월 sales의 중앙값을 구하시오\n",
    "\n",
    "- 데이터셋 : basic2.csv \n",
    "- 오른쪽 상단 copy&edit 클릭 -> 예상문제 풀이 시작"
   ]
  },
  {
   "cell_type": "code",
   "execution_count": 1,
   "id": "c9662275",
   "metadata": {
    "_cell_guid": "f77443c8-f008-4817-9bd3-6871869e3c6e",
    "_uuid": "29b6201f-0ee2-433f-ba20-b6278b86a3fa",
    "collapsed": false,
    "execution": {
     "iopub.execute_input": "2022-06-16T07:47:33.106015Z",
     "iopub.status.busy": "2022-06-16T07:47:33.104714Z",
     "iopub.status.idle": "2022-06-16T07:47:33.145820Z",
     "shell.execute_reply": "2022-06-16T07:47:33.144527Z",
     "shell.execute_reply.started": "2022-06-16T07:46:48.173216Z"
    },
    "jupyter": {
     "outputs_hidden": false
    },
    "papermill": {
     "duration": 0.047625,
     "end_time": "2022-06-16T07:47:33.146000",
     "exception": false,
     "start_time": "2022-06-16T07:47:33.098375",
     "status": "completed"
    },
    "tags": []
   },
   "outputs": [
    {
     "name": "stdout",
     "output_type": "stream",
     "text": [
      "1477685.0\n"
     ]
    }
   ],
   "source": [
    "import pandas as pd\n",
    "\n",
    "df = pd.read_csv(\"../input/bigdatacertificationkr/basic2.csv\")\n",
    "# print(df.head())\n",
    "\n",
    "df['Date'] = pd.to_datetime(df['Date'])\n",
    "df['Date'].dt.year\n",
    "\n",
    "condition = (df['Date'].dt.year == 2022) & (df['Date'].dt.month == 5)\n",
    "print(df[condition]['Sales'].median())"
   ]
  }
 ],
 "metadata": {
  "kernelspec": {
   "display_name": "Python 3",
   "language": "python",
   "name": "python3"
  },
  "language_info": {
   "codemirror_mode": {
    "name": "ipython",
    "version": 3
   },
   "file_extension": ".py",
   "mimetype": "text/x-python",
   "name": "python",
   "nbconvert_exporter": "python",
   "pygments_lexer": "ipython3",
   "version": "3.7.10"
  },
  "papermill": {
   "default_parameters": {},
   "duration": 9.575475,
   "end_time": "2022-06-16T07:47:33.659186",
   "environment_variables": {},
   "exception": null,
   "input_path": "__notebook__.ipynb",
   "output_path": "__notebook__.ipynb",
   "parameters": {},
   "start_time": "2022-06-16T07:47:24.083711",
   "version": "2.3.3"
  }
 },
 "nbformat": 4,
 "nbformat_minor": 5
}
