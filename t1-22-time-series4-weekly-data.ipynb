{
 "cells": [
  {
   "cell_type": "markdown",
   "id": "5d68a468",
   "metadata": {
    "_cell_guid": "b1076dfc-b9ad-4769-8c92-a6c4dae69d19",
    "_uuid": "8f2839f25d086af736a60e9eeb907d3b93b6e0e5",
    "papermill": {
     "duration": 0.004789,
     "end_time": "2022-06-17T05:09:46.320617",
     "exception": false,
     "start_time": "2022-06-17T05:09:46.315828",
     "status": "completed"
    },
    "tags": []
   },
   "source": [
    "### 주어진 데이터(basic2.csv)에서 주 단위 Sales의 합계를 구하고, 가장 큰 값을 가진 주와 작은 값을 가진 주의 차이를 구하시오(절대값)\n",
    "- 데이터셋 : basic2.csv\n",
    "- 오른쪽 상단 copy&edit 클릭 -> 예상문제 풀이 시작"
   ]
  },
  {
   "cell_type": "code",
   "execution_count": 1,
   "id": "27121f27",
   "metadata": {
    "execution": {
     "iopub.execute_input": "2022-06-17T05:09:46.338129Z",
     "iopub.status.busy": "2022-06-17T05:09:46.331262Z",
     "iopub.status.idle": "2022-06-17T05:09:46.391053Z",
     "shell.execute_reply": "2022-06-17T05:09:46.389899Z",
     "shell.execute_reply.started": "2022-06-17T05:08:47.296270Z"
    },
    "papermill": {
     "duration": 0.066855,
     "end_time": "2022-06-17T05:09:46.391256",
     "exception": false,
     "start_time": "2022-06-17T05:09:46.324401",
     "status": "completed"
    },
    "tags": []
   },
   "outputs": [
    {
     "name": "stdout",
     "output_type": "stream",
     "text": [
      "91639050\n"
     ]
    }
   ],
   "source": [
    "import pandas as pd\n",
    "\n",
    "df = pd.read_csv(\"../input/bigdatacertificationkr/basic2.csv\", parse_dates=['Date'], index_col = 0)\n",
    "df.head()\n",
    "\n",
    "df_w = df.resample('W').sum() # 시간단위 집계\n",
    "df_w.head()\n",
    "\n",
    "print(df_w['Sales'].max() - df_w['Sales'].min())"
   ]
  }
 ],
 "metadata": {
  "kernelspec": {
   "display_name": "Python 3",
   "language": "python",
   "name": "python3"
  },
  "language_info": {
   "codemirror_mode": {
    "name": "ipython",
    "version": 3
   },
   "file_extension": ".py",
   "mimetype": "text/x-python",
   "name": "python",
   "nbconvert_exporter": "python",
   "pygments_lexer": "ipython3",
   "version": "3.7.10"
  },
  "papermill": {
   "default_parameters": {},
   "duration": 10.813415,
   "end_time": "2022-06-17T05:09:47.304230",
   "environment_variables": {},
   "exception": null,
   "input_path": "__notebook__.ipynb",
   "output_path": "__notebook__.ipynb",
   "parameters": {},
   "start_time": "2022-06-17T05:09:36.490815",
   "version": "2.3.3"
  }
 },
 "nbformat": 4,
 "nbformat_minor": 5
}
