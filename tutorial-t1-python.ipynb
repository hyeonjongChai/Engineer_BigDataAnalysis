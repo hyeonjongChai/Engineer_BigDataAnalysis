{
 "cells": [
  {
   "cell_type": "markdown",
   "id": "d794dbba",
   "metadata": {
    "papermill": {
     "duration": 0.003934,
     "end_time": "2022-06-14T07:35:53.689125",
     "exception": false,
     "start_time": "2022-06-14T07:35:53.685191",
     "status": "completed"
    },
    "tags": []
   },
   "source": [
    "# 작업형1 예시문제\n",
    "자동차 데이터 셋에서 qsec 컬럼을 Min-Max Scale로 변환 후 0.5보다 큰 값을 가지는 레코드(row) 수를 묻는 문제입니다.\n",
    "- data 출처: https://www.kaggle.com/ruiromanini/mtcars\n",
    "- data 추가방법 : 우측 메뉴 -> +Add data -> mtcar(ruiromanini) ADD\n",
    "- 영상 링크 : https://youtu.be/E86QFVXPm5Q"
   ]
  },
  {
   "cell_type": "code",
   "execution_count": 1,
   "id": "3306aae7",
   "metadata": {
    "execution": {
     "iopub.execute_input": "2022-06-14T07:35:53.701627Z",
     "iopub.status.busy": "2022-06-14T07:35:53.699820Z",
     "iopub.status.idle": "2022-06-14T07:35:54.662850Z",
     "shell.execute_reply": "2022-06-14T07:35:54.662187Z",
     "shell.execute_reply.started": "2022-06-14T07:35:17.947270Z"
    },
    "papermill": {
     "duration": 0.970678,
     "end_time": "2022-06-14T07:35:54.663046",
     "exception": false,
     "start_time": "2022-06-14T07:35:53.692368",
     "status": "completed"
    },
    "tags": []
   },
   "outputs": [
    {
     "data": {
      "text/plain": [
       "9"
      ]
     },
     "execution_count": 1,
     "metadata": {},
     "output_type": "execute_result"
    }
   ],
   "source": [
    "# 내 풀이\n",
    "\n",
    "import pandas as pd\n",
    "# import numpy as np\n",
    "from sklearn.preprocessing import minmax_scale\n",
    "\n",
    "data = pd.read_csv('../input/mtcars/mtcars.csv')\n",
    "# print(data['qsec'][:10])\n",
    "data['qsec'] = minmax_scale(data['qsec'])\n",
    "# print(data['qsec'][:10])\n",
    "\n",
    "len(data[data['qsec'] > 0.5])"
   ]
  }
 ],
 "metadata": {
  "kernelspec": {
   "display_name": "Python 3",
   "language": "python",
   "name": "python3"
  },
  "language_info": {
   "codemirror_mode": {
    "name": "ipython",
    "version": 3
   },
   "file_extension": ".py",
   "mimetype": "text/x-python",
   "name": "python",
   "nbconvert_exporter": "python",
   "pygments_lexer": "ipython3",
   "version": "3.7.10"
  },
  "papermill": {
   "default_parameters": {},
   "duration": 10.477144,
   "end_time": "2022-06-14T07:35:55.277091",
   "environment_variables": {},
   "exception": null,
   "input_path": "__notebook__.ipynb",
   "output_path": "__notebook__.ipynb",
   "parameters": {},
   "start_time": "2022-06-14T07:35:44.799947",
   "version": "2.3.3"
  }
 },
 "nbformat": 4,
 "nbformat_minor": 5
}
