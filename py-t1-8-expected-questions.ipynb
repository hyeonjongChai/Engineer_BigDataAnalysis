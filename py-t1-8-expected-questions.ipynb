{
 "cells": [
  {
   "cell_type": "markdown",
   "id": "f8d87273",
   "metadata": {
    "papermill": {
     "duration": 0.012923,
     "end_time": "2022-06-16T04:49:15.913859",
     "exception": false,
     "start_time": "2022-06-16T04:49:15.900936",
     "status": "completed"
    },
    "tags": []
   },
   "source": [
    "### 주어진 데이터 셋에서 'f2' 컬럼이 1인 조건에 해당하는 데이터의 'f1'컬럼 누적합을 계산한다. 이때 발생하는 누적합 결측치는 바로 뒤의 값을 채우고, 누적합의 평균값을 출력한다. (단, 결측치 바로 뒤의 값이 없으면 다음에 나오는 값을 채워넣는다)\n",
    "\n",
    "- 데이터셋 : basic1.csv\n",
    "- 오른쪽 상단 copy&edit 클릭 -> 예상문제 풀이 시작"
   ]
  },
  {
   "cell_type": "code",
   "execution_count": 1,
   "id": "53e15859",
   "metadata": {
    "execution": {
     "iopub.execute_input": "2022-06-16T04:49:15.936201Z",
     "iopub.status.busy": "2022-06-16T04:49:15.934841Z",
     "iopub.status.idle": "2022-06-16T04:49:15.987046Z",
     "shell.execute_reply": "2022-06-16T04:49:15.987601Z",
     "shell.execute_reply.started": "2022-06-16T04:48:20.826961Z"
    },
    "papermill": {
     "duration": 0.065427,
     "end_time": "2022-06-16T04:49:15.987972",
     "exception": false,
     "start_time": "2022-06-16T04:49:15.922545",
     "status": "completed"
    },
    "tags": []
   },
   "outputs": [
    {
     "name": "stdout",
     "output_type": "stream",
     "text": [
      "1       70.0\n",
      "2      131.0\n",
      "6      191.0\n",
      "7      292.0\n",
      "9      366.0\n",
      "13     416.0\n",
      "14     483.0\n",
      "16       NaN\n",
      "19     534.0\n",
      "20       NaN\n",
      "21     606.0\n",
      "22     681.0\n",
      "25     738.0\n",
      "27     772.0\n",
      "33       NaN\n",
      "35     849.0\n",
      "37       NaN\n",
      "46     924.0\n",
      "49    1002.0\n",
      "51    1084.0\n",
      "53       NaN\n",
      "55       NaN\n",
      "58       NaN\n",
      "62    1170.0\n",
      "65       NaN\n",
      "66    1222.0\n",
      "69    1318.0\n",
      "72       NaN\n",
      "77    1414.0\n",
      "80    1464.0\n",
      "82    1514.0\n",
      "86       NaN\n",
      "88    1580.0\n",
      "91    1658.0\n",
      "93       NaN\n",
      "94    1701.0\n",
      "95    1754.0\n",
      "Name: f1, dtype: float64\n"
     ]
    },
    {
     "data": {
      "text/plain": [
       "980.3783783783783"
      ]
     },
     "execution_count": 1,
     "metadata": {},
     "output_type": "execute_result"
    }
   ],
   "source": [
    "import pandas as pd\n",
    "import numpy as np\n",
    "\n",
    "df = pd.read_csv('../input/bigdatacertificationkr/basic1.csv')\n",
    "\n",
    "f1_cumsum = df[df['f2']==1]['f1'].cumsum()\n",
    "print(f1_cumsum)\n",
    "\n",
    "f1_cumsum = f1_cumsum.fillna(method='bfill')\n",
    "mean_f1_cumsum = f1_cumsum.mean()\n",
    "# mean_f1_cumsum = f1_cumsum.sum()/len(f1_cumsum)\n",
    "mean_f1_cumsum"
   ]
  },
  {
   "cell_type": "markdown",
   "id": "b1f524f9",
   "metadata": {
    "papermill": {
     "duration": 0.00833,
     "end_time": "2022-06-16T04:49:16.005386",
     "exception": false,
     "start_time": "2022-06-16T04:49:15.997056",
     "status": "completed"
    },
    "tags": []
   },
   "source": [
    "## Hint"
   ]
  },
  {
   "cell_type": "code",
   "execution_count": 2,
   "id": "4cfcb72a",
   "metadata": {
    "execution": {
     "iopub.execute_input": "2022-06-16T04:49:16.028328Z",
     "iopub.status.busy": "2022-06-16T04:49:16.027524Z",
     "iopub.status.idle": "2022-06-16T04:49:16.040962Z",
     "shell.execute_reply": "2022-06-16T04:49:16.042247Z",
     "shell.execute_reply.started": "2021-10-15T04:52:09.22491Z"
    },
    "papermill": {
     "duration": 0.027321,
     "end_time": "2022-06-16T04:49:16.042547",
     "exception": false,
     "start_time": "2022-06-16T04:49:16.015226",
     "status": "completed"
    },
    "tags": []
   },
   "outputs": [
    {
     "name": "stdout",
     "output_type": "stream",
     "text": [
      "0     NaN\n",
      "1     퇴근후\n",
      "2     NaN\n",
      "3      딴짓\n",
      "4     NaN\n",
      "5      22\n",
      "6     NaN\n",
      "7      45\n",
      "8     NaN\n",
      "9     NaN\n",
      "10     60\n",
      "dtype: object\n"
     ]
    },
    {
     "data": {
      "text/plain": [
       "0     퇴근후\n",
       "1     퇴근후\n",
       "2      딴짓\n",
       "3      딴짓\n",
       "4      22\n",
       "5      22\n",
       "6      45\n",
       "7      45\n",
       "8      60\n",
       "9      60\n",
       "10     60\n",
       "dtype: object"
      ]
     },
     "execution_count": 2,
     "metadata": {},
     "output_type": "execute_result"
    }
   ],
   "source": [
    "import pandas as pd\n",
    "import numpy as np\n",
    "\n",
    "# 뒷값으로 결측치 채우기\n",
    "s = pd.Series([np.nan, \"퇴근후\", np.nan,\"딴짓\", np.nan, 22, np.nan,45, np.nan, np.nan, 60])\n",
    "print(s)\n",
    "\n",
    "s.fillna(method='bfill') # 바로 뒤값으로 채워넣는 방법\n",
    "# s.fillna(method='pad') # 이전값으로 채워넣는 방법"
   ]
  },
  {
   "cell_type": "markdown",
   "id": "e199af03",
   "metadata": {
    "papermill": {
     "duration": 0.009052,
     "end_time": "2022-06-16T04:49:16.061590",
     "exception": false,
     "start_time": "2022-06-16T04:49:16.052538",
     "status": "completed"
    },
    "tags": []
   },
   "source": [
    "## 풀이"
   ]
  },
  {
   "cell_type": "code",
   "execution_count": 3,
   "id": "f9fc326d",
   "metadata": {
    "_cell_guid": "b1076dfc-b9ad-4769-8c92-a6c4dae69d19",
    "_uuid": "8f2839f25d086af736a60e9eeb907d3b93b6e0e5",
    "execution": {
     "iopub.execute_input": "2022-06-16T04:49:16.087312Z",
     "iopub.status.busy": "2022-06-16T04:49:16.086551Z",
     "iopub.status.idle": "2022-06-16T04:49:16.108987Z",
     "shell.execute_reply": "2022-06-16T04:49:16.108403Z",
     "shell.execute_reply.started": "2022-06-16T04:46:23.725216Z"
    },
    "papermill": {
     "duration": 0.038158,
     "end_time": "2022-06-16T04:49:16.109152",
     "exception": false,
     "start_time": "2022-06-16T04:49:16.070994",
     "status": "completed"
    },
    "tags": []
   },
   "outputs": [
    {
     "data": {
      "text/html": [
       "<div>\n",
       "<style scoped>\n",
       "    .dataframe tbody tr th:only-of-type {\n",
       "        vertical-align: middle;\n",
       "    }\n",
       "\n",
       "    .dataframe tbody tr th {\n",
       "        vertical-align: top;\n",
       "    }\n",
       "\n",
       "    .dataframe thead th {\n",
       "        text-align: right;\n",
       "    }\n",
       "</style>\n",
       "<table border=\"1\" class=\"dataframe\">\n",
       "  <thead>\n",
       "    <tr style=\"text-align: right;\">\n",
       "      <th></th>\n",
       "      <th>id</th>\n",
       "      <th>age</th>\n",
       "      <th>city</th>\n",
       "      <th>f1</th>\n",
       "      <th>f2</th>\n",
       "      <th>f3</th>\n",
       "      <th>f4</th>\n",
       "      <th>f5</th>\n",
       "    </tr>\n",
       "  </thead>\n",
       "  <tbody>\n",
       "    <tr>\n",
       "      <th>0</th>\n",
       "      <td>id01</td>\n",
       "      <td>2.0</td>\n",
       "      <td>서울</td>\n",
       "      <td>NaN</td>\n",
       "      <td>0</td>\n",
       "      <td>NaN</td>\n",
       "      <td>ENFJ</td>\n",
       "      <td>91.297791</td>\n",
       "    </tr>\n",
       "    <tr>\n",
       "      <th>1</th>\n",
       "      <td>id02</td>\n",
       "      <td>9.0</td>\n",
       "      <td>서울</td>\n",
       "      <td>70.0</td>\n",
       "      <td>1</td>\n",
       "      <td>NaN</td>\n",
       "      <td>ENFJ</td>\n",
       "      <td>60.339826</td>\n",
       "    </tr>\n",
       "  </tbody>\n",
       "</table>\n",
       "</div>"
      ],
      "text/plain": [
       "     id  age city    f1  f2   f3    f4         f5\n",
       "0  id01  2.0   서울   NaN   0  NaN  ENFJ  91.297791\n",
       "1  id02  9.0   서울  70.0   1  NaN  ENFJ  60.339826"
      ]
     },
     "execution_count": 3,
     "metadata": {},
     "output_type": "execute_result"
    }
   ],
   "source": [
    "# 라이브러리 및 데이터 불러오기\n",
    "import pandas as pd\n",
    "import numpy as np\n",
    "\n",
    "df = pd.read_csv('../input/bigdatacertificationkr/basic1.csv')\n",
    "df.head(2)"
   ]
  },
  {
   "cell_type": "code",
   "execution_count": 4,
   "id": "0f6600e3",
   "metadata": {
    "execution": {
     "iopub.execute_input": "2022-06-16T04:49:16.142232Z",
     "iopub.status.busy": "2022-06-16T04:49:16.141102Z",
     "iopub.status.idle": "2022-06-16T04:49:16.145301Z",
     "shell.execute_reply": "2022-06-16T04:49:16.144699Z",
     "shell.execute_reply.started": "2022-06-16T04:46:24.166073Z"
    },
    "papermill": {
     "duration": 0.026179,
     "end_time": "2022-06-16T04:49:16.145670",
     "exception": false,
     "start_time": "2022-06-16T04:49:16.119491",
     "status": "completed"
    },
    "tags": []
   },
   "outputs": [
    {
     "data": {
      "text/plain": [
       "1       70.0\n",
       "2      131.0\n",
       "6      191.0\n",
       "7      292.0\n",
       "9      366.0\n",
       "13     416.0\n",
       "14     483.0\n",
       "16       NaN\n",
       "19     534.0\n",
       "20       NaN\n",
       "21     606.0\n",
       "22     681.0\n",
       "25     738.0\n",
       "27     772.0\n",
       "33       NaN\n",
       "35     849.0\n",
       "37       NaN\n",
       "46     924.0\n",
       "49    1002.0\n",
       "51    1084.0\n",
       "53       NaN\n",
       "55       NaN\n",
       "58       NaN\n",
       "62    1170.0\n",
       "65       NaN\n",
       "66    1222.0\n",
       "69    1318.0\n",
       "72       NaN\n",
       "77    1414.0\n",
       "80    1464.0\n",
       "82    1514.0\n",
       "86       NaN\n",
       "88    1580.0\n",
       "91    1658.0\n",
       "93       NaN\n",
       "94    1701.0\n",
       "95    1754.0\n",
       "Name: f1, dtype: float64"
      ]
     },
     "execution_count": 4,
     "metadata": {},
     "output_type": "execute_result"
    }
   ],
   "source": [
    "# 조건에 따른 누적합\n",
    "df2 = df[df['f2']==1]['f1'].cumsum()\n",
    "df2"
   ]
  },
  {
   "cell_type": "code",
   "execution_count": 5,
   "id": "d77b9e44",
   "metadata": {
    "execution": {
     "iopub.execute_input": "2022-06-16T04:49:16.175114Z",
     "iopub.status.busy": "2022-06-16T04:49:16.173951Z",
     "iopub.status.idle": "2022-06-16T04:49:16.185288Z",
     "shell.execute_reply": "2022-06-16T04:49:16.184687Z",
     "shell.execute_reply.started": "2022-06-16T04:46:24.752980Z"
    },
    "papermill": {
     "duration": 0.026501,
     "end_time": "2022-06-16T04:49:16.185492",
     "exception": false,
     "start_time": "2022-06-16T04:49:16.158991",
     "status": "completed"
    },
    "tags": []
   },
   "outputs": [
    {
     "data": {
      "text/plain": [
       "1       70.0\n",
       "2      131.0\n",
       "6      191.0\n",
       "7      292.0\n",
       "9      366.0\n",
       "13     416.0\n",
       "14     483.0\n",
       "16     534.0\n",
       "19     534.0\n",
       "20     606.0\n",
       "21     606.0\n",
       "22     681.0\n",
       "25     738.0\n",
       "27     772.0\n",
       "33     849.0\n",
       "35     849.0\n",
       "37     924.0\n",
       "46     924.0\n",
       "49    1002.0\n",
       "51    1084.0\n",
       "53    1170.0\n",
       "55    1170.0\n",
       "58    1170.0\n",
       "62    1170.0\n",
       "65    1222.0\n",
       "66    1222.0\n",
       "69    1318.0\n",
       "72    1414.0\n",
       "77    1414.0\n",
       "80    1464.0\n",
       "82    1514.0\n",
       "86    1580.0\n",
       "88    1580.0\n",
       "91    1658.0\n",
       "93    1701.0\n",
       "94    1701.0\n",
       "95    1754.0\n",
       "Name: f1, dtype: float64"
      ]
     },
     "execution_count": 5,
     "metadata": {},
     "output_type": "execute_result"
    }
   ],
   "source": [
    "# 결측치 처리 (뒤에 나오는 값으로 채움)\n",
    "df2 = df2.fillna(method = 'bfill')\n",
    "df2"
   ]
  },
  {
   "cell_type": "code",
   "execution_count": 6,
   "id": "f323db8f",
   "metadata": {
    "execution": {
     "iopub.execute_input": "2022-06-16T04:49:16.213130Z",
     "iopub.status.busy": "2022-06-16T04:49:16.211700Z",
     "iopub.status.idle": "2022-06-16T04:49:16.218379Z",
     "shell.execute_reply": "2022-06-16T04:49:16.219166Z",
     "shell.execute_reply.started": "2022-06-16T04:46:29.361372Z"
    },
    "papermill": {
     "duration": 0.022493,
     "end_time": "2022-06-16T04:49:16.219460",
     "exception": false,
     "start_time": "2022-06-16T04:49:16.196967",
     "status": "completed"
    },
    "tags": []
   },
   "outputs": [
    {
     "name": "stdout",
     "output_type": "stream",
     "text": [
      "980.3783783783783\n"
     ]
    }
   ],
   "source": [
    "# 평균 출력\n",
    "print(df2.mean())"
   ]
  }
 ],
 "metadata": {
  "kernelspec": {
   "display_name": "Python 3",
   "language": "python",
   "name": "python3"
  },
  "language_info": {
   "codemirror_mode": {
    "name": "ipython",
    "version": 3
   },
   "file_extension": ".py",
   "mimetype": "text/x-python",
   "name": "python",
   "nbconvert_exporter": "python",
   "pygments_lexer": "ipython3",
   "version": "3.7.10"
  },
  "papermill": {
   "default_parameters": {},
   "duration": 11.949171,
   "end_time": "2022-06-16T04:49:17.050661",
   "environment_variables": {},
   "exception": null,
   "input_path": "__notebook__.ipynb",
   "output_path": "__notebook__.ipynb",
   "parameters": {},
   "start_time": "2022-06-16T04:49:05.101490",
   "version": "2.3.3"
  }
 },
 "nbformat": 4,
 "nbformat_minor": 5
}
