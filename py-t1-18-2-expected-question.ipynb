{
 "cells": [
  {
   "cell_type": "markdown",
   "id": "ba4b18b5",
   "metadata": {
    "papermill": {
     "duration": 0.003814,
     "end_time": "2022-06-16T07:59:22.348525",
     "exception": false,
     "start_time": "2022-06-16T07:59:22.344711",
     "status": "completed"
    },
    "tags": []
   },
   "source": [
    "## 주어진 데이터에서 2022년 5월 주말과 평일의 sales컬럼 평균값 차이를 구하시오 (소수점 둘째자리까지 출력, 반올림)\n",
    "- 데이터셋 : basic2.csv\n",
    "- 오른쪽 상단 copy&edit 클릭 -> 예상문제 풀이 시작"
   ]
  },
  {
   "cell_type": "code",
   "execution_count": 1,
   "id": "c43e5d2f",
   "metadata": {
    "_cell_guid": "b1076dfc-b9ad-4769-8c92-a6c4dae69d19",
    "_uuid": "8f2839f25d086af736a60e9eeb907d3b93b6e0e5",
    "execution": {
     "iopub.execute_input": "2022-06-16T07:59:22.360421Z",
     "iopub.status.busy": "2022-06-16T07:59:22.358616Z",
     "iopub.status.idle": "2022-06-16T07:59:22.411670Z",
     "shell.execute_reply": "2022-06-16T07:59:22.410779Z",
     "shell.execute_reply.started": "2022-06-16T07:57:55.127365Z"
    },
    "papermill": {
     "duration": 0.060319,
     "end_time": "2022-06-16T07:59:22.411887",
     "exception": false,
     "start_time": "2022-06-16T07:59:22.351568",
     "status": "completed"
    },
    "tags": []
   },
   "outputs": [
    {
     "data": {
      "text/plain": [
       "3010339.1"
      ]
     },
     "execution_count": 1,
     "metadata": {},
     "output_type": "execute_result"
    }
   ],
   "source": [
    "import pandas as pd\n",
    "\n",
    "df = pd.read_csv(\"../input/bigdatacertificationkr/basic2.csv\", parse_dates=['Date'])\n",
    "# df.info()\n",
    "\n",
    "weekday_condition = (df['Date'].dt.year == 2022) & (df['Date'].dt.month == 5) & (df['Date'].dt.weekday<5)\n",
    "weekend_condition = (df['Date'].dt.year == 2022) & (df['Date'].dt.month == 5) & (df['Date'].dt.weekday>=5)\n",
    "\n",
    "round(df[weekend_condition]['Sales'].mean() - df[weekday_condition]['Sales'].mean(),2)\n"
   ]
  }
 ],
 "metadata": {
  "kernelspec": {
   "display_name": "Python 3",
   "language": "python",
   "name": "python3"
  },
  "language_info": {
   "codemirror_mode": {
    "name": "ipython",
    "version": 3
   },
   "file_extension": ".py",
   "mimetype": "text/x-python",
   "name": "python",
   "nbconvert_exporter": "python",
   "pygments_lexer": "ipython3",
   "version": "3.7.10"
  },
  "papermill": {
   "default_parameters": {},
   "duration": 10.501834,
   "end_time": "2022-06-16T07:59:23.026370",
   "environment_variables": {},
   "exception": null,
   "input_path": "__notebook__.ipynb",
   "output_path": "__notebook__.ipynb",
   "parameters": {},
   "start_time": "2022-06-16T07:59:12.524536",
   "version": "2.3.3"
  }
 },
 "nbformat": 4,
 "nbformat_minor": 5
}
