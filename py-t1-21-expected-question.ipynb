{
 "cells": [
  {
   "cell_type": "markdown",
   "id": "0b285b39",
   "metadata": {
    "papermill": {
     "duration": 0.00401,
     "end_time": "2022-06-17T04:54:55.967611",
     "exception": false,
     "start_time": "2022-06-17T04:54:55.963601",
     "status": "completed"
    },
    "tags": []
   },
   "source": [
    "## 나이 구간 나누기\n",
    "###  basic1 데이터 중 'age'컬럼 이상치를 제거하고, 동일한 개수로 나이 순으로 3그룹으로 나눈 뒤 각 그룹의 중앙값을 더하시오\n",
    "### (이상치는 음수(0포함), 소수점 값)\n",
    "- data: basic1.csv\n",
    "- 오른쪽 상단 copy&edit 클릭 -> 예상문제 풀이 시작\n"
   ]
  },
  {
   "cell_type": "code",
   "execution_count": 1,
   "id": "6e002ee8",
   "metadata": {
    "_cell_guid": "b1076dfc-b9ad-4769-8c92-a6c4dae69d19",
    "_uuid": "8f2839f25d086af736a60e9eeb907d3b93b6e0e5",
    "execution": {
     "iopub.execute_input": "2022-06-17T04:54:55.979456Z",
     "iopub.status.busy": "2022-06-17T04:54:55.978173Z",
     "iopub.status.idle": "2022-06-17T04:54:56.029503Z",
     "shell.execute_reply": "2022-06-17T04:54:56.030054Z",
     "shell.execute_reply.started": "2022-06-17T04:54:21.699491Z"
    },
    "papermill": {
     "duration": 0.058624,
     "end_time": "2022-06-17T04:54:56.030371",
     "exception": false,
     "start_time": "2022-06-17T04:54:55.971747",
     "status": "completed"
    },
    "tags": []
   },
   "outputs": [
    {
     "name": "stdout",
     "output_type": "stream",
     "text": [
      "165.0\n"
     ]
    }
   ],
   "source": [
    "import pandas as pd\n",
    "\n",
    "df = pd.read_csv('../input/bigdatacertificationkr/basic1.csv')\n",
    "\n",
    "df.head()\n",
    "# help(df.drop)\n",
    "\n",
    "drop_index = list(df[(df['age']<=0) | (df['age']%1 != 0)].index)\n",
    "# print(drop_index)\n",
    "\n",
    "df1 = df.drop(index = drop_index, axis=0)\n",
    "\n",
    "df1['group'] = pd.qcut(df1['age'],3, labels = ['G1', 'G2', 'G3'])\n",
    "df1['group'].value_counts()\n",
    "\n",
    "G1_median = df1[df1['group']=='G1']['age'].median()\n",
    "G2_median = df1[df1['group']=='G2']['age'].median()\n",
    "G3_median = df1[df1['group']=='G3']['age'].median()\n",
    "\n",
    "\n",
    "print(G1_median+G2_median+G3_median)"
   ]
  }
 ],
 "metadata": {
  "kernelspec": {
   "display_name": "Python 3",
   "language": "python",
   "name": "python3"
  },
  "language_info": {
   "codemirror_mode": {
    "name": "ipython",
    "version": 3
   },
   "file_extension": ".py",
   "mimetype": "text/x-python",
   "name": "python",
   "nbconvert_exporter": "python",
   "pygments_lexer": "ipython3",
   "version": "3.7.10"
  },
  "papermill": {
   "default_parameters": {},
   "duration": 10.524577,
   "end_time": "2022-06-17T04:54:56.644836",
   "environment_variables": {},
   "exception": null,
   "input_path": "__notebook__.ipynb",
   "output_path": "__notebook__.ipynb",
   "parameters": {},
   "start_time": "2022-06-17T04:54:46.120259",
   "version": "2.3.3"
  }
 },
 "nbformat": 4,
 "nbformat_minor": 5
}
