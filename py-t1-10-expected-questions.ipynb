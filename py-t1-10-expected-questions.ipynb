{
 "cells": [
  {
   "cell_type": "markdown",
   "id": "3a0440d8",
   "metadata": {
    "_cell_guid": "bd579399-ebd1-4cfe-a033-152f41abc7fc",
    "_uuid": "b6f19569-5166-43ad-b34a-f410a6ffd8cb",
    "papermill": {
     "duration": 0.017621,
     "end_time": "2022-06-16T05:37:02.640677",
     "exception": false,
     "start_time": "2022-06-16T05:37:02.623056",
     "status": "completed"
    },
    "tags": []
   },
   "source": [
    "# 수치형 변수 변환하기\n",
    "\n",
    "\n",
    "### 주어진 데이터에서 20세 이상인 데이터를 추출하고 'f1'컬럼을 결측치를 최빈값으로 채운 후, f1 컬럼의 여-존슨과 박스콕스 변환 값을 구하고, 두 값의 차이를 절대값으로 구한다음 모두 더해 소수점 둘째 자리까지 출력(반올림)하시오\n",
    "- 데이터셋 : basic1.csv\n",
    "- 오른쪽 상단 copy&edit 클릭 -> 예상문제 풀이 시작"
   ]
  },
  {
   "cell_type": "markdown",
   "id": "c6ce4c6c",
   "metadata": {
    "_cell_guid": "71860b32-60e4-47a1-a09d-48e113489186",
    "_uuid": "9bea1b2f-f72d-42f4-b39c-0e649b0eee51",
    "papermill": {
     "duration": 0.013126,
     "end_time": "2022-06-16T05:37:02.667557",
     "exception": false,
     "start_time": "2022-06-16T05:37:02.654431",
     "status": "completed"
    },
    "tags": []
   },
   "source": [
    "### 박스-콕스\n",
    "![박스-콕스](https://wikimedia.org/api/rest_v1/media/math/render/svg/b565ae8f1cce1e4035e2a36213b8c9ce34b5029d)\n",
    "\n",
    "### 여-존슨\n",
    "![여-존슨](https://wikimedia.org/api/rest_v1/media/math/render/svg/2a99e24c81226f3d0547c471281197ea265553c5)"
   ]
  },
  {
   "cell_type": "code",
   "execution_count": 1,
   "id": "04435ab4",
   "metadata": {
    "_cell_guid": "9e277339-3a95-4188-ad59-f687c4d5bc6e",
    "_uuid": "3193df53-66ed-47ec-9e65-4b73566706d8",
    "collapsed": false,
    "execution": {
     "iopub.execute_input": "2022-06-16T05:37:02.705238Z",
     "iopub.status.busy": "2022-06-16T05:37:02.704105Z",
     "iopub.status.idle": "2022-06-16T05:37:03.720257Z",
     "shell.execute_reply": "2022-06-16T05:37:03.720843Z",
     "shell.execute_reply.started": "2022-06-16T05:35:22.076157Z"
    },
    "jupyter": {
     "outputs_hidden": false
    },
    "papermill": {
     "duration": 1.040107,
     "end_time": "2022-06-16T05:37:03.721223",
     "exception": false,
     "start_time": "2022-06-16T05:37:02.681116",
     "status": "completed"
    },
    "tags": []
   },
   "outputs": [
    {
     "data": {
      "text/plain": [
       "39.17"
      ]
     },
     "execution_count": 1,
     "metadata": {},
     "output_type": "execute_result"
    }
   ],
   "source": [
    "# 라이브러리 및 데이터 불러오기\n",
    "import pandas as pd\n",
    "import numpy as np\n",
    "import sklearn\n",
    "from sklearn.preprocessing import PowerTransformer\n",
    "\n",
    "df = pd.read_csv('../input/bigdatacertificationkr/basic1.csv')\n",
    "df.head(5)\n",
    "\n",
    "# help(PowerTransformer)\n",
    "transformer_1 = PowerTransformer(standardize= False)\n",
    "transformer_2 = PowerTransformer(method = 'box-cox', standardize=False)\n",
    "\n",
    "df1 = df[df['age']>=20]\n",
    "df2 = df1.fillna(df1['f1'].mode()[0])\n",
    "\n",
    "f1_trans1 = transformer_1.fit_transform(df2[['f1']])\n",
    "f1_trans2 = transformer_2.fit_transform(df2[['f1']])\n",
    "\n",
    "round(np.abs(f1_trans1-f1_trans2).sum(),2)\n",
    "\n",
    "\n"
   ]
  },
  {
   "cell_type": "markdown",
   "id": "f0dc0b1e",
   "metadata": {
    "_cell_guid": "4f2bab8e-a50f-486d-b0db-d49136a7ffb1",
    "_uuid": "8cf0503a-eaed-494d-8ce0-94d1ec4659db",
    "papermill": {
     "duration": 0.013836,
     "end_time": "2022-06-16T05:37:03.750130",
     "exception": false,
     "start_time": "2022-06-16T05:37:03.736294",
     "status": "completed"
    },
    "tags": []
   },
   "source": [
    "## Hint\n",
    "- https://scikit-learn.org/stable/modules/generated/sklearn.preprocessing.power_transform.html"
   ]
  },
  {
   "cell_type": "code",
   "execution_count": 2,
   "id": "362f1dfa",
   "metadata": {
    "_cell_guid": "5b7fff53-4fee-40ab-a8ef-2f44b92ce74e",
    "_uuid": "ff10f7b6-2ebd-470f-b244-a8c9489c806a",
    "collapsed": false,
    "execution": {
     "iopub.execute_input": "2022-06-16T05:37:03.796362Z",
     "iopub.status.busy": "2022-06-16T05:37:03.789136Z",
     "iopub.status.idle": "2022-06-16T05:37:03.801108Z",
     "shell.execute_reply": "2022-06-16T05:37:03.800372Z",
     "shell.execute_reply.started": "2021-10-21T00:17:29.742291Z"
    },
    "jupyter": {
     "outputs_hidden": false
    },
    "papermill": {
     "duration": 0.037177,
     "end_time": "2022-06-16T05:37:03.801273",
     "exception": false,
     "start_time": "2022-06-16T05:37:03.764096",
     "status": "completed"
    },
    "tags": []
   },
   "outputs": [
    {
     "name": "stdout",
     "output_type": "stream",
     "text": [
      "[[-1.27332767 -1.24414502]\n",
      " [ 0.10376846  0.03976901]\n",
      " [ 1.16955921  1.20437601]]\n",
      "[[-1.27548765 -1.24611441]\n",
      " [ 0.1087368   0.04392064]\n",
      " [ 1.16675085  1.20219377]]\n"
     ]
    }
   ],
   "source": [
    "from sklearn.preprocessing import power_transform\n",
    "data = [[11, 12], [23, 22], [34, 35]]\n",
    "print(power_transform(data)) # method 디폴트 값은 여-존슨’yeo-johnson’\n",
    "print(power_transform(data, method='box-cox'))"
   ]
  },
  {
   "cell_type": "markdown",
   "id": "9ef1c1bc",
   "metadata": {
    "_cell_guid": "43f402aa-3357-4cf5-9034-a90861b31a83",
    "_uuid": "f893e6f7-c8f8-420e-860d-839dcbd959d8",
    "papermill": {
     "duration": 0.014539,
     "end_time": "2022-06-16T05:37:03.830665",
     "exception": false,
     "start_time": "2022-06-16T05:37:03.816126",
     "status": "completed"
    },
    "tags": []
   },
   "source": [
    "## 풀이"
   ]
  },
  {
   "cell_type": "code",
   "execution_count": 3,
   "id": "c05b661a",
   "metadata": {
    "_cell_guid": "528ac482-f187-4ff6-9468-4f2c523ca4f2",
    "_uuid": "11e44259-59d4-4a27-9c01-a152c7dacb0c",
    "collapsed": false,
    "execution": {
     "iopub.execute_input": "2022-06-16T05:37:03.865739Z",
     "iopub.status.busy": "2022-06-16T05:37:03.864741Z",
     "iopub.status.idle": "2022-06-16T05:37:03.891848Z",
     "shell.execute_reply": "2022-06-16T05:37:03.891292Z",
     "shell.execute_reply.started": "2022-06-16T05:32:02.231154Z"
    },
    "jupyter": {
     "outputs_hidden": false
    },
    "papermill": {
     "duration": 0.046265,
     "end_time": "2022-06-16T05:37:03.892005",
     "exception": false,
     "start_time": "2022-06-16T05:37:03.845740",
     "status": "completed"
    },
    "tags": []
   },
   "outputs": [
    {
     "data": {
      "text/html": [
       "<div>\n",
       "<style scoped>\n",
       "    .dataframe tbody tr th:only-of-type {\n",
       "        vertical-align: middle;\n",
       "    }\n",
       "\n",
       "    .dataframe tbody tr th {\n",
       "        vertical-align: top;\n",
       "    }\n",
       "\n",
       "    .dataframe thead th {\n",
       "        text-align: right;\n",
       "    }\n",
       "</style>\n",
       "<table border=\"1\" class=\"dataframe\">\n",
       "  <thead>\n",
       "    <tr style=\"text-align: right;\">\n",
       "      <th></th>\n",
       "      <th>id</th>\n",
       "      <th>age</th>\n",
       "      <th>city</th>\n",
       "      <th>f1</th>\n",
       "      <th>f2</th>\n",
       "      <th>f3</th>\n",
       "      <th>f4</th>\n",
       "      <th>f5</th>\n",
       "    </tr>\n",
       "  </thead>\n",
       "  <tbody>\n",
       "    <tr>\n",
       "      <th>0</th>\n",
       "      <td>id01</td>\n",
       "      <td>2.0</td>\n",
       "      <td>서울</td>\n",
       "      <td>NaN</td>\n",
       "      <td>0</td>\n",
       "      <td>NaN</td>\n",
       "      <td>ENFJ</td>\n",
       "      <td>91.297791</td>\n",
       "    </tr>\n",
       "    <tr>\n",
       "      <th>1</th>\n",
       "      <td>id02</td>\n",
       "      <td>9.0</td>\n",
       "      <td>서울</td>\n",
       "      <td>70.0</td>\n",
       "      <td>1</td>\n",
       "      <td>NaN</td>\n",
       "      <td>ENFJ</td>\n",
       "      <td>60.339826</td>\n",
       "    </tr>\n",
       "    <tr>\n",
       "      <th>2</th>\n",
       "      <td>id03</td>\n",
       "      <td>27.0</td>\n",
       "      <td>서울</td>\n",
       "      <td>61.0</td>\n",
       "      <td>1</td>\n",
       "      <td>NaN</td>\n",
       "      <td>ISTJ</td>\n",
       "      <td>17.252986</td>\n",
       "    </tr>\n",
       "    <tr>\n",
       "      <th>3</th>\n",
       "      <td>id04</td>\n",
       "      <td>75.0</td>\n",
       "      <td>서울</td>\n",
       "      <td>NaN</td>\n",
       "      <td>2</td>\n",
       "      <td>NaN</td>\n",
       "      <td>INFP</td>\n",
       "      <td>52.667078</td>\n",
       "    </tr>\n",
       "    <tr>\n",
       "      <th>4</th>\n",
       "      <td>id05</td>\n",
       "      <td>24.0</td>\n",
       "      <td>서울</td>\n",
       "      <td>85.0</td>\n",
       "      <td>2</td>\n",
       "      <td>NaN</td>\n",
       "      <td>ISFJ</td>\n",
       "      <td>29.269869</td>\n",
       "    </tr>\n",
       "  </tbody>\n",
       "</table>\n",
       "</div>"
      ],
      "text/plain": [
       "     id   age city    f1  f2   f3    f4         f5\n",
       "0  id01   2.0   서울   NaN   0  NaN  ENFJ  91.297791\n",
       "1  id02   9.0   서울  70.0   1  NaN  ENFJ  60.339826\n",
       "2  id03  27.0   서울  61.0   1  NaN  ISTJ  17.252986\n",
       "3  id04  75.0   서울   NaN   2  NaN  INFP  52.667078\n",
       "4  id05  24.0   서울  85.0   2  NaN  ISFJ  29.269869"
      ]
     },
     "execution_count": 3,
     "metadata": {},
     "output_type": "execute_result"
    }
   ],
   "source": [
    "# 라이브러리 및 데이터 불러오기\n",
    "import pandas as pd\n",
    "import numpy as np\n",
    "from sklearn.preprocessing import power_transform\n",
    "\n",
    "df = pd.read_csv('../input/bigdatacertificationkr/basic1.csv')\n",
    "df.head(5)"
   ]
  },
  {
   "cell_type": "code",
   "execution_count": 4,
   "id": "ef961cf7",
   "metadata": {
    "_cell_guid": "6db016e9-beeb-4e24-b040-46eb08569933",
    "_uuid": "b24627cc-4a8a-48d6-bc1e-c57ac6fd73f8",
    "collapsed": false,
    "execution": {
     "iopub.execute_input": "2022-06-16T05:37:03.926735Z",
     "iopub.status.busy": "2022-06-16T05:37:03.925667Z",
     "iopub.status.idle": "2022-06-16T05:37:03.933736Z",
     "shell.execute_reply": "2022-06-16T05:37:03.934354Z",
     "shell.execute_reply.started": "2022-06-16T05:32:02.612172Z"
    },
    "jupyter": {
     "outputs_hidden": false
    },
    "papermill": {
     "duration": 0.02742,
     "end_time": "2022-06-16T05:37:03.934639",
     "exception": false,
     "start_time": "2022-06-16T05:37:03.907219",
     "status": "completed"
    },
    "tags": []
   },
   "outputs": [
    {
     "name": "stdout",
     "output_type": "stream",
     "text": [
      "조건 적용 전: (100, 8)\n",
      "조건 적용 후: (83, 8)\n"
     ]
    }
   ],
   "source": [
    "# 조건에 맞는 데이터\n",
    "print(\"조건 적용 전:\", df.shape)\n",
    "df = df[df['age']>=20]\n",
    "print(\"조건 적용 후:\", df.shape)"
   ]
  },
  {
   "cell_type": "code",
   "execution_count": 5,
   "id": "c96a5722",
   "metadata": {
    "_cell_guid": "5790de32-f87b-47bc-8fab-625efd5de6d4",
    "_uuid": "be2893e7-9d22-46c5-bf27-6d27b4672cb7",
    "collapsed": false,
    "execution": {
     "iopub.execute_input": "2022-06-16T05:37:03.973820Z",
     "iopub.status.busy": "2022-06-16T05:37:03.972966Z",
     "iopub.status.idle": "2022-06-16T05:37:03.990154Z",
     "shell.execute_reply": "2022-06-16T05:37:03.989315Z",
     "shell.execute_reply.started": "2022-06-16T05:32:03.302934Z"
    },
    "jupyter": {
     "outputs_hidden": false
    },
    "papermill": {
     "duration": 0.037555,
     "end_time": "2022-06-16T05:37:03.990379",
     "exception": false,
     "start_time": "2022-06-16T05:37:03.952824",
     "status": "completed"
    },
    "tags": []
   },
   "outputs": [
    {
     "name": "stdout",
     "output_type": "stream",
     "text": [
      "결측치 처리 전: \n",
      " id       0\n",
      "age      0\n",
      "city     0\n",
      "f1      26\n",
      "f2       0\n",
      "f3      78\n",
      "f4       0\n",
      "f5       0\n",
      "dtype: int64\n",
      "최빈값:  50.0\n",
      "결측치 처리 후: \n",
      " id       0\n",
      "age      0\n",
      "city     0\n",
      "f1       0\n",
      "f2       0\n",
      "f3      78\n",
      "f4       0\n",
      "f5       0\n",
      "dtype: int64\n"
     ]
    }
   ],
   "source": [
    "# 최빈값으로 'f1' 컬럼 결측치 대체\n",
    "print(\"결측치 처리 전: \\n\", df.isnull().sum())\n",
    "print(\"최빈값: \",df['f1'].mode()[0])\n",
    "df['f1'] = df['f1'].fillna(df['f1'].mode()[0])\n",
    "print(\"결측치 처리 후: \\n\", df.isnull().sum())"
   ]
  },
  {
   "cell_type": "code",
   "execution_count": 6,
   "id": "fd543c83",
   "metadata": {
    "_cell_guid": "810c3c26-677a-42cb-ab94-f724d9a6070f",
    "_uuid": "1128829e-e8cd-4cea-8bb2-89dc898ec1d2",
    "collapsed": false,
    "execution": {
     "iopub.execute_input": "2022-06-16T05:37:04.028976Z",
     "iopub.status.busy": "2022-06-16T05:37:04.028174Z",
     "iopub.status.idle": "2022-06-16T05:37:04.043782Z",
     "shell.execute_reply": "2022-06-16T05:37:04.044330Z",
     "shell.execute_reply.started": "2022-06-16T05:32:03.702624Z"
    },
    "jupyter": {
     "outputs_hidden": false
    },
    "papermill": {
     "duration": 0.037155,
     "end_time": "2022-06-16T05:37:04.044552",
     "exception": false,
     "start_time": "2022-06-16T05:37:04.007397",
     "status": "completed"
    },
    "tags": []
   },
   "outputs": [
    {
     "data": {
      "text/plain": [
       "2    0.101083\n",
       "3   -0.585402\n",
       "4    1.463459\n",
       "5   -0.143094\n",
       "6    0.040578\n",
       "Name: y, dtype: float64"
      ]
     },
     "execution_count": 6,
     "metadata": {},
     "output_type": "execute_result"
    }
   ],
   "source": [
    "# 'f1'데이터 여-존슨 yeo-johnson 값 구하기\n",
    "df['y'] = power_transform(df[['f1']]) # method 디폴트 값은 여-존슨’yeo-johnson’\n",
    "df['y'].head()"
   ]
  },
  {
   "cell_type": "code",
   "execution_count": 7,
   "id": "c5aafbf7",
   "metadata": {
    "_cell_guid": "f8bfbb10-9938-416e-a389-12d3585ec844",
    "_uuid": "c6b95447-8918-4a40-a09d-e81d28f01b5f",
    "collapsed": false,
    "execution": {
     "iopub.execute_input": "2022-06-16T05:37:04.094486Z",
     "iopub.status.busy": "2022-06-16T05:37:04.093384Z",
     "iopub.status.idle": "2022-06-16T05:37:04.097346Z",
     "shell.execute_reply": "2022-06-16T05:37:04.097837Z",
     "shell.execute_reply.started": "2022-06-16T05:32:04.350922Z"
    },
    "jupyter": {
     "outputs_hidden": false
    },
    "papermill": {
     "duration": 0.036349,
     "end_time": "2022-06-16T05:37:04.098047",
     "exception": false,
     "start_time": "2022-06-16T05:37:04.061698",
     "status": "completed"
    },
    "tags": []
   },
   "outputs": [
    {
     "data": {
      "text/plain": [
       "2    20.583423\n",
       "3    17.968081\n",
       "4    25.773745\n",
       "5    19.653167\n",
       "6    20.352915\n",
       "Name: y, dtype: float64"
      ]
     },
     "execution_count": 7,
     "metadata": {},
     "output_type": "execute_result"
    }
   ],
   "source": [
    "# 'f1'데이터 여-존슨 yeo-johnson 값 구하기\n",
    "df['y'] = power_transform(df[['f1']],standardize=False) # method 디폴트 값은 여-존슨’yeo-johnson’\n",
    "df['y'].head()"
   ]
  },
  {
   "cell_type": "code",
   "execution_count": 8,
   "id": "5bd0e341",
   "metadata": {
    "_cell_guid": "5d5f28f3-78e0-4aba-91d7-7c03d4fc865c",
    "_uuid": "3eff2258-62bb-42d3-b6f3-8a2092a6a0a8",
    "collapsed": false,
    "execution": {
     "iopub.execute_input": "2022-06-16T05:37:04.144882Z",
     "iopub.status.busy": "2022-06-16T05:37:04.137510Z",
     "iopub.status.idle": "2022-06-16T05:37:04.152801Z",
     "shell.execute_reply": "2022-06-16T05:37:04.152262Z",
     "shell.execute_reply.started": "2022-06-16T05:32:06.257722Z"
    },
    "jupyter": {
     "outputs_hidden": false
    },
    "papermill": {
     "duration": 0.037133,
     "end_time": "2022-06-16T05:37:04.152957",
     "exception": false,
     "start_time": "2022-06-16T05:37:04.115824",
     "status": "completed"
    },
    "tags": []
   },
   "outputs": [
    {
     "data": {
      "text/plain": [
       "2    0.100290\n",
       "3   -0.585656\n",
       "4    1.463969\n",
       "5   -0.143784\n",
       "6    0.039801\n",
       "Name: b, dtype: float64"
      ]
     },
     "execution_count": 8,
     "metadata": {},
     "output_type": "execute_result"
    }
   ],
   "source": [
    "# 'f1'데이터 박스-콕스 box-cox 값 구하기\n",
    "df['b'] = power_transform(df[['f1']], method='box-cox')\n",
    "df['b'].head()"
   ]
  },
  {
   "cell_type": "code",
   "execution_count": 9,
   "id": "8fc12083",
   "metadata": {
    "_cell_guid": "a67e93f8-e1d1-48fd-922f-f6c2caef6a43",
    "_uuid": "9fc9f156-2111-4f2d-988d-1aa0a124bec4",
    "collapsed": false,
    "execution": {
     "iopub.execute_input": "2022-06-16T05:37:04.201946Z",
     "iopub.status.busy": "2022-06-16T05:37:04.201106Z",
     "iopub.status.idle": "2022-06-16T05:37:04.205398Z",
     "shell.execute_reply": "2022-06-16T05:37:04.204804Z",
     "shell.execute_reply.started": "2022-06-16T05:32:06.891622Z"
    },
    "jupyter": {
     "outputs_hidden": false
    },
    "papermill": {
     "duration": 0.034707,
     "end_time": "2022-06-16T05:37:04.205556",
     "exception": false,
     "start_time": "2022-06-16T05:37:04.170849",
     "status": "completed"
    },
    "tags": []
   },
   "outputs": [
    {
     "data": {
      "text/plain": [
       "2    21.067090\n",
       "3    18.305263\n",
       "4    26.557680\n",
       "5    20.084373\n",
       "6    20.823545\n",
       "Name: b, dtype: float64"
      ]
     },
     "execution_count": 9,
     "metadata": {},
     "output_type": "execute_result"
    }
   ],
   "source": [
    "# 'f1'데이터 박스-콕스 box-cox 값 구하기\n",
    "df['b'] = power_transform(df[['f1']], method='box-cox', standardize=False)\n",
    "df['b'].head()"
   ]
  },
  {
   "cell_type": "code",
   "execution_count": 10,
   "id": "ee5393e5",
   "metadata": {
    "_cell_guid": "f7ef0e40-2642-460f-a52f-ef93ff2156f3",
    "_uuid": "e16cc22c-fc0c-44bc-bdc3-57267729ddd8",
    "collapsed": false,
    "execution": {
     "iopub.execute_input": "2022-06-16T05:37:04.249703Z",
     "iopub.status.busy": "2022-06-16T05:37:04.248776Z",
     "iopub.status.idle": "2022-06-16T05:37:04.252669Z",
     "shell.execute_reply": "2022-06-16T05:37:04.253175Z",
     "shell.execute_reply.started": "2022-06-16T05:32:08.440325Z"
    },
    "jupyter": {
     "outputs_hidden": false
    },
    "papermill": {
     "duration": 0.031012,
     "end_time": "2022-06-16T05:37:04.253376",
     "exception": false,
     "start_time": "2022-06-16T05:37:04.222364",
     "status": "completed"
    },
    "tags": []
   },
   "outputs": [
    {
     "data": {
      "text/plain": [
       "(array([21.06708953, 18.3052633 , 26.5576802 , 20.08437298, 20.82354507,\n",
       "        29.92014513, 24.11822132, 22.73510562, 18.3052633 , 18.3052633 ,\n",
       "        22.50057055, 26.5576802 , 18.3052633 , 26.9892231 , 18.3052633 ,\n",
       "        18.3052633 , 24.34492271, 16.71079147, 18.3052633 , 20.08437298,\n",
       "        20.82354507, 13.87430348, 24.79522889, 21.78961583, 28.47348918,\n",
       "        18.3052633 , 18.3052633 , 24.79522889, 18.3052633 , 18.3052633 ,\n",
       "        18.3052633 , 24.34492271, 19.58413896, 17.78149164, 20.82354507,\n",
       "        18.3052633 , 27.20371216, 18.3052633 , 24.34492271, 27.20371216,\n",
       "        25.01886978, 18.3052633 , 25.90374843, 18.3052633 , 18.3052633 ,\n",
       "        21.55009581, 18.3052633 , 18.3052633 , 18.3052633 , 21.30926323,\n",
       "        18.3052633 , 26.77388356, 21.30926323, 18.3052633 , 18.3052633 ,\n",
       "        18.82186921, 16.9815023 , 26.5576802 , 26.34059934, 18.3052633 ,\n",
       "        29.30451924, 17.51679379,  6.25392521, 12.96923726, 28.89049447,\n",
       "        18.3052633 , 20.82354507, 18.3052633 , 18.3052633 , 18.3052633 ,\n",
       "        16.71079147, 19.58413896, 24.34492271, 22.26482716, 18.3052633 ,\n",
       "        25.01886978, 20.08437298, 18.3052633 , 16.43795391, 19.07760136,\n",
       "        18.3052633 , 20.33221948, 19.07760136]),\n",
       " 0.6557192658257479)"
      ]
     },
     "execution_count": 10,
     "metadata": {},
     "output_type": "execute_result"
    }
   ],
   "source": [
    "## 박스콕스 방법2\n",
    "from scipy import stats\n",
    "x = stats.boxcox(df['f1'])\n",
    "x"
   ]
  },
  {
   "cell_type": "code",
   "execution_count": 11,
   "id": "7c434c87",
   "metadata": {
    "_cell_guid": "334d744f-9ac0-4aa0-84e0-0bb9ba595dcb",
    "_uuid": "35c43445-4289-44c8-b3e7-39d7d282d845",
    "collapsed": false,
    "execution": {
     "iopub.execute_input": "2022-06-16T05:37:04.295533Z",
     "iopub.status.busy": "2022-06-16T05:37:04.294393Z",
     "iopub.status.idle": "2022-06-16T05:37:04.302638Z",
     "shell.execute_reply": "2022-06-16T05:37:04.303586Z",
     "shell.execute_reply.started": "2022-06-16T05:32:11.946889Z"
    },
    "jupyter": {
     "outputs_hidden": false
    },
    "papermill": {
     "duration": 0.032642,
     "end_time": "2022-06-16T05:37:04.303964",
     "exception": false,
     "start_time": "2022-06-16T05:37:04.271322",
     "status": "completed"
    },
    "tags": []
   },
   "outputs": [
    {
     "data": {
      "text/plain": [
       "39.17"
      ]
     },
     "execution_count": 11,
     "metadata": {},
     "output_type": "execute_result"
    }
   ],
   "source": [
    "# 두 값의 차이를 절대값으로 구한다음 모두 더해 소수점 둘째 자리까지 출력(반올림)\n",
    "round(sum(np.abs(df['y'] - df['b'])),2)"
   ]
  }
 ],
 "metadata": {
  "kernelspec": {
   "display_name": "Python 3",
   "language": "python",
   "name": "python3"
  },
  "language_info": {
   "codemirror_mode": {
    "name": "ipython",
    "version": 3
   },
   "file_extension": ".py",
   "mimetype": "text/x-python",
   "name": "python",
   "nbconvert_exporter": "python",
   "pygments_lexer": "ipython3",
   "version": "3.7.10"
  },
  "papermill": {
   "default_parameters": {},
   "duration": 12.908515,
   "end_time": "2022-06-16T05:37:05.338038",
   "environment_variables": {},
   "exception": null,
   "input_path": "__notebook__.ipynb",
   "output_path": "__notebook__.ipynb",
   "parameters": {},
   "start_time": "2022-06-16T05:36:52.429523",
   "version": "2.3.3"
  }
 },
 "nbformat": 4,
 "nbformat_minor": 5
}
