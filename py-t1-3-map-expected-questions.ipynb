{
 "cells": [
  {
   "cell_type": "markdown",
   "id": "b2f7dd05",
   "metadata": {
    "papermill": {
     "duration": 0.017551,
     "end_time": "2022-06-15T07:55:50.151083",
     "exception": false,
     "start_time": "2022-06-15T07:55:50.133532",
     "status": "completed"
    },
    "tags": []
   },
   "source": [
    "## 결측치 처리\n",
    "-  주어진 데이터에서 결측치가 80%이상 되는 컬럼은(변수는) 삭제하고, 80% 미만인 결측치가 있는 컬럼은 'city'별 중앙값으로 값을 대체하고 'f1'컬럼의 평균값을 출력하세요!\n",
    "- 데이터셋 : basic1.csv 오른쪽 상단 copy&edit 클릭 -> 예상문제 풀이 시작\n",
    "- 강의 영상 : https://youtu.be/WqlpqBRn7x4"
   ]
  },
  {
   "cell_type": "code",
   "execution_count": 1,
   "id": "03d624e0",
   "metadata": {
    "execution": {
     "iopub.execute_input": "2022-06-15T07:55:50.194050Z",
     "iopub.status.busy": "2022-06-15T07:55:50.193386Z",
     "iopub.status.idle": "2022-06-15T07:55:50.242385Z",
     "shell.execute_reply": "2022-06-15T07:55:50.243199Z",
     "shell.execute_reply.started": "2022-06-15T07:53:38.980274Z"
    },
    "papermill": {
     "duration": 0.073722,
     "end_time": "2022-06-15T07:55:50.243579",
     "exception": false,
     "start_time": "2022-06-15T07:55:50.169857",
     "status": "completed"
    },
    "tags": []
   },
   "outputs": [
    {
     "name": "stdout",
     "output_type": "stream",
     "text": [
      "id       0\n",
      "age      0\n",
      "city     0\n",
      "f1      31\n",
      "f2       0\n",
      "f4       0\n",
      "f5       0\n",
      "dtype: int64\n",
      "0\n"
     ]
    }
   ],
   "source": [
    "import pandas as pd\n",
    "import numpy as np\n",
    "\n",
    "df = pd.read_csv('../input/bigdatacertificationkr/basic1.csv')\n",
    "# print(df.head())\n",
    "\n",
    "# print(len(df))\n",
    "df.isnull().sum() # f1 -> city 중앙값, f3 -> 삭제\n",
    "df = df.drop(['f3'], axis=1)\n",
    "print(df.isnull().sum())\n",
    "\n",
    "gyenggi, daegu, busan, seoul = df.groupby('city').median()['f1']\n",
    "df = df['f1'].fillna(df['city'].map({'경기': gyenggi, '대구': daegu, '부산': busan, '서울':seoul}))\n",
    "print(df.isnull().sum())\n"
   ]
  },
  {
   "cell_type": "code",
   "execution_count": 2,
   "id": "bfbe4f41",
   "metadata": {
    "execution": {
     "iopub.execute_input": "2022-06-15T07:55:50.281783Z",
     "iopub.status.busy": "2022-06-15T07:55:50.280715Z",
     "iopub.status.idle": "2022-06-15T07:55:50.284571Z",
     "shell.execute_reply": "2022-06-15T07:55:50.285038Z",
     "shell.execute_reply.started": "2021-11-16T13:12:20.563788Z"
    },
    "papermill": {
     "duration": 0.02386,
     "end_time": "2022-06-15T07:55:50.285210",
     "exception": false,
     "start_time": "2022-06-15T07:55:50.261350",
     "status": "completed"
    },
    "tags": []
   },
   "outputs": [],
   "source": [
    "# EDA - 결측값 확인(비율 확인)"
   ]
  },
  {
   "cell_type": "code",
   "execution_count": 3,
   "id": "2aa55934",
   "metadata": {
    "execution": {
     "iopub.execute_input": "2022-06-15T07:55:50.321231Z",
     "iopub.status.busy": "2022-06-15T07:55:50.320368Z",
     "iopub.status.idle": "2022-06-15T07:55:50.323240Z",
     "shell.execute_reply": "2022-06-15T07:55:50.323703Z",
     "shell.execute_reply.started": "2021-11-16T13:12:20.574128Z"
    },
    "papermill": {
     "duration": 0.022564,
     "end_time": "2022-06-15T07:55:50.323918",
     "exception": false,
     "start_time": "2022-06-15T07:55:50.301354",
     "status": "completed"
    },
    "tags": []
   },
   "outputs": [],
   "source": [
    "# 80%이상 결측치 컬럼, 삭제"
   ]
  },
  {
   "cell_type": "code",
   "execution_count": 4,
   "id": "5993c728",
   "metadata": {
    "execution": {
     "iopub.execute_input": "2022-06-15T07:55:50.359941Z",
     "iopub.status.busy": "2022-06-15T07:55:50.358943Z",
     "iopub.status.idle": "2022-06-15T07:55:50.362257Z",
     "shell.execute_reply": "2022-06-15T07:55:50.362747Z",
     "shell.execute_reply.started": "2021-11-16T13:12:20.584502Z"
    },
    "papermill": {
     "duration": 0.022748,
     "end_time": "2022-06-15T07:55:50.362929",
     "exception": false,
     "start_time": "2022-06-15T07:55:50.340181",
     "status": "completed"
    },
    "tags": []
   },
   "outputs": [],
   "source": [
    "# 80%미만 결측치 컬럼, city별 중앙값으로 대체"
   ]
  },
  {
   "cell_type": "code",
   "execution_count": 5,
   "id": "27425e40",
   "metadata": {
    "execution": {
     "iopub.execute_input": "2022-06-15T07:55:50.404605Z",
     "iopub.status.busy": "2022-06-15T07:55:50.403636Z",
     "iopub.status.idle": "2022-06-15T07:55:50.406252Z",
     "shell.execute_reply": "2022-06-15T07:55:50.407048Z",
     "shell.execute_reply.started": "2021-11-16T13:12:20.593691Z"
    },
    "papermill": {
     "duration": 0.027588,
     "end_time": "2022-06-15T07:55:50.407280",
     "exception": false,
     "start_time": "2022-06-15T07:55:50.379692",
     "status": "completed"
    },
    "tags": []
   },
   "outputs": [],
   "source": [
    "# f1 평균값 결과 출력"
   ]
  },
  {
   "cell_type": "markdown",
   "id": "513e768d",
   "metadata": {
    "papermill": {
     "duration": 0.021908,
     "end_time": "2022-06-15T07:55:50.446404",
     "exception": false,
     "start_time": "2022-06-15T07:55:50.424496",
     "status": "completed"
    },
    "tags": []
   },
   "source": [
    "## Hint\n",
    "- city별 중앙값으로 대체에서는 map함수 활용"
   ]
  },
  {
   "cell_type": "markdown",
   "id": "e71cb3d9",
   "metadata": {
    "papermill": {
     "duration": 0.019421,
     "end_time": "2022-06-15T07:55:50.485701",
     "exception": false,
     "start_time": "2022-06-15T07:55:50.466280",
     "status": "completed"
    },
    "tags": []
   },
   "source": [
    "## 풀이"
   ]
  },
  {
   "cell_type": "code",
   "execution_count": 6,
   "id": "09960263",
   "metadata": {
    "execution": {
     "iopub.execute_input": "2022-06-15T07:55:50.521061Z",
     "iopub.status.busy": "2022-06-15T07:55:50.520374Z",
     "iopub.status.idle": "2022-06-15T07:55:50.544522Z",
     "shell.execute_reply": "2022-06-15T07:55:50.545037Z",
     "shell.execute_reply.started": "2021-11-16T13:12:20.604562Z"
    },
    "papermill": {
     "duration": 0.043591,
     "end_time": "2022-06-15T07:55:50.545210",
     "exception": false,
     "start_time": "2022-06-15T07:55:50.501619",
     "status": "completed"
    },
    "tags": []
   },
   "outputs": [
    {
     "data": {
      "text/html": [
       "<div>\n",
       "<style scoped>\n",
       "    .dataframe tbody tr th:only-of-type {\n",
       "        vertical-align: middle;\n",
       "    }\n",
       "\n",
       "    .dataframe tbody tr th {\n",
       "        vertical-align: top;\n",
       "    }\n",
       "\n",
       "    .dataframe thead th {\n",
       "        text-align: right;\n",
       "    }\n",
       "</style>\n",
       "<table border=\"1\" class=\"dataframe\">\n",
       "  <thead>\n",
       "    <tr style=\"text-align: right;\">\n",
       "      <th></th>\n",
       "      <th>id</th>\n",
       "      <th>age</th>\n",
       "      <th>city</th>\n",
       "      <th>f1</th>\n",
       "      <th>f2</th>\n",
       "      <th>f3</th>\n",
       "      <th>f4</th>\n",
       "      <th>f5</th>\n",
       "    </tr>\n",
       "  </thead>\n",
       "  <tbody>\n",
       "    <tr>\n",
       "      <th>0</th>\n",
       "      <td>id01</td>\n",
       "      <td>2.0</td>\n",
       "      <td>서울</td>\n",
       "      <td>NaN</td>\n",
       "      <td>0</td>\n",
       "      <td>NaN</td>\n",
       "      <td>ENFJ</td>\n",
       "      <td>91.297791</td>\n",
       "    </tr>\n",
       "    <tr>\n",
       "      <th>1</th>\n",
       "      <td>id02</td>\n",
       "      <td>9.0</td>\n",
       "      <td>서울</td>\n",
       "      <td>70.0</td>\n",
       "      <td>1</td>\n",
       "      <td>NaN</td>\n",
       "      <td>ENFJ</td>\n",
       "      <td>60.339826</td>\n",
       "    </tr>\n",
       "    <tr>\n",
       "      <th>2</th>\n",
       "      <td>id03</td>\n",
       "      <td>27.0</td>\n",
       "      <td>서울</td>\n",
       "      <td>61.0</td>\n",
       "      <td>1</td>\n",
       "      <td>NaN</td>\n",
       "      <td>ISTJ</td>\n",
       "      <td>17.252986</td>\n",
       "    </tr>\n",
       "    <tr>\n",
       "      <th>3</th>\n",
       "      <td>id04</td>\n",
       "      <td>75.0</td>\n",
       "      <td>서울</td>\n",
       "      <td>NaN</td>\n",
       "      <td>2</td>\n",
       "      <td>NaN</td>\n",
       "      <td>INFP</td>\n",
       "      <td>52.667078</td>\n",
       "    </tr>\n",
       "    <tr>\n",
       "      <th>4</th>\n",
       "      <td>id05</td>\n",
       "      <td>24.0</td>\n",
       "      <td>서울</td>\n",
       "      <td>85.0</td>\n",
       "      <td>2</td>\n",
       "      <td>NaN</td>\n",
       "      <td>ISFJ</td>\n",
       "      <td>29.269869</td>\n",
       "    </tr>\n",
       "  </tbody>\n",
       "</table>\n",
       "</div>"
      ],
      "text/plain": [
       "     id   age city    f1  f2   f3    f4         f5\n",
       "0  id01   2.0   서울   NaN   0  NaN  ENFJ  91.297791\n",
       "1  id02   9.0   서울  70.0   1  NaN  ENFJ  60.339826\n",
       "2  id03  27.0   서울  61.0   1  NaN  ISTJ  17.252986\n",
       "3  id04  75.0   서울   NaN   2  NaN  INFP  52.667078\n",
       "4  id05  24.0   서울  85.0   2  NaN  ISFJ  29.269869"
      ]
     },
     "execution_count": 6,
     "metadata": {},
     "output_type": "execute_result"
    }
   ],
   "source": [
    "# 라이브러리 및 데이터 불러오기\n",
    "import pandas as pd\n",
    "import numpy as np\n",
    "\n",
    "df = pd.read_csv('../input/bigdatacertificationkr/basic1.csv')\n",
    "df.head()"
   ]
  },
  {
   "cell_type": "code",
   "execution_count": 7,
   "id": "304931ad",
   "metadata": {
    "_cell_guid": "b1076dfc-b9ad-4769-8c92-a6c4dae69d19",
    "_uuid": "8f2839f25d086af736a60e9eeb907d3b93b6e0e5",
    "execution": {
     "iopub.execute_input": "2022-06-15T07:55:50.582354Z",
     "iopub.status.busy": "2022-06-15T07:55:50.581607Z",
     "iopub.status.idle": "2022-06-15T07:55:50.588444Z",
     "shell.execute_reply": "2022-06-15T07:55:50.588913Z",
     "shell.execute_reply.started": "2021-11-16T13:12:20.646885Z"
    },
    "papermill": {
     "duration": 0.026464,
     "end_time": "2022-06-15T07:55:50.589112",
     "exception": false,
     "start_time": "2022-06-15T07:55:50.562648",
     "status": "completed"
    },
    "tags": []
   },
   "outputs": [
    {
     "data": {
      "text/plain": [
       "id       0\n",
       "age      0\n",
       "city     0\n",
       "f1      31\n",
       "f2       0\n",
       "f3      95\n",
       "f4       0\n",
       "f5       0\n",
       "dtype: int64"
      ]
     },
     "execution_count": 7,
     "metadata": {},
     "output_type": "execute_result"
    }
   ],
   "source": [
    "# EDA - 결측값 확인\n",
    "df.isnull().sum()"
   ]
  },
  {
   "cell_type": "code",
   "execution_count": 8,
   "id": "ed3f9ff0",
   "metadata": {
    "execution": {
     "iopub.execute_input": "2022-06-15T07:55:50.626597Z",
     "iopub.status.busy": "2022-06-15T07:55:50.625903Z",
     "iopub.status.idle": "2022-06-15T07:55:50.629756Z",
     "shell.execute_reply": "2022-06-15T07:55:50.630359Z",
     "shell.execute_reply.started": "2021-11-16T13:12:20.658708Z"
    },
    "papermill": {
     "duration": 0.024579,
     "end_time": "2022-06-15T07:55:50.630535",
     "exception": false,
     "start_time": "2022-06-15T07:55:50.605956",
     "status": "completed"
    },
    "tags": []
   },
   "outputs": [
    {
     "data": {
      "text/plain": [
       "(100, 8)"
      ]
     },
     "execution_count": 8,
     "metadata": {},
     "output_type": "execute_result"
    }
   ],
   "source": [
    "# 데이터 shape\n",
    "df.shape"
   ]
  },
  {
   "cell_type": "code",
   "execution_count": 9,
   "id": "550cca7f",
   "metadata": {
    "execution": {
     "iopub.execute_input": "2022-06-15T07:55:50.668118Z",
     "iopub.status.busy": "2022-06-15T07:55:50.667400Z",
     "iopub.status.idle": "2022-06-15T07:55:50.674964Z",
     "shell.execute_reply": "2022-06-15T07:55:50.675503Z",
     "shell.execute_reply.started": "2021-11-16T13:12:20.666565Z"
    },
    "papermill": {
     "duration": 0.028168,
     "end_time": "2022-06-15T07:55:50.675673",
     "exception": false,
     "start_time": "2022-06-15T07:55:50.647505",
     "status": "completed"
    },
    "tags": []
   },
   "outputs": [
    {
     "data": {
      "text/plain": [
       "id      0.00\n",
       "age     0.00\n",
       "city    0.00\n",
       "f1      0.31\n",
       "f2      0.00\n",
       "f3      0.95\n",
       "f4      0.00\n",
       "f5      0.00\n",
       "dtype: float64"
      ]
     },
     "execution_count": 9,
     "metadata": {},
     "output_type": "execute_result"
    }
   ],
   "source": [
    "# EDA - 결측비율 확인\n",
    "df.isnull().sum()/df.shape[0]"
   ]
  },
  {
   "cell_type": "code",
   "execution_count": 10,
   "id": "6ccf394c",
   "metadata": {
    "execution": {
     "iopub.execute_input": "2022-06-15T07:55:50.713240Z",
     "iopub.status.busy": "2022-06-15T07:55:50.712568Z",
     "iopub.status.idle": "2022-06-15T07:55:50.719901Z",
     "shell.execute_reply": "2022-06-15T07:55:50.720668Z",
     "shell.execute_reply.started": "2021-11-16T13:12:20.684652Z"
    },
    "papermill": {
     "duration": 0.028111,
     "end_time": "2022-06-15T07:55:50.720911",
     "exception": false,
     "start_time": "2022-06-15T07:55:50.692800",
     "status": "completed"
    },
    "tags": []
   },
   "outputs": [
    {
     "name": "stdout",
     "output_type": "stream",
     "text": [
      "삭제 전: (100, 8)\n",
      "삭제 후: (100, 7)\n"
     ]
    }
   ],
   "source": [
    "# f3 컬럼 삭제\n",
    "print(\"삭제 전:\", df.shape)\n",
    "df = df.drop(['f3'], axis=1)\n",
    "print(\"삭제 후:\", df.shape)\n",
    "\n",
    "# 결측치가 있는 컬럼을 제거하는 2가지 방법\n",
    "# df.drop(['B', 'C'], axis=1)\n",
    "# df.drop(columns=['B', 'C'])"
   ]
  },
  {
   "cell_type": "code",
   "execution_count": 11,
   "id": "95b552ef",
   "metadata": {
    "execution": {
     "iopub.execute_input": "2022-06-15T07:55:50.761631Z",
     "iopub.status.busy": "2022-06-15T07:55:50.759588Z",
     "iopub.status.idle": "2022-06-15T07:55:50.765668Z",
     "shell.execute_reply": "2022-06-15T07:55:50.766174Z",
     "shell.execute_reply.started": "2021-11-16T13:12:46.466467Z"
    },
    "papermill": {
     "duration": 0.027306,
     "end_time": "2022-06-15T07:55:50.766344",
     "exception": false,
     "start_time": "2022-06-15T07:55:50.739038",
     "status": "completed"
    },
    "tags": []
   },
   "outputs": [
    {
     "data": {
      "text/plain": [
       "array(['서울', '부산', '대구', '경기'], dtype=object)"
      ]
     },
     "execution_count": 11,
     "metadata": {},
     "output_type": "execute_result"
    }
   ],
   "source": [
    "# 도시 확인\n",
    "df['city'].unique()"
   ]
  },
  {
   "cell_type": "code",
   "execution_count": 12,
   "id": "9b90349c",
   "metadata": {
    "execution": {
     "iopub.execute_input": "2022-06-15T07:55:50.806331Z",
     "iopub.status.busy": "2022-06-15T07:55:50.805321Z",
     "iopub.status.idle": "2022-06-15T07:55:50.816457Z",
     "shell.execute_reply": "2022-06-15T07:55:50.816914Z",
     "shell.execute_reply.started": "2021-11-16T13:12:20.715384Z"
    },
    "papermill": {
     "duration": 0.032956,
     "end_time": "2022-06-15T07:55:50.817121",
     "exception": false,
     "start_time": "2022-06-15T07:55:50.784165",
     "status": "completed"
    },
    "tags": []
   },
   "outputs": [
    {
     "data": {
      "text/plain": [
       "(68.0, 58.0, 62.0, 75.0)"
      ]
     },
     "execution_count": 12,
     "metadata": {},
     "output_type": "execute_result"
    }
   ],
   "source": [
    "# 도시별 중앙값 계산\n",
    "s=df[df['city']=='서울']['f1'].median()\n",
    "k=df[df['city']=='경기']['f1'].median()\n",
    "b=df[df['city']=='부산']['f1'].median()\n",
    "d=df[df['city']=='대구']['f1'].median()\n",
    "s, k, b, d\n",
    "\n",
    "#방법2\n",
    "# k, d, b, s = df.groupby('city')['f1'].median()"
   ]
  },
  {
   "cell_type": "code",
   "execution_count": 13,
   "id": "14b96866",
   "metadata": {
    "execution": {
     "iopub.execute_input": "2022-06-15T07:55:50.858325Z",
     "iopub.status.busy": "2022-06-15T07:55:50.857300Z",
     "iopub.status.idle": "2022-06-15T07:55:50.869809Z",
     "shell.execute_reply": "2022-06-15T07:55:50.870386Z",
     "shell.execute_reply.started": "2021-11-16T13:12:20.731771Z"
    },
    "papermill": {
     "duration": 0.035341,
     "end_time": "2022-06-15T07:55:50.870567",
     "exception": false,
     "start_time": "2022-06-15T07:55:50.835226",
     "status": "completed"
    },
    "tags": []
   },
   "outputs": [
    {
     "data": {
      "text/html": [
       "<div>\n",
       "<style scoped>\n",
       "    .dataframe tbody tr th:only-of-type {\n",
       "        vertical-align: middle;\n",
       "    }\n",
       "\n",
       "    .dataframe tbody tr th {\n",
       "        vertical-align: top;\n",
       "    }\n",
       "\n",
       "    .dataframe thead th {\n",
       "        text-align: right;\n",
       "    }\n",
       "</style>\n",
       "<table border=\"1\" class=\"dataframe\">\n",
       "  <thead>\n",
       "    <tr style=\"text-align: right;\">\n",
       "      <th></th>\n",
       "      <th>id</th>\n",
       "      <th>age</th>\n",
       "      <th>city</th>\n",
       "      <th>f1</th>\n",
       "      <th>f2</th>\n",
       "      <th>f4</th>\n",
       "      <th>f5</th>\n",
       "    </tr>\n",
       "  </thead>\n",
       "  <tbody>\n",
       "    <tr>\n",
       "      <th>18</th>\n",
       "      <td>id19</td>\n",
       "      <td>53.0</td>\n",
       "      <td>서울</td>\n",
       "      <td>NaN</td>\n",
       "      <td>0</td>\n",
       "      <td>ISFP</td>\n",
       "      <td>83.685380</td>\n",
       "    </tr>\n",
       "    <tr>\n",
       "      <th>19</th>\n",
       "      <td>id20</td>\n",
       "      <td>11.0</td>\n",
       "      <td>서울</td>\n",
       "      <td>51.0</td>\n",
       "      <td>1</td>\n",
       "      <td>INTJ</td>\n",
       "      <td>91.297791</td>\n",
       "    </tr>\n",
       "    <tr>\n",
       "      <th>20</th>\n",
       "      <td>id21</td>\n",
       "      <td>90.0</td>\n",
       "      <td>부산</td>\n",
       "      <td>NaN</td>\n",
       "      <td>1</td>\n",
       "      <td>ISFP</td>\n",
       "      <td>29.269869</td>\n",
       "    </tr>\n",
       "  </tbody>\n",
       "</table>\n",
       "</div>"
      ],
      "text/plain": [
       "      id   age city    f1  f2    f4         f5\n",
       "18  id19  53.0   서울   NaN   0  ISFP  83.685380\n",
       "19  id20  11.0   서울  51.0   1  INTJ  91.297791\n",
       "20  id21  90.0   부산   NaN   1  ISFP  29.269869"
      ]
     },
     "execution_count": 13,
     "metadata": {},
     "output_type": "execute_result"
    }
   ],
   "source": [
    "# 대체 전 데이터 샘플 출력\n",
    "df[18:21]"
   ]
  },
  {
   "cell_type": "code",
   "execution_count": 14,
   "id": "45671db7",
   "metadata": {
    "execution": {
     "iopub.execute_input": "2022-06-15T07:55:50.914831Z",
     "iopub.status.busy": "2022-06-15T07:55:50.911727Z",
     "iopub.status.idle": "2022-06-15T07:55:50.917532Z",
     "shell.execute_reply": "2022-06-15T07:55:50.918066Z",
     "shell.execute_reply.started": "2021-11-16T13:12:20.751783Z"
    },
    "papermill": {
     "duration": 0.028276,
     "end_time": "2022-06-15T07:55:50.918236",
     "exception": false,
     "start_time": "2022-06-15T07:55:50.889960",
     "status": "completed"
    },
    "tags": []
   },
   "outputs": [],
   "source": [
    "# f1결측치 city별 중앙값으로 대체\n",
    "df['f1'] = df['f1'].fillna(df['city'].map({'서울':s,'경기':k,'부산':b,'대구':d}))\n",
    "\n",
    "# 만약 그냥 f1 중앙값으로 대체 한다면 \n",
    "# df['f1'] = df['f1'].fillna(df['f1'].median())"
   ]
  },
  {
   "cell_type": "code",
   "execution_count": 15,
   "id": "c1a15e39",
   "metadata": {
    "execution": {
     "iopub.execute_input": "2022-06-15T07:55:50.958874Z",
     "iopub.status.busy": "2022-06-15T07:55:50.958250Z",
     "iopub.status.idle": "2022-06-15T07:55:50.970165Z",
     "shell.execute_reply": "2022-06-15T07:55:50.970693Z",
     "shell.execute_reply.started": "2021-11-16T13:12:20.764397Z"
    },
    "papermill": {
     "duration": 0.034029,
     "end_time": "2022-06-15T07:55:50.970861",
     "exception": false,
     "start_time": "2022-06-15T07:55:50.936832",
     "status": "completed"
    },
    "tags": []
   },
   "outputs": [
    {
     "data": {
      "text/html": [
       "<div>\n",
       "<style scoped>\n",
       "    .dataframe tbody tr th:only-of-type {\n",
       "        vertical-align: middle;\n",
       "    }\n",
       "\n",
       "    .dataframe tbody tr th {\n",
       "        vertical-align: top;\n",
       "    }\n",
       "\n",
       "    .dataframe thead th {\n",
       "        text-align: right;\n",
       "    }\n",
       "</style>\n",
       "<table border=\"1\" class=\"dataframe\">\n",
       "  <thead>\n",
       "    <tr style=\"text-align: right;\">\n",
       "      <th></th>\n",
       "      <th>id</th>\n",
       "      <th>age</th>\n",
       "      <th>city</th>\n",
       "      <th>f1</th>\n",
       "      <th>f2</th>\n",
       "      <th>f4</th>\n",
       "      <th>f5</th>\n",
       "    </tr>\n",
       "  </thead>\n",
       "  <tbody>\n",
       "    <tr>\n",
       "      <th>18</th>\n",
       "      <td>id19</td>\n",
       "      <td>53.0</td>\n",
       "      <td>서울</td>\n",
       "      <td>68.0</td>\n",
       "      <td>0</td>\n",
       "      <td>ISFP</td>\n",
       "      <td>83.685380</td>\n",
       "    </tr>\n",
       "    <tr>\n",
       "      <th>19</th>\n",
       "      <td>id20</td>\n",
       "      <td>11.0</td>\n",
       "      <td>서울</td>\n",
       "      <td>51.0</td>\n",
       "      <td>1</td>\n",
       "      <td>INTJ</td>\n",
       "      <td>91.297791</td>\n",
       "    </tr>\n",
       "    <tr>\n",
       "      <th>20</th>\n",
       "      <td>id21</td>\n",
       "      <td>90.0</td>\n",
       "      <td>부산</td>\n",
       "      <td>62.0</td>\n",
       "      <td>1</td>\n",
       "      <td>ISFP</td>\n",
       "      <td>29.269869</td>\n",
       "    </tr>\n",
       "  </tbody>\n",
       "</table>\n",
       "</div>"
      ],
      "text/plain": [
       "      id   age city    f1  f2    f4         f5\n",
       "18  id19  53.0   서울  68.0   0  ISFP  83.685380\n",
       "19  id20  11.0   서울  51.0   1  INTJ  91.297791\n",
       "20  id21  90.0   부산  62.0   1  ISFP  29.269869"
      ]
     },
     "execution_count": 15,
     "metadata": {},
     "output_type": "execute_result"
    }
   ],
   "source": [
    "# 대체 후 데이터 샘플 출력\n",
    "df[18:21]"
   ]
  },
  {
   "cell_type": "code",
   "execution_count": 16,
   "id": "c0527db6",
   "metadata": {
    "execution": {
     "iopub.execute_input": "2022-06-15T07:55:51.013066Z",
     "iopub.status.busy": "2022-06-15T07:55:51.012378Z",
     "iopub.status.idle": "2022-06-15T07:55:51.016838Z",
     "shell.execute_reply": "2022-06-15T07:55:51.017372Z",
     "shell.execute_reply.started": "2021-11-16T13:12:20.778996Z"
    },
    "papermill": {
     "duration": 0.027357,
     "end_time": "2022-06-15T07:55:51.017540",
     "exception": false,
     "start_time": "2022-06-15T07:55:50.990183",
     "status": "completed"
    },
    "tags": []
   },
   "outputs": [
    {
     "name": "stdout",
     "output_type": "stream",
     "text": [
      "65.52\n"
     ]
    }
   ],
   "source": [
    "#결과 출력\n",
    "print(df['f1'].mean())"
   ]
  }
 ],
 "metadata": {
  "kernelspec": {
   "display_name": "Python 3",
   "language": "python",
   "name": "python3"
  },
  "language_info": {
   "codemirror_mode": {
    "name": "ipython",
    "version": 3
   },
   "file_extension": ".py",
   "mimetype": "text/x-python",
   "name": "python",
   "nbconvert_exporter": "python",
   "pygments_lexer": "ipython3",
   "version": "3.7.10"
  },
  "papermill": {
   "default_parameters": {},
   "duration": 10.843677,
   "end_time": "2022-06-15T07:55:52.400613",
   "environment_variables": {},
   "exception": null,
   "input_path": "__notebook__.ipynb",
   "output_path": "__notebook__.ipynb",
   "parameters": {},
   "start_time": "2022-06-15T07:55:41.556936",
   "version": "2.3.3"
  }
 },
 "nbformat": 4,
 "nbformat_minor": 5
}
