{
 "cells": [
  {
   "cell_type": "markdown",
   "id": "db064bcf",
   "metadata": {
    "papermill": {
     "duration": 0.003898,
     "end_time": "2022-06-18T06:43:41.317375",
     "exception": false,
     "start_time": "2022-06-18T06:43:41.313477",
     "status": "completed"
    },
    "tags": []
   },
   "source": [
    "# Q. 결측치가 제일 큰 값의 컬럼명을 구하시오\n",
    "- data: t1-data1.csv"
   ]
  },
  {
   "cell_type": "code",
   "execution_count": 1,
   "id": "b98728a2",
   "metadata": {
    "execution": {
     "iopub.execute_input": "2022-06-18T06:43:41.325489Z",
     "iopub.status.busy": "2022-06-18T06:43:41.324939Z",
     "iopub.status.idle": "2022-06-18T06:43:41.358376Z",
     "shell.execute_reply": "2022-06-18T06:43:41.357427Z"
    },
    "papermill": {
     "duration": 0.040466,
     "end_time": "2022-06-18T06:43:41.361024",
     "exception": false,
     "start_time": "2022-06-18T06:43:41.320558",
     "status": "completed"
    },
    "tags": []
   },
   "outputs": [
    {
     "data": {
      "text/html": [
       "<div>\n",
       "<style scoped>\n",
       "    .dataframe tbody tr th:only-of-type {\n",
       "        vertical-align: middle;\n",
       "    }\n",
       "\n",
       "    .dataframe tbody tr th {\n",
       "        vertical-align: top;\n",
       "    }\n",
       "\n",
       "    .dataframe thead th {\n",
       "        text-align: right;\n",
       "    }\n",
       "</style>\n",
       "<table border=\"1\" class=\"dataframe\">\n",
       "  <thead>\n",
       "    <tr style=\"text-align: right;\">\n",
       "      <th></th>\n",
       "      <th>id</th>\n",
       "      <th>age</th>\n",
       "      <th>city</th>\n",
       "      <th>f1</th>\n",
       "      <th>f2</th>\n",
       "      <th>f4</th>\n",
       "      <th>f5</th>\n",
       "    </tr>\n",
       "  </thead>\n",
       "  <tbody>\n",
       "    <tr>\n",
       "      <th>0</th>\n",
       "      <td>id01</td>\n",
       "      <td>2.0</td>\n",
       "      <td>서울</td>\n",
       "      <td>NaN</td>\n",
       "      <td>0</td>\n",
       "      <td>ENFJ</td>\n",
       "      <td>91.297791</td>\n",
       "    </tr>\n",
       "    <tr>\n",
       "      <th>1</th>\n",
       "      <td>id02</td>\n",
       "      <td>9.0</td>\n",
       "      <td>서울</td>\n",
       "      <td>70.0</td>\n",
       "      <td>1</td>\n",
       "      <td>ENFJ</td>\n",
       "      <td>60.339826</td>\n",
       "    </tr>\n",
       "    <tr>\n",
       "      <th>2</th>\n",
       "      <td>id03</td>\n",
       "      <td>27.0</td>\n",
       "      <td>서울</td>\n",
       "      <td>61.0</td>\n",
       "      <td>1</td>\n",
       "      <td>ISTJ</td>\n",
       "      <td>17.252986</td>\n",
       "    </tr>\n",
       "    <tr>\n",
       "      <th>3</th>\n",
       "      <td>id04</td>\n",
       "      <td>75.0</td>\n",
       "      <td>서울</td>\n",
       "      <td>NaN</td>\n",
       "      <td>2</td>\n",
       "      <td>INFP</td>\n",
       "      <td>52.667078</td>\n",
       "    </tr>\n",
       "    <tr>\n",
       "      <th>4</th>\n",
       "      <td>id05</td>\n",
       "      <td>24.0</td>\n",
       "      <td>서울</td>\n",
       "      <td>85.0</td>\n",
       "      <td>2</td>\n",
       "      <td>ISFJ</td>\n",
       "      <td>29.269869</td>\n",
       "    </tr>\n",
       "  </tbody>\n",
       "</table>\n",
       "</div>"
      ],
      "text/plain": [
       "     id   age city    f1  f2    f4         f5\n",
       "0  id01   2.0   서울   NaN   0  ENFJ  91.297791\n",
       "1  id02   9.0   서울  70.0   1  ENFJ  60.339826\n",
       "2  id03  27.0   서울  61.0   1  ISTJ  17.252986\n",
       "3  id04  75.0   서울   NaN   2  INFP  52.667078\n",
       "4  id05  24.0   서울  85.0   2  ISFJ  29.269869"
      ]
     },
     "execution_count": 1,
     "metadata": {},
     "output_type": "execute_result"
    }
   ],
   "source": [
    "import pandas as pd\n",
    "df = pd.read_csv(\"../input/big-data-analytics-certification/t1-data1.csv\")\n",
    "df.head()"
   ]
  },
  {
   "cell_type": "markdown",
   "id": "d1ee39b5",
   "metadata": {
    "papermill": {
     "duration": 0.003027,
     "end_time": "2022-06-18T06:43:41.367600",
     "exception": false,
     "start_time": "2022-06-18T06:43:41.364573",
     "status": "completed"
    },
    "tags": []
   },
   "source": [
    "# Your Code"
   ]
  },
  {
   "cell_type": "code",
   "execution_count": 2,
   "id": "0c313a85",
   "metadata": {
    "execution": {
     "iopub.execute_input": "2022-06-18T06:43:41.375278Z",
     "iopub.status.busy": "2022-06-18T06:43:41.374975Z",
     "iopub.status.idle": "2022-06-18T06:43:41.385142Z",
     "shell.execute_reply": "2022-06-18T06:43:41.384416Z"
    },
    "papermill": {
     "duration": 0.016322,
     "end_time": "2022-06-18T06:43:41.387138",
     "exception": false,
     "start_time": "2022-06-18T06:43:41.370816",
     "status": "completed"
    },
    "tags": []
   },
   "outputs": [
    {
     "data": {
      "text/plain": [
       "'f1'"
      ]
     },
     "execution_count": 2,
     "metadata": {},
     "output_type": "execute_result"
    }
   ],
   "source": [
    "df1 = pd.DataFrame(df.isnull().sum())\n",
    "df2 = df1.sort_values(by=0, ascending=False)\n",
    "df2.index[0]"
   ]
  },
  {
   "cell_type": "code",
   "execution_count": 3,
   "id": "3844fb5b",
   "metadata": {
    "execution": {
     "iopub.execute_input": "2022-06-18T06:43:41.395137Z",
     "iopub.status.busy": "2022-06-18T06:43:41.394815Z",
     "iopub.status.idle": "2022-06-18T06:43:41.403131Z",
     "shell.execute_reply": "2022-06-18T06:43:41.402657Z"
    },
    "papermill": {
     "duration": 0.013339,
     "end_time": "2022-06-18T06:43:41.404496",
     "exception": false,
     "start_time": "2022-06-18T06:43:41.391157",
     "status": "completed"
    },
    "tags": []
   },
   "outputs": [
    {
     "data": {
      "text/plain": [
       "'f1'"
      ]
     },
     "execution_count": 3,
     "metadata": {},
     "output_type": "execute_result"
    }
   ],
   "source": [
    "df3 = df.isnull().sum()\n",
    "df3.index[df.isnull().sum() == df.isnull().sum().max()][0]"
   ]
  },
  {
   "cell_type": "markdown",
   "id": "79f3eba8",
   "metadata": {
    "papermill": {
     "duration": 0.002126,
     "end_time": "2022-06-18T06:43:41.409315",
     "exception": false,
     "start_time": "2022-06-18T06:43:41.407189",
     "status": "completed"
    },
    "tags": []
   },
   "source": [
    "# solution"
   ]
  },
  {
   "cell_type": "code",
   "execution_count": 4,
   "id": "99f69c8f",
   "metadata": {
    "execution": {
     "iopub.execute_input": "2022-06-18T06:43:41.415512Z",
     "iopub.status.busy": "2022-06-18T06:43:41.414800Z",
     "iopub.status.idle": "2022-06-18T06:43:41.429345Z",
     "shell.execute_reply": "2022-06-18T06:43:41.428125Z"
    },
    "papermill": {
     "duration": 0.019364,
     "end_time": "2022-06-18T06:43:41.430935",
     "exception": false,
     "start_time": "2022-06-18T06:43:41.411571",
     "status": "completed"
    },
    "tags": []
   },
   "outputs": [
    {
     "name": "stdout",
     "output_type": "stream",
     "text": [
      "f1\n"
     ]
    }
   ],
   "source": [
    "import pandas as pd\n",
    "df = pd.read_csv(\"../input/big-data-analytics-certification/t1-data1.csv\")\n",
    "\n",
    "df = pd.DataFrame(df.isnull().sum(), columns=['cnt_null'])\n",
    "df = df['cnt_null'].sort_values(ascending=False)\n",
    "print(df.index[0])"
   ]
  },
  {
   "cell_type": "code",
   "execution_count": 5,
   "id": "d4103633",
   "metadata": {
    "execution": {
     "iopub.execute_input": "2022-06-18T06:43:41.437619Z",
     "iopub.status.busy": "2022-06-18T06:43:41.436805Z",
     "iopub.status.idle": "2022-06-18T06:43:41.446278Z",
     "shell.execute_reply": "2022-06-18T06:43:41.445204Z"
    },
    "papermill": {
     "duration": 0.014445,
     "end_time": "2022-06-18T06:43:41.447886",
     "exception": false,
     "start_time": "2022-06-18T06:43:41.433441",
     "status": "completed"
    },
    "tags": []
   },
   "outputs": [
    {
     "name": "stdout",
     "output_type": "stream",
     "text": [
      "f1\n"
     ]
    }
   ],
   "source": [
    "# 풀이2\n",
    "df = pd.read_csv(\"../input/big-data-analytics-certification/t1-data1.csv\")\n",
    "df = df.isnull().sum()\n",
    "print(df.index[3])"
   ]
  }
 ],
 "metadata": {
  "kernelspec": {
   "display_name": "Python 3",
   "language": "python",
   "name": "python3"
  },
  "language_info": {
   "codemirror_mode": {
    "name": "ipython",
    "version": 3
   },
   "file_extension": ".py",
   "mimetype": "text/x-python",
   "name": "python",
   "nbconvert_exporter": "python",
   "pygments_lexer": "ipython3",
   "version": "3.7.12"
  },
  "papermill": {
   "default_parameters": {},
   "duration": 9.143224,
   "end_time": "2022-06-18T06:43:42.074441",
   "environment_variables": {},
   "exception": null,
   "input_path": "__notebook__.ipynb",
   "output_path": "__notebook__.ipynb",
   "parameters": {},
   "start_time": "2022-06-18T06:43:32.931217",
   "version": "2.3.4"
  }
 },
 "nbformat": 4,
 "nbformat_minor": 5
}
