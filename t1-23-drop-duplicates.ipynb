{
 "cells": [
  {
   "cell_type": "markdown",
   "id": "802eb30d",
   "metadata": {
    "papermill": {
     "duration": 0.00405,
     "end_time": "2022-06-17T05:22:15.163503",
     "exception": false,
     "start_time": "2022-06-17T05:22:15.159453",
     "status": "completed"
    },
    "tags": []
   },
   "source": [
    "## f1의 결측치를 채운 후 age 컬럼의 중복 제거 전과 후의 'f1' 중앙값 차이를 구하시오 \n",
    "### - 결측치는 f1의 데이터 중 내림차순 정렬 후 10번째 값으로 채움\n",
    "### - 중복 데이터 발생시 뒤에 나오는 데이터를 삭제함\n",
    "### - 최종 결과값은 절대값으로 출력\n",
    "\n",
    "- 데이터셋 : basic1.csv\n",
    "- 오른쪽 상단 copy&edit 클릭 -> 예상문제 풀이 시작"
   ]
  },
  {
   "cell_type": "code",
   "execution_count": 1,
   "id": "82e4d144",
   "metadata": {
    "_cell_guid": "b1076dfc-b9ad-4769-8c92-a6c4dae69d19",
    "_uuid": "8f2839f25d086af736a60e9eeb907d3b93b6e0e5",
    "execution": {
     "iopub.execute_input": "2022-06-17T05:22:15.175519Z",
     "iopub.status.busy": "2022-06-17T05:22:15.174206Z",
     "iopub.status.idle": "2022-06-17T05:22:15.228840Z",
     "shell.execute_reply": "2022-06-17T05:22:15.229709Z",
     "shell.execute_reply.started": "2022-06-17T05:21:49.328753Z"
    },
    "papermill": {
     "duration": 0.063128,
     "end_time": "2022-06-17T05:22:15.230037",
     "exception": false,
     "start_time": "2022-06-17T05:22:15.166909",
     "status": "completed"
    },
    "tags": []
   },
   "outputs": [
    {
     "name": "stdout",
     "output_type": "stream",
     "text": [
      "2.5\n"
     ]
    }
   ],
   "source": [
    "import pandas as pd\n",
    "import numpy as np\n",
    "\n",
    "df = pd.read_csv('../input/bigdatacertificationkr/basic1.csv')\n",
    "df.head()\n",
    "\n",
    "df1 = df.sort_values(by='f1', ascending = False)\n",
    "top10 = df1.iloc[9]\n",
    "\n",
    "df2 = df1.fillna(top10)\n",
    "\n",
    "before_delete = df2['f1'].median()\n",
    "\n",
    "df3 = df2.drop_duplicates(subset=['age'])\n",
    "after_delete = df3['f1'].median()\n",
    "\n",
    "print(np.abs(after_delete - before_delete))\n",
    "# print(after_delete, before_delete)"
   ]
  }
 ],
 "metadata": {
  "kernelspec": {
   "display_name": "Python 3",
   "language": "python",
   "name": "python3"
  },
  "language_info": {
   "codemirror_mode": {
    "name": "ipython",
    "version": 3
   },
   "file_extension": ".py",
   "mimetype": "text/x-python",
   "name": "python",
   "nbconvert_exporter": "python",
   "pygments_lexer": "ipython3",
   "version": "3.7.10"
  },
  "papermill": {
   "default_parameters": {},
   "duration": 10.230181,
   "end_time": "2022-06-17T05:22:15.843948",
   "environment_variables": {},
   "exception": null,
   "input_path": "__notebook__.ipynb",
   "output_path": "__notebook__.ipynb",
   "parameters": {},
   "start_time": "2022-06-17T05:22:05.613767",
   "version": "2.3.3"
  }
 },
 "nbformat": 4,
 "nbformat_minor": 5
}
