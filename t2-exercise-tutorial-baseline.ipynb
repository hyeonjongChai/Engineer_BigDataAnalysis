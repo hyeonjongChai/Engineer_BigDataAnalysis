{
 "cells": [
  {
   "cell_type": "markdown",
   "id": "0fe54325",
   "metadata": {
    "papermill": {
     "duration": 0.027099,
     "end_time": "2022-06-19T05:28:55.820319",
     "exception": false,
     "start_time": "2022-06-19T05:28:55.793220",
     "status": "completed"
    },
    "tags": []
   },
   "source": [
    "### 백화점 고객의 1년 간 구매 데이터를 활용해\n",
    "- 데이터 전처리\n",
    "- Feature Engineering\n",
    "- 모델링 (분류 알고리즘 사용)\n",
    "- 하이퍼파라미터 튜닝 (초매개변수 최적화)\n",
    "- 모형 앙상블\n",
    "- csv제출\n",
    "\n",
    "### 유의사항\n",
    "- 수험번호.csv 파일이 만들어지도록 코드를 제출함\n",
    "- 제출한 모델의 성능은 ROC-AUC 평가지표에 따라 채점함\n",
    "\n",
    "### 데이터 출처 및 연결\n",
    "- data 출처: https://www.dataq.or.kr/ - 공지사항 - 759번 제2회 빅데이터분석기사 실기 안내 - 첨부파일\n",
    "\n",
    "### 데이터셋 업로드\n",
    "- 데이터셋 프라이빗 업로드 : https://youtu.be/BZlEQ5JwLiA\n",
    "    - Datasets - new dataset - (drag&drop) - Create / 반드시 Private\n",
    "- 작업형2 예시: https://youtu.be/_GIBVt5-khk"
   ]
  },
  {
   "cell_type": "markdown",
   "id": "8dc87ada",
   "metadata": {
    "papermill": {
     "duration": 0.023428,
     "end_time": "2022-06-19T05:28:55.867676",
     "exception": false,
     "start_time": "2022-06-19T05:28:55.844248",
     "status": "completed"
    },
    "tags": []
   },
   "source": [
    "- 아래 코드는 베이스라인 예시입니다"
   ]
  },
  {
   "cell_type": "markdown",
   "id": "386c416e",
   "metadata": {
    "papermill": {
     "duration": 0.02312,
     "end_time": "2022-06-19T05:28:55.914250",
     "exception": false,
     "start_time": "2022-06-19T05:28:55.891130",
     "status": "completed"
    },
    "tags": []
   },
   "source": [
    "# 라이브러리 및 데이터 불러오기"
   ]
  },
  {
   "cell_type": "code",
   "execution_count": 1,
   "id": "8d61b6f4",
   "metadata": {
    "execution": {
     "iopub.execute_input": "2022-06-19T05:28:55.969796Z",
     "iopub.status.busy": "2022-06-19T05:28:55.967977Z",
     "iopub.status.idle": "2022-06-19T05:28:55.979357Z",
     "shell.execute_reply": "2022-06-19T05:28:55.979920Z",
     "shell.execute_reply.started": "2022-06-19T04:54:22.121096Z"
    },
    "papermill": {
     "duration": 0.041266,
     "end_time": "2022-06-19T05:28:55.980256",
     "exception": false,
     "start_time": "2022-06-19T05:28:55.938990",
     "status": "completed"
    },
    "tags": []
   },
   "outputs": [],
   "source": [
    "# 라이브러리\n",
    "import pandas as pd"
   ]
  },
  {
   "cell_type": "code",
   "execution_count": 2,
   "id": "131b10c7",
   "metadata": {
    "execution": {
     "iopub.execute_input": "2022-06-19T05:28:56.031591Z",
     "iopub.status.busy": "2022-06-19T05:28:56.030595Z",
     "iopub.status.idle": "2022-06-19T05:28:56.100287Z",
     "shell.execute_reply": "2022-06-19T05:28:56.100844Z",
     "shell.execute_reply.started": "2022-06-19T04:55:12.083384Z"
    },
    "papermill": {
     "duration": 0.096939,
     "end_time": "2022-06-19T05:28:56.101032",
     "exception": false,
     "start_time": "2022-06-19T05:28:56.004093",
     "status": "completed"
    },
    "tags": []
   },
   "outputs": [],
   "source": [
    "# 데이터 불러오기\n",
    "path = \"../input/d/datasets/chai97/department-store-customer/\"\n",
    "X = pd.read_csv(path + 'X_train.csv', encoding=\"euc-kr\") # 구름 IDE환경에서는 encoding=\"euc-kr\"가 없어도 됨\n",
    "y = pd.read_csv(path + \"y_train.csv\")\n",
    "test = pd.read_csv(path + \"X_test.csv\", encoding=\"euc-kr\")"
   ]
  },
  {
   "cell_type": "markdown",
   "id": "1769ade7",
   "metadata": {
    "papermill": {
     "duration": 0.024567,
     "end_time": "2022-06-19T05:28:56.149981",
     "exception": false,
     "start_time": "2022-06-19T05:28:56.125414",
     "status": "completed"
    },
    "tags": []
   },
   "source": [
    "# 간단EDA"
   ]
  },
  {
   "cell_type": "code",
   "execution_count": 3,
   "id": "2df2cdaf",
   "metadata": {
    "execution": {
     "iopub.execute_input": "2022-06-19T05:28:56.201303Z",
     "iopub.status.busy": "2022-06-19T05:28:56.200316Z",
     "iopub.status.idle": "2022-06-19T05:28:56.208314Z",
     "shell.execute_reply": "2022-06-19T05:28:56.208850Z",
     "shell.execute_reply.started": "2022-06-19T04:55:14.648111Z"
    },
    "papermill": {
     "duration": 0.035215,
     "end_time": "2022-06-19T05:28:56.209034",
     "exception": false,
     "start_time": "2022-06-19T05:28:56.173819",
     "status": "completed"
    },
    "tags": []
   },
   "outputs": [
    {
     "data": {
      "text/plain": [
       "((3500, 10), (3500, 2), (2482, 10))"
      ]
     },
     "execution_count": 3,
     "metadata": {},
     "output_type": "execute_result"
    }
   ],
   "source": [
    "# EDA\n",
    "X.shape, y.shape, test.shape"
   ]
  },
  {
   "cell_type": "code",
   "execution_count": 4,
   "id": "cb060f36",
   "metadata": {
    "execution": {
     "iopub.execute_input": "2022-06-19T05:28:56.260550Z",
     "iopub.status.busy": "2022-06-19T05:28:56.259604Z",
     "iopub.status.idle": "2022-06-19T05:28:56.278598Z",
     "shell.execute_reply": "2022-06-19T05:28:56.279232Z",
     "shell.execute_reply.started": "2022-06-19T04:55:16.187616Z"
    },
    "papermill": {
     "duration": 0.04617,
     "end_time": "2022-06-19T05:28:56.279401",
     "exception": false,
     "start_time": "2022-06-19T05:28:56.233231",
     "status": "completed"
    },
    "tags": []
   },
   "outputs": [
    {
     "data": {
      "text/html": [
       "<div>\n",
       "<style scoped>\n",
       "    .dataframe tbody tr th:only-of-type {\n",
       "        vertical-align: middle;\n",
       "    }\n",
       "\n",
       "    .dataframe tbody tr th {\n",
       "        vertical-align: top;\n",
       "    }\n",
       "\n",
       "    .dataframe thead th {\n",
       "        text-align: right;\n",
       "    }\n",
       "</style>\n",
       "<table border=\"1\" class=\"dataframe\">\n",
       "  <thead>\n",
       "    <tr style=\"text-align: right;\">\n",
       "      <th></th>\n",
       "      <th>cust_id</th>\n",
       "      <th>총구매액</th>\n",
       "      <th>최대구매액</th>\n",
       "      <th>환불금액</th>\n",
       "      <th>주구매상품</th>\n",
       "      <th>주구매지점</th>\n",
       "      <th>내점일수</th>\n",
       "      <th>내점당구매건수</th>\n",
       "      <th>주말방문비율</th>\n",
       "      <th>구매주기</th>\n",
       "    </tr>\n",
       "  </thead>\n",
       "  <tbody>\n",
       "    <tr>\n",
       "      <th>0</th>\n",
       "      <td>0</td>\n",
       "      <td>68282840</td>\n",
       "      <td>11264000</td>\n",
       "      <td>6860000.0</td>\n",
       "      <td>기타</td>\n",
       "      <td>강남점</td>\n",
       "      <td>19</td>\n",
       "      <td>3.894737</td>\n",
       "      <td>0.527027</td>\n",
       "      <td>17</td>\n",
       "    </tr>\n",
       "    <tr>\n",
       "      <th>1</th>\n",
       "      <td>1</td>\n",
       "      <td>2136000</td>\n",
       "      <td>2136000</td>\n",
       "      <td>300000.0</td>\n",
       "      <td>스포츠</td>\n",
       "      <td>잠실점</td>\n",
       "      <td>2</td>\n",
       "      <td>1.500000</td>\n",
       "      <td>0.000000</td>\n",
       "      <td>1</td>\n",
       "    </tr>\n",
       "    <tr>\n",
       "      <th>2</th>\n",
       "      <td>2</td>\n",
       "      <td>3197000</td>\n",
       "      <td>1639000</td>\n",
       "      <td>NaN</td>\n",
       "      <td>남성 캐주얼</td>\n",
       "      <td>관악점</td>\n",
       "      <td>2</td>\n",
       "      <td>2.000000</td>\n",
       "      <td>0.000000</td>\n",
       "      <td>1</td>\n",
       "    </tr>\n",
       "    <tr>\n",
       "      <th>3</th>\n",
       "      <td>3</td>\n",
       "      <td>16077620</td>\n",
       "      <td>4935000</td>\n",
       "      <td>NaN</td>\n",
       "      <td>기타</td>\n",
       "      <td>광주점</td>\n",
       "      <td>18</td>\n",
       "      <td>2.444444</td>\n",
       "      <td>0.318182</td>\n",
       "      <td>16</td>\n",
       "    </tr>\n",
       "    <tr>\n",
       "      <th>4</th>\n",
       "      <td>4</td>\n",
       "      <td>29050000</td>\n",
       "      <td>24000000</td>\n",
       "      <td>NaN</td>\n",
       "      <td>보석</td>\n",
       "      <td>본  점</td>\n",
       "      <td>2</td>\n",
       "      <td>1.500000</td>\n",
       "      <td>0.000000</td>\n",
       "      <td>85</td>\n",
       "    </tr>\n",
       "  </tbody>\n",
       "</table>\n",
       "</div>"
      ],
      "text/plain": [
       "   cust_id      총구매액     최대구매액       환불금액   주구매상품 주구매지점  내점일수   내점당구매건수  \\\n",
       "0        0  68282840  11264000  6860000.0      기타   강남점    19  3.894737   \n",
       "1        1   2136000   2136000   300000.0     스포츠   잠실점     2  1.500000   \n",
       "2        2   3197000   1639000        NaN  남성 캐주얼   관악점     2  2.000000   \n",
       "3        3  16077620   4935000        NaN      기타   광주점    18  2.444444   \n",
       "4        4  29050000  24000000        NaN      보석  본  점     2  1.500000   \n",
       "\n",
       "     주말방문비율  구매주기  \n",
       "0  0.527027    17  \n",
       "1  0.000000     1  \n",
       "2  0.000000     1  \n",
       "3  0.318182    16  \n",
       "4  0.000000    85  "
      ]
     },
     "execution_count": 4,
     "metadata": {},
     "output_type": "execute_result"
    }
   ],
   "source": [
    "X.head()"
   ]
  },
  {
   "cell_type": "code",
   "execution_count": 5,
   "id": "599d269a",
   "metadata": {
    "execution": {
     "iopub.execute_input": "2022-06-19T05:28:56.331667Z",
     "iopub.status.busy": "2022-06-19T05:28:56.330718Z",
     "iopub.status.idle": "2022-06-19T05:28:56.339246Z",
     "shell.execute_reply": "2022-06-19T05:28:56.339841Z",
     "shell.execute_reply.started": "2022-06-19T04:55:17.662865Z"
    },
    "papermill": {
     "duration": 0.0363,
     "end_time": "2022-06-19T05:28:56.340037",
     "exception": false,
     "start_time": "2022-06-19T05:28:56.303737",
     "status": "completed"
    },
    "tags": []
   },
   "outputs": [
    {
     "data": {
      "text/html": [
       "<div>\n",
       "<style scoped>\n",
       "    .dataframe tbody tr th:only-of-type {\n",
       "        vertical-align: middle;\n",
       "    }\n",
       "\n",
       "    .dataframe tbody tr th {\n",
       "        vertical-align: top;\n",
       "    }\n",
       "\n",
       "    .dataframe thead th {\n",
       "        text-align: right;\n",
       "    }\n",
       "</style>\n",
       "<table border=\"1\" class=\"dataframe\">\n",
       "  <thead>\n",
       "    <tr style=\"text-align: right;\">\n",
       "      <th></th>\n",
       "      <th>cust_id</th>\n",
       "      <th>gender</th>\n",
       "    </tr>\n",
       "  </thead>\n",
       "  <tbody>\n",
       "    <tr>\n",
       "      <th>0</th>\n",
       "      <td>0</td>\n",
       "      <td>0</td>\n",
       "    </tr>\n",
       "    <tr>\n",
       "      <th>1</th>\n",
       "      <td>1</td>\n",
       "      <td>0</td>\n",
       "    </tr>\n",
       "    <tr>\n",
       "      <th>2</th>\n",
       "      <td>2</td>\n",
       "      <td>1</td>\n",
       "    </tr>\n",
       "    <tr>\n",
       "      <th>3</th>\n",
       "      <td>3</td>\n",
       "      <td>1</td>\n",
       "    </tr>\n",
       "    <tr>\n",
       "      <th>4</th>\n",
       "      <td>4</td>\n",
       "      <td>0</td>\n",
       "    </tr>\n",
       "  </tbody>\n",
       "</table>\n",
       "</div>"
      ],
      "text/plain": [
       "   cust_id  gender\n",
       "0        0       0\n",
       "1        1       0\n",
       "2        2       1\n",
       "3        3       1\n",
       "4        4       0"
      ]
     },
     "execution_count": 5,
     "metadata": {},
     "output_type": "execute_result"
    }
   ],
   "source": [
    "y.head()"
   ]
  },
  {
   "cell_type": "code",
   "execution_count": 6,
   "id": "9761606c",
   "metadata": {
    "execution": {
     "iopub.execute_input": "2022-06-19T05:28:56.393537Z",
     "iopub.status.busy": "2022-06-19T05:28:56.392559Z",
     "iopub.status.idle": "2022-06-19T05:28:56.402151Z",
     "shell.execute_reply": "2022-06-19T05:28:56.402663Z",
     "shell.execute_reply.started": "2022-06-19T04:55:18.061608Z"
    },
    "papermill": {
     "duration": 0.037916,
     "end_time": "2022-06-19T05:28:56.402832",
     "exception": false,
     "start_time": "2022-06-19T05:28:56.364916",
     "status": "completed"
    },
    "tags": []
   },
   "outputs": [
    {
     "data": {
      "text/plain": [
       "cust_id       0\n",
       "총구매액          0\n",
       "최대구매액         0\n",
       "환불금액       2295\n",
       "주구매상품         0\n",
       "주구매지점         0\n",
       "내점일수          0\n",
       "내점당구매건수       0\n",
       "주말방문비율        0\n",
       "구매주기          0\n",
       "dtype: int64"
      ]
     },
     "execution_count": 6,
     "metadata": {},
     "output_type": "execute_result"
    }
   ],
   "source": [
    "# 결측치 확인\n",
    "X.isnull().sum()"
   ]
  },
  {
   "cell_type": "code",
   "execution_count": 7,
   "id": "5b8f2fa6",
   "metadata": {
    "execution": {
     "iopub.execute_input": "2022-06-19T05:28:56.457884Z",
     "iopub.status.busy": "2022-06-19T05:28:56.456901Z",
     "iopub.status.idle": "2022-06-19T05:28:56.500901Z",
     "shell.execute_reply": "2022-06-19T05:28:56.501426Z",
     "shell.execute_reply.started": "2022-06-19T04:55:19.294077Z"
    },
    "papermill": {
     "duration": 0.073092,
     "end_time": "2022-06-19T05:28:56.501606",
     "exception": false,
     "start_time": "2022-06-19T05:28:56.428514",
     "status": "completed"
    },
    "tags": []
   },
   "outputs": [
    {
     "data": {
      "text/html": [
       "<div>\n",
       "<style scoped>\n",
       "    .dataframe tbody tr th:only-of-type {\n",
       "        vertical-align: middle;\n",
       "    }\n",
       "\n",
       "    .dataframe tbody tr th {\n",
       "        vertical-align: top;\n",
       "    }\n",
       "\n",
       "    .dataframe thead th {\n",
       "        text-align: right;\n",
       "    }\n",
       "</style>\n",
       "<table border=\"1\" class=\"dataframe\">\n",
       "  <thead>\n",
       "    <tr style=\"text-align: right;\">\n",
       "      <th></th>\n",
       "      <th>cust_id</th>\n",
       "      <th>총구매액</th>\n",
       "      <th>최대구매액</th>\n",
       "      <th>환불금액</th>\n",
       "      <th>내점일수</th>\n",
       "      <th>내점당구매건수</th>\n",
       "      <th>주말방문비율</th>\n",
       "      <th>구매주기</th>\n",
       "    </tr>\n",
       "  </thead>\n",
       "  <tbody>\n",
       "    <tr>\n",
       "      <th>count</th>\n",
       "      <td>3500.000000</td>\n",
       "      <td>3.500000e+03</td>\n",
       "      <td>3.500000e+03</td>\n",
       "      <td>1.205000e+03</td>\n",
       "      <td>3500.000000</td>\n",
       "      <td>3500.000000</td>\n",
       "      <td>3500.000000</td>\n",
       "      <td>3500.000000</td>\n",
       "    </tr>\n",
       "    <tr>\n",
       "      <th>mean</th>\n",
       "      <td>1749.500000</td>\n",
       "      <td>9.191925e+07</td>\n",
       "      <td>1.966424e+07</td>\n",
       "      <td>2.407822e+07</td>\n",
       "      <td>19.253714</td>\n",
       "      <td>2.834963</td>\n",
       "      <td>0.307246</td>\n",
       "      <td>20.958286</td>\n",
       "    </tr>\n",
       "    <tr>\n",
       "      <th>std</th>\n",
       "      <td>1010.507298</td>\n",
       "      <td>1.635065e+08</td>\n",
       "      <td>3.199235e+07</td>\n",
       "      <td>4.746453e+07</td>\n",
       "      <td>27.174942</td>\n",
       "      <td>1.912368</td>\n",
       "      <td>0.289752</td>\n",
       "      <td>24.748682</td>\n",
       "    </tr>\n",
       "    <tr>\n",
       "      <th>min</th>\n",
       "      <td>0.000000</td>\n",
       "      <td>-5.242152e+07</td>\n",
       "      <td>-2.992000e+06</td>\n",
       "      <td>5.600000e+03</td>\n",
       "      <td>1.000000</td>\n",
       "      <td>1.000000</td>\n",
       "      <td>0.000000</td>\n",
       "      <td>0.000000</td>\n",
       "    </tr>\n",
       "    <tr>\n",
       "      <th>25%</th>\n",
       "      <td>874.750000</td>\n",
       "      <td>4.747050e+06</td>\n",
       "      <td>2.875000e+06</td>\n",
       "      <td>2.259000e+06</td>\n",
       "      <td>2.000000</td>\n",
       "      <td>1.666667</td>\n",
       "      <td>0.027291</td>\n",
       "      <td>4.000000</td>\n",
       "    </tr>\n",
       "    <tr>\n",
       "      <th>50%</th>\n",
       "      <td>1749.500000</td>\n",
       "      <td>2.822270e+07</td>\n",
       "      <td>9.837000e+06</td>\n",
       "      <td>7.392000e+06</td>\n",
       "      <td>8.000000</td>\n",
       "      <td>2.333333</td>\n",
       "      <td>0.256410</td>\n",
       "      <td>13.000000</td>\n",
       "    </tr>\n",
       "    <tr>\n",
       "      <th>75%</th>\n",
       "      <td>2624.250000</td>\n",
       "      <td>1.065079e+08</td>\n",
       "      <td>2.296250e+07</td>\n",
       "      <td>2.412000e+07</td>\n",
       "      <td>25.000000</td>\n",
       "      <td>3.375000</td>\n",
       "      <td>0.448980</td>\n",
       "      <td>28.000000</td>\n",
       "    </tr>\n",
       "    <tr>\n",
       "      <th>max</th>\n",
       "      <td>3499.000000</td>\n",
       "      <td>2.323180e+09</td>\n",
       "      <td>7.066290e+08</td>\n",
       "      <td>5.637530e+08</td>\n",
       "      <td>285.000000</td>\n",
       "      <td>22.083333</td>\n",
       "      <td>1.000000</td>\n",
       "      <td>166.000000</td>\n",
       "    </tr>\n",
       "  </tbody>\n",
       "</table>\n",
       "</div>"
      ],
      "text/plain": [
       "           cust_id          총구매액         최대구매액          환불금액         내점일수  \\\n",
       "count  3500.000000  3.500000e+03  3.500000e+03  1.205000e+03  3500.000000   \n",
       "mean   1749.500000  9.191925e+07  1.966424e+07  2.407822e+07    19.253714   \n",
       "std    1010.507298  1.635065e+08  3.199235e+07  4.746453e+07    27.174942   \n",
       "min       0.000000 -5.242152e+07 -2.992000e+06  5.600000e+03     1.000000   \n",
       "25%     874.750000  4.747050e+06  2.875000e+06  2.259000e+06     2.000000   \n",
       "50%    1749.500000  2.822270e+07  9.837000e+06  7.392000e+06     8.000000   \n",
       "75%    2624.250000  1.065079e+08  2.296250e+07  2.412000e+07    25.000000   \n",
       "max    3499.000000  2.323180e+09  7.066290e+08  5.637530e+08   285.000000   \n",
       "\n",
       "           내점당구매건수       주말방문비율         구매주기  \n",
       "count  3500.000000  3500.000000  3500.000000  \n",
       "mean      2.834963     0.307246    20.958286  \n",
       "std       1.912368     0.289752    24.748682  \n",
       "min       1.000000     0.000000     0.000000  \n",
       "25%       1.666667     0.027291     4.000000  \n",
       "50%       2.333333     0.256410    13.000000  \n",
       "75%       3.375000     0.448980    28.000000  \n",
       "max      22.083333     1.000000   166.000000  "
      ]
     },
     "execution_count": 7,
     "metadata": {},
     "output_type": "execute_result"
    }
   ],
   "source": [
    "# X_train 데이터 기초통계 \n",
    "X.describe()"
   ]
  },
  {
   "cell_type": "code",
   "execution_count": 8,
   "id": "016018be",
   "metadata": {
    "execution": {
     "iopub.execute_input": "2022-06-19T05:28:56.562926Z",
     "iopub.status.busy": "2022-06-19T05:28:56.561916Z",
     "iopub.status.idle": "2022-06-19T05:28:56.572877Z",
     "shell.execute_reply": "2022-06-19T05:28:56.573483Z",
     "shell.execute_reply.started": "2022-06-19T04:55:19.794765Z"
    },
    "papermill": {
     "duration": 0.046306,
     "end_time": "2022-06-19T05:28:56.573664",
     "exception": false,
     "start_time": "2022-06-19T05:28:56.527358",
     "status": "completed"
    },
    "tags": []
   },
   "outputs": [
    {
     "data": {
      "text/html": [
       "<div>\n",
       "<style scoped>\n",
       "    .dataframe tbody tr th:only-of-type {\n",
       "        vertical-align: middle;\n",
       "    }\n",
       "\n",
       "    .dataframe tbody tr th {\n",
       "        vertical-align: top;\n",
       "    }\n",
       "\n",
       "    .dataframe thead th {\n",
       "        text-align: right;\n",
       "    }\n",
       "</style>\n",
       "<table border=\"1\" class=\"dataframe\">\n",
       "  <thead>\n",
       "    <tr style=\"text-align: right;\">\n",
       "      <th></th>\n",
       "      <th>주구매상품</th>\n",
       "      <th>주구매지점</th>\n",
       "    </tr>\n",
       "  </thead>\n",
       "  <tbody>\n",
       "    <tr>\n",
       "      <th>count</th>\n",
       "      <td>3500</td>\n",
       "      <td>3500</td>\n",
       "    </tr>\n",
       "    <tr>\n",
       "      <th>unique</th>\n",
       "      <td>42</td>\n",
       "      <td>24</td>\n",
       "    </tr>\n",
       "    <tr>\n",
       "      <th>top</th>\n",
       "      <td>기타</td>\n",
       "      <td>본  점</td>\n",
       "    </tr>\n",
       "    <tr>\n",
       "      <th>freq</th>\n",
       "      <td>595</td>\n",
       "      <td>1077</td>\n",
       "    </tr>\n",
       "  </tbody>\n",
       "</table>\n",
       "</div>"
      ],
      "text/plain": [
       "       주구매상품 주구매지점\n",
       "count   3500  3500\n",
       "unique    42    24\n",
       "top       기타  본  점\n",
       "freq     595  1077"
      ]
     },
     "execution_count": 8,
     "metadata": {},
     "output_type": "execute_result"
    }
   ],
   "source": [
    "X.describe(include='object')"
   ]
  },
  {
   "cell_type": "code",
   "execution_count": 9,
   "id": "c9fe3aad",
   "metadata": {
    "execution": {
     "iopub.execute_input": "2022-06-19T05:28:56.629696Z",
     "iopub.status.busy": "2022-06-19T05:28:56.628742Z",
     "iopub.status.idle": "2022-06-19T05:28:56.664052Z",
     "shell.execute_reply": "2022-06-19T05:28:56.663460Z",
     "shell.execute_reply.started": "2022-06-19T04:55:20.852318Z"
    },
    "papermill": {
     "duration": 0.064485,
     "end_time": "2022-06-19T05:28:56.664227",
     "exception": false,
     "start_time": "2022-06-19T05:28:56.599742",
     "status": "completed"
    },
    "tags": []
   },
   "outputs": [
    {
     "data": {
      "text/html": [
       "<div>\n",
       "<style scoped>\n",
       "    .dataframe tbody tr th:only-of-type {\n",
       "        vertical-align: middle;\n",
       "    }\n",
       "\n",
       "    .dataframe tbody tr th {\n",
       "        vertical-align: top;\n",
       "    }\n",
       "\n",
       "    .dataframe thead th {\n",
       "        text-align: right;\n",
       "    }\n",
       "</style>\n",
       "<table border=\"1\" class=\"dataframe\">\n",
       "  <thead>\n",
       "    <tr style=\"text-align: right;\">\n",
       "      <th></th>\n",
       "      <th>cust_id</th>\n",
       "      <th>총구매액</th>\n",
       "      <th>최대구매액</th>\n",
       "      <th>환불금액</th>\n",
       "      <th>내점일수</th>\n",
       "      <th>내점당구매건수</th>\n",
       "      <th>주말방문비율</th>\n",
       "      <th>구매주기</th>\n",
       "    </tr>\n",
       "  </thead>\n",
       "  <tbody>\n",
       "    <tr>\n",
       "      <th>count</th>\n",
       "      <td>2482.000000</td>\n",
       "      <td>2.482000e+03</td>\n",
       "      <td>2.482000e+03</td>\n",
       "      <td>8.710000e+02</td>\n",
       "      <td>2482.000000</td>\n",
       "      <td>2482.000000</td>\n",
       "      <td>2482.000000</td>\n",
       "      <td>2482.000000</td>\n",
       "    </tr>\n",
       "    <tr>\n",
       "      <th>mean</th>\n",
       "      <td>4740.500000</td>\n",
       "      <td>1.010275e+08</td>\n",
       "      <td>2.177048e+07</td>\n",
       "      <td>2.554716e+07</td>\n",
       "      <td>19.516922</td>\n",
       "      <td>2.819388</td>\n",
       "      <td>0.293812</td>\n",
       "      <td>20.286060</td>\n",
       "    </tr>\n",
       "    <tr>\n",
       "      <th>std</th>\n",
       "      <td>716.636007</td>\n",
       "      <td>1.732132e+08</td>\n",
       "      <td>3.504919e+07</td>\n",
       "      <td>5.944074e+07</td>\n",
       "      <td>25.973972</td>\n",
       "      <td>1.754550</td>\n",
       "      <td>0.282600</td>\n",
       "      <td>24.108756</td>\n",
       "    </tr>\n",
       "    <tr>\n",
       "      <th>min</th>\n",
       "      <td>3500.000000</td>\n",
       "      <td>-3.744000e+07</td>\n",
       "      <td>-3.744000e+07</td>\n",
       "      <td>1.000000e+04</td>\n",
       "      <td>1.000000</td>\n",
       "      <td>1.000000</td>\n",
       "      <td>0.000000</td>\n",
       "      <td>0.000000</td>\n",
       "    </tr>\n",
       "    <tr>\n",
       "      <th>25%</th>\n",
       "      <td>4120.250000</td>\n",
       "      <td>5.076868e+06</td>\n",
       "      <td>2.884350e+06</td>\n",
       "      <td>2.414000e+06</td>\n",
       "      <td>2.000000</td>\n",
       "      <td>1.750000</td>\n",
       "      <td>0.023456</td>\n",
       "      <td>4.000000</td>\n",
       "    </tr>\n",
       "    <tr>\n",
       "      <th>50%</th>\n",
       "      <td>4740.500000</td>\n",
       "      <td>3.051686e+07</td>\n",
       "      <td>1.075250e+07</td>\n",
       "      <td>8.100000e+06</td>\n",
       "      <td>9.000000</td>\n",
       "      <td>2.430952</td>\n",
       "      <td>0.250000</td>\n",
       "      <td>13.000000</td>\n",
       "    </tr>\n",
       "    <tr>\n",
       "      <th>75%</th>\n",
       "      <td>5360.750000</td>\n",
       "      <td>1.264255e+08</td>\n",
       "      <td>2.627700e+07</td>\n",
       "      <td>2.228090e+07</td>\n",
       "      <td>26.750000</td>\n",
       "      <td>3.375000</td>\n",
       "      <td>0.423566</td>\n",
       "      <td>27.000000</td>\n",
       "    </tr>\n",
       "    <tr>\n",
       "      <th>max</th>\n",
       "      <td>5981.000000</td>\n",
       "      <td>2.861238e+09</td>\n",
       "      <td>5.932250e+08</td>\n",
       "      <td>8.715144e+08</td>\n",
       "      <td>222.000000</td>\n",
       "      <td>15.875000</td>\n",
       "      <td>1.000000</td>\n",
       "      <td>177.000000</td>\n",
       "    </tr>\n",
       "  </tbody>\n",
       "</table>\n",
       "</div>"
      ],
      "text/plain": [
       "           cust_id          총구매액         최대구매액          환불금액         내점일수  \\\n",
       "count  2482.000000  2.482000e+03  2.482000e+03  8.710000e+02  2482.000000   \n",
       "mean   4740.500000  1.010275e+08  2.177048e+07  2.554716e+07    19.516922   \n",
       "std     716.636007  1.732132e+08  3.504919e+07  5.944074e+07    25.973972   \n",
       "min    3500.000000 -3.744000e+07 -3.744000e+07  1.000000e+04     1.000000   \n",
       "25%    4120.250000  5.076868e+06  2.884350e+06  2.414000e+06     2.000000   \n",
       "50%    4740.500000  3.051686e+07  1.075250e+07  8.100000e+06     9.000000   \n",
       "75%    5360.750000  1.264255e+08  2.627700e+07  2.228090e+07    26.750000   \n",
       "max    5981.000000  2.861238e+09  5.932250e+08  8.715144e+08   222.000000   \n",
       "\n",
       "           내점당구매건수       주말방문비율         구매주기  \n",
       "count  2482.000000  2482.000000  2482.000000  \n",
       "mean      2.819388     0.293812    20.286060  \n",
       "std       1.754550     0.282600    24.108756  \n",
       "min       1.000000     0.000000     0.000000  \n",
       "25%       1.750000     0.023456     4.000000  \n",
       "50%       2.430952     0.250000    13.000000  \n",
       "75%       3.375000     0.423566    27.000000  \n",
       "max      15.875000     1.000000   177.000000  "
      ]
     },
     "execution_count": 9,
     "metadata": {},
     "output_type": "execute_result"
    }
   ],
   "source": [
    "# X_test 데이터 기초통계 \n",
    "test.describe()"
   ]
  },
  {
   "cell_type": "code",
   "execution_count": 10,
   "id": "42354cdb",
   "metadata": {
    "execution": {
     "iopub.execute_input": "2022-06-19T05:28:56.721602Z",
     "iopub.status.busy": "2022-06-19T05:28:56.720646Z",
     "iopub.status.idle": "2022-06-19T05:28:56.736199Z",
     "shell.execute_reply": "2022-06-19T05:28:56.735655Z",
     "shell.execute_reply.started": "2022-06-19T04:55:21.447388Z"
    },
    "papermill": {
     "duration": 0.045209,
     "end_time": "2022-06-19T05:28:56.736332",
     "exception": false,
     "start_time": "2022-06-19T05:28:56.691123",
     "status": "completed"
    },
    "tags": []
   },
   "outputs": [
    {
     "data": {
      "text/html": [
       "<div>\n",
       "<style scoped>\n",
       "    .dataframe tbody tr th:only-of-type {\n",
       "        vertical-align: middle;\n",
       "    }\n",
       "\n",
       "    .dataframe tbody tr th {\n",
       "        vertical-align: top;\n",
       "    }\n",
       "\n",
       "    .dataframe thead th {\n",
       "        text-align: right;\n",
       "    }\n",
       "</style>\n",
       "<table border=\"1\" class=\"dataframe\">\n",
       "  <thead>\n",
       "    <tr style=\"text-align: right;\">\n",
       "      <th></th>\n",
       "      <th>주구매상품</th>\n",
       "      <th>주구매지점</th>\n",
       "    </tr>\n",
       "  </thead>\n",
       "  <tbody>\n",
       "    <tr>\n",
       "      <th>count</th>\n",
       "      <td>3500</td>\n",
       "      <td>3500</td>\n",
       "    </tr>\n",
       "    <tr>\n",
       "      <th>unique</th>\n",
       "      <td>42</td>\n",
       "      <td>24</td>\n",
       "    </tr>\n",
       "    <tr>\n",
       "      <th>top</th>\n",
       "      <td>기타</td>\n",
       "      <td>본  점</td>\n",
       "    </tr>\n",
       "    <tr>\n",
       "      <th>freq</th>\n",
       "      <td>595</td>\n",
       "      <td>1077</td>\n",
       "    </tr>\n",
       "  </tbody>\n",
       "</table>\n",
       "</div>"
      ],
      "text/plain": [
       "       주구매상품 주구매지점\n",
       "count   3500  3500\n",
       "unique    42    24\n",
       "top       기타  본  점\n",
       "freq     595  1077"
      ]
     },
     "execution_count": 10,
     "metadata": {},
     "output_type": "execute_result"
    }
   ],
   "source": [
    "X.describe(include='object')"
   ]
  },
  {
   "cell_type": "code",
   "execution_count": 11,
   "id": "2684fbe7",
   "metadata": {
    "execution": {
     "iopub.execute_input": "2022-06-19T05:28:56.794313Z",
     "iopub.status.busy": "2022-06-19T05:28:56.793355Z",
     "iopub.status.idle": "2022-06-19T05:28:56.800037Z",
     "shell.execute_reply": "2022-06-19T05:28:56.800614Z",
     "shell.execute_reply.started": "2022-06-19T04:55:22.691064Z"
    },
    "papermill": {
     "duration": 0.03741,
     "end_time": "2022-06-19T05:28:56.800773",
     "exception": false,
     "start_time": "2022-06-19T05:28:56.763363",
     "status": "completed"
    },
    "tags": []
   },
   "outputs": [
    {
     "data": {
      "text/plain": [
       "0    2184\n",
       "1    1316\n",
       "Name: gender, dtype: int64"
      ]
     },
     "execution_count": 11,
     "metadata": {},
     "output_type": "execute_result"
    }
   ],
   "source": [
    "# label값 확인 \n",
    "y['gender'].value_counts()"
   ]
  },
  {
   "cell_type": "markdown",
   "id": "269c52c3",
   "metadata": {
    "papermill": {
     "duration": 0.027179,
     "end_time": "2022-06-19T05:28:56.855804",
     "exception": false,
     "start_time": "2022-06-19T05:28:56.828625",
     "status": "completed"
    },
    "tags": []
   },
   "source": [
    "# 데이터 전처리"
   ]
  },
  {
   "cell_type": "code",
   "execution_count": 12,
   "id": "6505fb8c",
   "metadata": {
    "execution": {
     "iopub.execute_input": "2022-06-19T05:28:56.914292Z",
     "iopub.status.busy": "2022-06-19T05:28:56.913318Z",
     "iopub.status.idle": "2022-06-19T05:28:56.921162Z",
     "shell.execute_reply": "2022-06-19T05:28:56.920403Z",
     "shell.execute_reply.started": "2022-06-19T04:55:25.152293Z"
    },
    "papermill": {
     "duration": 0.038085,
     "end_time": "2022-06-19T05:28:56.921325",
     "exception": false,
     "start_time": "2022-06-19T05:28:56.883240",
     "status": "completed"
    },
    "tags": []
   },
   "outputs": [],
   "source": [
    "# 결측치처리\n",
    "X = X.fillna(0) # 환불금액 0값으로 채움\n",
    "test = test.fillna(0)"
   ]
  },
  {
   "cell_type": "code",
   "execution_count": 13,
   "id": "e4ff172d",
   "metadata": {
    "execution": {
     "iopub.execute_input": "2022-06-19T05:28:56.983425Z",
     "iopub.status.busy": "2022-06-19T05:28:56.982416Z",
     "iopub.status.idle": "2022-06-19T05:28:56.986320Z",
     "shell.execute_reply": "2022-06-19T05:28:56.986902Z",
     "shell.execute_reply.started": "2022-06-19T04:55:25.814768Z"
    },
    "papermill": {
     "duration": 0.037949,
     "end_time": "2022-06-19T05:28:56.987096",
     "exception": false,
     "start_time": "2022-06-19T05:28:56.949147",
     "status": "completed"
    },
    "tags": []
   },
   "outputs": [],
   "source": [
    "X = X.drop(['cust_id'], axis=1)\n",
    "cust_id = test.pop('cust_id')"
   ]
  },
  {
   "cell_type": "markdown",
   "id": "c37f7a95",
   "metadata": {
    "papermill": {
     "duration": 0.027367,
     "end_time": "2022-06-19T05:28:57.043206",
     "exception": false,
     "start_time": "2022-06-19T05:28:57.015839",
     "status": "completed"
    },
    "tags": []
   },
   "source": [
    "# 피처엔지니어링"
   ]
  },
  {
   "cell_type": "code",
   "execution_count": 14,
   "id": "bf322248",
   "metadata": {
    "execution": {
     "iopub.execute_input": "2022-06-19T05:28:57.102030Z",
     "iopub.status.busy": "2022-06-19T05:28:57.101077Z",
     "iopub.status.idle": "2022-06-19T05:28:57.987297Z",
     "shell.execute_reply": "2022-06-19T05:28:57.988222Z",
     "shell.execute_reply.started": "2022-06-19T04:55:28.604494Z"
    },
    "papermill": {
     "duration": 0.917708,
     "end_time": "2022-06-19T05:28:57.988452",
     "exception": false,
     "start_time": "2022-06-19T05:28:57.070744",
     "status": "completed"
    },
    "tags": []
   },
   "outputs": [
    {
     "data": {
      "text/html": [
       "<div>\n",
       "<style scoped>\n",
       "    .dataframe tbody tr th:only-of-type {\n",
       "        vertical-align: middle;\n",
       "    }\n",
       "\n",
       "    .dataframe tbody tr th {\n",
       "        vertical-align: top;\n",
       "    }\n",
       "\n",
       "    .dataframe thead th {\n",
       "        text-align: right;\n",
       "    }\n",
       "</style>\n",
       "<table border=\"1\" class=\"dataframe\">\n",
       "  <thead>\n",
       "    <tr style=\"text-align: right;\">\n",
       "      <th></th>\n",
       "      <th>총구매액</th>\n",
       "      <th>최대구매액</th>\n",
       "      <th>환불금액</th>\n",
       "      <th>주구매상품</th>\n",
       "      <th>주구매지점</th>\n",
       "      <th>내점일수</th>\n",
       "      <th>내점당구매건수</th>\n",
       "      <th>주말방문비율</th>\n",
       "      <th>구매주기</th>\n",
       "    </tr>\n",
       "  </thead>\n",
       "  <tbody>\n",
       "    <tr>\n",
       "      <th>0</th>\n",
       "      <td>68282840</td>\n",
       "      <td>11264000</td>\n",
       "      <td>6860000.0</td>\n",
       "      <td>5</td>\n",
       "      <td>0</td>\n",
       "      <td>19</td>\n",
       "      <td>3.894737</td>\n",
       "      <td>0.527027</td>\n",
       "      <td>17</td>\n",
       "    </tr>\n",
       "    <tr>\n",
       "      <th>1</th>\n",
       "      <td>2136000</td>\n",
       "      <td>2136000</td>\n",
       "      <td>300000.0</td>\n",
       "      <td>21</td>\n",
       "      <td>19</td>\n",
       "      <td>2</td>\n",
       "      <td>1.500000</td>\n",
       "      <td>0.000000</td>\n",
       "      <td>1</td>\n",
       "    </tr>\n",
       "    <tr>\n",
       "      <th>2</th>\n",
       "      <td>3197000</td>\n",
       "      <td>1639000</td>\n",
       "      <td>0.0</td>\n",
       "      <td>6</td>\n",
       "      <td>1</td>\n",
       "      <td>2</td>\n",
       "      <td>2.000000</td>\n",
       "      <td>0.000000</td>\n",
       "      <td>1</td>\n",
       "    </tr>\n",
       "    <tr>\n",
       "      <th>3</th>\n",
       "      <td>16077620</td>\n",
       "      <td>4935000</td>\n",
       "      <td>0.0</td>\n",
       "      <td>5</td>\n",
       "      <td>2</td>\n",
       "      <td>18</td>\n",
       "      <td>2.444444</td>\n",
       "      <td>0.318182</td>\n",
       "      <td>16</td>\n",
       "    </tr>\n",
       "    <tr>\n",
       "      <th>4</th>\n",
       "      <td>29050000</td>\n",
       "      <td>24000000</td>\n",
       "      <td>0.0</td>\n",
       "      <td>15</td>\n",
       "      <td>8</td>\n",
       "      <td>2</td>\n",
       "      <td>1.500000</td>\n",
       "      <td>0.000000</td>\n",
       "      <td>85</td>\n",
       "    </tr>\n",
       "  </tbody>\n",
       "</table>\n",
       "</div>"
      ],
      "text/plain": [
       "       총구매액     최대구매액       환불금액  주구매상품  주구매지점  내점일수   내점당구매건수    주말방문비율  구매주기\n",
       "0  68282840  11264000  6860000.0      5      0    19  3.894737  0.527027    17\n",
       "1   2136000   2136000   300000.0     21     19     2  1.500000  0.000000     1\n",
       "2   3197000   1639000        0.0      6      1     2  2.000000  0.000000     1\n",
       "3  16077620   4935000        0.0      5      2    18  2.444444  0.318182    16\n",
       "4  29050000  24000000        0.0     15      8     2  1.500000  0.000000    85"
      ]
     },
     "execution_count": 14,
     "metadata": {},
     "output_type": "execute_result"
    }
   ],
   "source": [
    "# Label Encoding (범주형 변수 레이블인코딩)\n",
    "from sklearn.preprocessing import LabelEncoder\n",
    "\n",
    "cols = ['주구매상품', '주구매지점']\n",
    "for col in cols:\n",
    "    le = LabelEncoder()\n",
    "    X[col] = le.fit_transform(X[col])\n",
    "    test[col] = le.transform(test[col])\n",
    "\n",
    "X.head()"
   ]
  },
  {
   "cell_type": "markdown",
   "id": "e0071955",
   "metadata": {
    "papermill": {
     "duration": 0.028735,
     "end_time": "2022-06-19T05:28:58.045673",
     "exception": false,
     "start_time": "2022-06-19T05:28:58.016938",
     "status": "completed"
    },
    "tags": []
   },
   "source": [
    "# 모델링 & 하이퍼파라미터 튜닝"
   ]
  },
  {
   "cell_type": "code",
   "execution_count": 15,
   "id": "082d8cbc",
   "metadata": {
    "execution": {
     "iopub.execute_input": "2022-06-19T05:28:58.106609Z",
     "iopub.status.busy": "2022-06-19T05:28:58.105620Z",
     "iopub.status.idle": "2022-06-19T05:28:59.400773Z",
     "shell.execute_reply": "2022-06-19T05:28:59.400217Z",
     "shell.execute_reply.started": "2022-06-19T05:23:22.170999Z"
    },
    "papermill": {
     "duration": 1.327129,
     "end_time": "2022-06-19T05:28:59.400913",
     "exception": false,
     "start_time": "2022-06-19T05:28:58.073784",
     "status": "completed"
    },
    "tags": []
   },
   "outputs": [
    {
     "name": "stdout",
     "output_type": "stream",
     "text": [
      "0.9994285714285714\n"
     ]
    }
   ],
   "source": [
    "# 모델링 & 하이퍼파라미터 튜닝 & 앙상블\n",
    "from sklearn.ensemble import RandomForestClassifier\n",
    "# import sklearn\n",
    "\n",
    "model = RandomForestClassifier()\n",
    "model.fit(X, y['gender'])\n",
    "print(model.score(X, y['gender']))\n",
    "predictions = model.predict_proba(test)"
   ]
  },
  {
   "cell_type": "code",
   "execution_count": 16,
   "id": "afc1e3af",
   "metadata": {
    "execution": {
     "iopub.execute_input": "2022-06-19T05:28:59.461530Z",
     "iopub.status.busy": "2022-06-19T05:28:59.460793Z",
     "iopub.status.idle": "2022-06-19T05:29:00.144802Z",
     "shell.execute_reply": "2022-06-19T05:29:00.145323Z",
     "shell.execute_reply.started": "2022-06-19T05:22:59.150682Z"
    },
    "papermill": {
     "duration": 0.715775,
     "end_time": "2022-06-19T05:29:00.145517",
     "exception": false,
     "start_time": "2022-06-19T05:28:59.429742",
     "status": "completed"
    },
    "tags": []
   },
   "outputs": [
    {
     "name": "stderr",
     "output_type": "stream",
     "text": [
      "/opt/conda/lib/python3.7/site-packages/xgboost/sklearn.py:1224: UserWarning: The use of label encoder in XGBClassifier is deprecated and will be removed in a future release. To remove this warning, do the following: 1) Pass option use_label_encoder=False when constructing XGBClassifier object; and 2) Encode your labels (y) as integers starting with 0, i.e. 0, 1, 2, ..., [num_class - 1].\n",
      "  warnings.warn(label_encoder_deprecation_msg, UserWarning)\n"
     ]
    },
    {
     "name": "stdout",
     "output_type": "stream",
     "text": [
      "[05:28:59] WARNING: ../src/learner.cc:1115: Starting in XGBoost 1.3.0, the default evaluation metric used with the objective 'binary:logistic' was changed from 'error' to 'logloss'. Explicitly set eval_metric if you'd like to restore the old behavior.\n",
      "0.9702857142857143\n"
     ]
    }
   ],
   "source": [
    "import xgboost as xgb\n",
    "\n",
    "# 모델 선언\n",
    "model2 = xgb.XGBClassifier() \n",
    "\n",
    "# 모델 훈련\n",
    "model2.fit(X,y['gender']) \n",
    "print(model2.score(X, y['gender']))\n",
    "\n",
    "# 모델 예측\n",
    "y_pred = model2.predict(test)\n"
   ]
  },
  {
   "cell_type": "code",
   "execution_count": 17,
   "id": "c64ef1a6",
   "metadata": {
    "execution": {
     "iopub.execute_input": "2022-06-19T05:29:00.211873Z",
     "iopub.status.busy": "2022-06-19T05:29:00.211247Z",
     "iopub.status.idle": "2022-06-19T05:29:01.295771Z",
     "shell.execute_reply": "2022-06-19T05:29:01.296450Z",
     "shell.execute_reply.started": "2022-06-19T05:28:07.753934Z"
    },
    "papermill": {
     "duration": 1.119736,
     "end_time": "2022-06-19T05:29:01.296650",
     "exception": false,
     "start_time": "2022-06-19T05:29:00.176914",
     "status": "completed"
    },
    "tags": []
   },
   "outputs": [
    {
     "data": {
      "text/html": [
       "<style type='text/css'>\n",
       ".datatable table.frame { margin-bottom: 0; }\n",
       ".datatable table.frame thead { border-bottom: none; }\n",
       ".datatable table.frame tr.coltypes td {  color: #FFFFFF;  line-height: 6px;  padding: 0 0.5em;}\n",
       ".datatable .bool    { background: #DDDD99; }\n",
       ".datatable .object  { background: #565656; }\n",
       ".datatable .int     { background: #5D9E5D; }\n",
       ".datatable .float   { background: #4040CC; }\n",
       ".datatable .str     { background: #CC4040; }\n",
       ".datatable .time    { background: #40CC40; }\n",
       ".datatable .row_index {  background: var(--jp-border-color3);  border-right: 1px solid var(--jp-border-color0);  color: var(--jp-ui-font-color3);  font-size: 9px;}\n",
       ".datatable .frame tbody td { text-align: left; }\n",
       ".datatable .frame tr.coltypes .row_index {  background: var(--jp-border-color0);}\n",
       ".datatable th:nth-child(2) { padding-left: 12px; }\n",
       ".datatable .hellipsis {  color: var(--jp-cell-editor-border-color);}\n",
       ".datatable .vellipsis {  background: var(--jp-layout-color0);  color: var(--jp-cell-editor-border-color);}\n",
       ".datatable .na {  color: var(--jp-cell-editor-border-color);  font-size: 80%;}\n",
       ".datatable .sp {  opacity: 0.25;}\n",
       ".datatable .footer { font-size: 9px; }\n",
       ".datatable .frame_dimensions {  background: var(--jp-border-color3);  border-top: 1px solid var(--jp-border-color0);  color: var(--jp-ui-font-color3);  display: inline-block;  opacity: 0.6;  padding: 1px 10px 1px 5px;}\n",
       "</style>\n"
      ],
      "text/plain": [
       "<IPython.core.display.HTML object>"
      ]
     },
     "metadata": {},
     "output_type": "display_data"
    },
    {
     "name": "stdout",
     "output_type": "stream",
     "text": [
      "0.8825714285714286\n"
     ]
    }
   ],
   "source": [
    "import lightgbm as lgbm\n",
    "\n",
    "dir(lgbm)\n",
    "\n",
    "model3 = lgbm.LGBMClassifier()\n",
    "\n",
    "model3.fit(X,y['gender']) \n",
    "print(model3.score(X,y['gender']))\n",
    "\n",
    "y_pred = model3.predict(test)"
   ]
  },
  {
   "cell_type": "code",
   "execution_count": 18,
   "id": "a2e01888",
   "metadata": {
    "execution": {
     "iopub.execute_input": "2022-06-19T05:29:01.366007Z",
     "iopub.status.busy": "2022-06-19T05:29:01.365202Z",
     "iopub.status.idle": "2022-06-19T05:29:01.368888Z",
     "shell.execute_reply": "2022-06-19T05:29:01.368359Z",
     "shell.execute_reply.started": "2022-06-19T05:28:18.322747Z"
    },
    "papermill": {
     "duration": 0.039689,
     "end_time": "2022-06-19T05:29:01.369047",
     "exception": false,
     "start_time": "2022-06-19T05:29:01.329358",
     "status": "completed"
    },
    "tags": []
   },
   "outputs": [
    {
     "data": {
      "text/plain": [
       "array([0.4 , 0.27, 0.12, ..., 0.48, 0.46, 0.48])"
      ]
     },
     "execution_count": 18,
     "metadata": {},
     "output_type": "execute_result"
    }
   ],
   "source": [
    "predictions[:,1]"
   ]
  },
  {
   "cell_type": "code",
   "execution_count": 19,
   "id": "ba6a670a",
   "metadata": {
    "execution": {
     "iopub.execute_input": "2022-06-19T05:29:01.435846Z",
     "iopub.status.busy": "2022-06-19T05:29:01.435083Z",
     "iopub.status.idle": "2022-06-19T05:29:01.437865Z",
     "shell.execute_reply": "2022-06-19T05:29:01.437364Z",
     "shell.execute_reply.started": "2022-06-19T05:24:03.969820Z"
    },
    "papermill": {
     "duration": 0.038376,
     "end_time": "2022-06-19T05:29:01.438021",
     "exception": false,
     "start_time": "2022-06-19T05:29:01.399645",
     "status": "completed"
    },
    "tags": []
   },
   "outputs": [],
   "source": [
    "# csv생성\n",
    "output = pd.DataFrame({'cust_id': cust_id, 'gender': predictions[:,1]})"
   ]
  },
  {
   "cell_type": "code",
   "execution_count": 20,
   "id": "09d9e771",
   "metadata": {
    "execution": {
     "iopub.execute_input": "2022-06-19T05:29:01.503113Z",
     "iopub.status.busy": "2022-06-19T05:29:01.502485Z",
     "iopub.status.idle": "2022-06-19T05:29:01.511132Z",
     "shell.execute_reply": "2022-06-19T05:29:01.511724Z",
     "shell.execute_reply.started": "2022-06-19T05:24:05.985704Z"
    },
    "papermill": {
     "duration": 0.043026,
     "end_time": "2022-06-19T05:29:01.511886",
     "exception": false,
     "start_time": "2022-06-19T05:29:01.468860",
     "status": "completed"
    },
    "tags": []
   },
   "outputs": [
    {
     "data": {
      "text/html": [
       "<div>\n",
       "<style scoped>\n",
       "    .dataframe tbody tr th:only-of-type {\n",
       "        vertical-align: middle;\n",
       "    }\n",
       "\n",
       "    .dataframe tbody tr th {\n",
       "        vertical-align: top;\n",
       "    }\n",
       "\n",
       "    .dataframe thead th {\n",
       "        text-align: right;\n",
       "    }\n",
       "</style>\n",
       "<table border=\"1\" class=\"dataframe\">\n",
       "  <thead>\n",
       "    <tr style=\"text-align: right;\">\n",
       "      <th></th>\n",
       "      <th>cust_id</th>\n",
       "      <th>gender</th>\n",
       "    </tr>\n",
       "  </thead>\n",
       "  <tbody>\n",
       "    <tr>\n",
       "      <th>0</th>\n",
       "      <td>3500</td>\n",
       "      <td>0.40</td>\n",
       "    </tr>\n",
       "    <tr>\n",
       "      <th>1</th>\n",
       "      <td>3501</td>\n",
       "      <td>0.27</td>\n",
       "    </tr>\n",
       "    <tr>\n",
       "      <th>2</th>\n",
       "      <td>3502</td>\n",
       "      <td>0.12</td>\n",
       "    </tr>\n",
       "    <tr>\n",
       "      <th>3</th>\n",
       "      <td>3503</td>\n",
       "      <td>0.58</td>\n",
       "    </tr>\n",
       "    <tr>\n",
       "      <th>4</th>\n",
       "      <td>3504</td>\n",
       "      <td>0.37</td>\n",
       "    </tr>\n",
       "  </tbody>\n",
       "</table>\n",
       "</div>"
      ],
      "text/plain": [
       "   cust_id  gender\n",
       "0     3500    0.40\n",
       "1     3501    0.27\n",
       "2     3502    0.12\n",
       "3     3503    0.58\n",
       "4     3504    0.37"
      ]
     },
     "execution_count": 20,
     "metadata": {},
     "output_type": "execute_result"
    }
   ],
   "source": [
    "output.head()"
   ]
  },
  {
   "cell_type": "code",
   "execution_count": 21,
   "id": "89864fc6",
   "metadata": {
    "execution": {
     "iopub.execute_input": "2022-06-19T05:29:01.579519Z",
     "iopub.status.busy": "2022-06-19T05:29:01.578765Z",
     "iopub.status.idle": "2022-06-19T05:29:01.590017Z",
     "shell.execute_reply": "2022-06-19T05:29:01.590607Z",
     "shell.execute_reply.started": "2021-12-03T06:16:24.578599Z"
    },
    "papermill": {
     "duration": 0.047756,
     "end_time": "2022-06-19T05:29:01.590793",
     "exception": false,
     "start_time": "2022-06-19T05:29:01.543037",
     "status": "completed"
    },
    "tags": []
   },
   "outputs": [],
   "source": [
    "output.to_csv(\"123456789.csv\", index=False)"
   ]
  },
  {
   "cell_type": "code",
   "execution_count": null,
   "id": "1f808295",
   "metadata": {
    "papermill": {
     "duration": 0.031066,
     "end_time": "2022-06-19T05:29:01.653105",
     "exception": false,
     "start_time": "2022-06-19T05:29:01.622039",
     "status": "completed"
    },
    "tags": []
   },
   "outputs": [],
   "source": []
  },
  {
   "cell_type": "markdown",
   "id": "5a43bd01",
   "metadata": {
    "papermill": {
     "duration": 0.030757,
     "end_time": "2022-06-19T05:29:01.714768",
     "exception": false,
     "start_time": "2022-06-19T05:29:01.684011",
     "status": "completed"
    },
    "tags": []
   },
   "source": [
    "# csv확인"
   ]
  },
  {
   "cell_type": "code",
   "execution_count": 22,
   "id": "7d45013c",
   "metadata": {
    "execution": {
     "iopub.execute_input": "2022-06-19T05:29:01.779884Z",
     "iopub.status.busy": "2022-06-19T05:29:01.779268Z",
     "iopub.status.idle": "2022-06-19T05:29:01.793466Z",
     "shell.execute_reply": "2022-06-19T05:29:01.792906Z",
     "shell.execute_reply.started": "2021-12-03T06:16:24.601668Z"
    },
    "papermill": {
     "duration": 0.047994,
     "end_time": "2022-06-19T05:29:01.793599",
     "exception": false,
     "start_time": "2022-06-19T05:29:01.745605",
     "status": "completed"
    },
    "tags": []
   },
   "outputs": [
    {
     "data": {
      "text/html": [
       "<div>\n",
       "<style scoped>\n",
       "    .dataframe tbody tr th:only-of-type {\n",
       "        vertical-align: middle;\n",
       "    }\n",
       "\n",
       "    .dataframe tbody tr th {\n",
       "        vertical-align: top;\n",
       "    }\n",
       "\n",
       "    .dataframe thead th {\n",
       "        text-align: right;\n",
       "    }\n",
       "</style>\n",
       "<table border=\"1\" class=\"dataframe\">\n",
       "  <thead>\n",
       "    <tr style=\"text-align: right;\">\n",
       "      <th></th>\n",
       "      <th>cust_id</th>\n",
       "      <th>gender</th>\n",
       "    </tr>\n",
       "  </thead>\n",
       "  <tbody>\n",
       "    <tr>\n",
       "      <th>0</th>\n",
       "      <td>3500</td>\n",
       "      <td>0.40</td>\n",
       "    </tr>\n",
       "    <tr>\n",
       "      <th>1</th>\n",
       "      <td>3501</td>\n",
       "      <td>0.27</td>\n",
       "    </tr>\n",
       "    <tr>\n",
       "      <th>2</th>\n",
       "      <td>3502</td>\n",
       "      <td>0.12</td>\n",
       "    </tr>\n",
       "    <tr>\n",
       "      <th>3</th>\n",
       "      <td>3503</td>\n",
       "      <td>0.58</td>\n",
       "    </tr>\n",
       "    <tr>\n",
       "      <th>4</th>\n",
       "      <td>3504</td>\n",
       "      <td>0.37</td>\n",
       "    </tr>\n",
       "    <tr>\n",
       "      <th>...</th>\n",
       "      <td>...</td>\n",
       "      <td>...</td>\n",
       "    </tr>\n",
       "    <tr>\n",
       "      <th>2477</th>\n",
       "      <td>5977</td>\n",
       "      <td>0.67</td>\n",
       "    </tr>\n",
       "    <tr>\n",
       "      <th>2478</th>\n",
       "      <td>5978</td>\n",
       "      <td>0.49</td>\n",
       "    </tr>\n",
       "    <tr>\n",
       "      <th>2479</th>\n",
       "      <td>5979</td>\n",
       "      <td>0.48</td>\n",
       "    </tr>\n",
       "    <tr>\n",
       "      <th>2480</th>\n",
       "      <td>5980</td>\n",
       "      <td>0.46</td>\n",
       "    </tr>\n",
       "    <tr>\n",
       "      <th>2481</th>\n",
       "      <td>5981</td>\n",
       "      <td>0.48</td>\n",
       "    </tr>\n",
       "  </tbody>\n",
       "</table>\n",
       "<p>2482 rows × 2 columns</p>\n",
       "</div>"
      ],
      "text/plain": [
       "      cust_id  gender\n",
       "0        3500    0.40\n",
       "1        3501    0.27\n",
       "2        3502    0.12\n",
       "3        3503    0.58\n",
       "4        3504    0.37\n",
       "...       ...     ...\n",
       "2477     5977    0.67\n",
       "2478     5978    0.49\n",
       "2479     5979    0.48\n",
       "2480     5980    0.46\n",
       "2481     5981    0.48\n",
       "\n",
       "[2482 rows x 2 columns]"
      ]
     },
     "execution_count": 22,
     "metadata": {},
     "output_type": "execute_result"
    }
   ],
   "source": [
    "pd.read_csv(\"123456789.csv\")"
   ]
  },
  {
   "cell_type": "code",
   "execution_count": null,
   "id": "17f7e9f9",
   "metadata": {
    "papermill": {
     "duration": 0.032191,
     "end_time": "2022-06-19T05:29:01.857405",
     "exception": false,
     "start_time": "2022-06-19T05:29:01.825214",
     "status": "completed"
    },
    "tags": []
   },
   "outputs": [],
   "source": []
  }
 ],
 "metadata": {
  "kernelspec": {
   "display_name": "Python 3",
   "language": "python",
   "name": "python3"
  },
  "language_info": {
   "codemirror_mode": {
    "name": "ipython",
    "version": 3
   },
   "file_extension": ".py",
   "mimetype": "text/x-python",
   "name": "python",
   "nbconvert_exporter": "python",
   "pygments_lexer": "ipython3",
   "version": "3.7.10"
  },
  "papermill": {
   "default_parameters": {},
   "duration": 16.536756,
   "end_time": "2022-06-19T05:29:02.599764",
   "environment_variables": {},
   "exception": null,
   "input_path": "__notebook__.ipynb",
   "output_path": "__notebook__.ipynb",
   "parameters": {},
   "start_time": "2022-06-19T05:28:46.063008",
   "version": "2.3.3"
  }
 },
 "nbformat": 4,
 "nbformat_minor": 5
}
