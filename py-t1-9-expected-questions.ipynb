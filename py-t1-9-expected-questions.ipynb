{
 "cells": [
  {
   "cell_type": "markdown",
   "id": "a26336c7",
   "metadata": {
    "papermill": {
     "duration": 0.009909,
     "end_time": "2022-06-16T05:01:38.422802",
     "exception": false,
     "start_time": "2022-06-16T05:01:38.412893",
     "status": "completed"
    },
    "tags": []
   },
   "source": [
    "# 수치형 변수 변환하기\n",
    "\n",
    "\n",
    "### 주어진 데이터에서 'f5'컬럼을 표준화(Standardization (Z-score Normalization))하고 그 중앙값을 구하시오\n",
    "- 데이터셋 : basic1.csv\n",
    "- 오른쪽 상단 copy&edit 클릭 -> 예상문제 풀이 시작\n"
   ]
  },
  {
   "cell_type": "markdown",
   "id": "b74794cf",
   "metadata": {
    "papermill": {
     "duration": 0.006517,
     "end_time": "2022-06-16T05:01:38.437899",
     "exception": false,
     "start_time": "2022-06-16T05:01:38.431382",
     "status": "completed"
    },
    "tags": []
   },
   "source": [
    "## Standardization (Z-score Normalization)\n",
    "\n",
    "![standard](https://wikimedia.org/api/rest_v1/media/math/render/svg/b0aa2e7d203db1526c577192f2d9102b718eafd5)"
   ]
  },
  {
   "cell_type": "code",
   "execution_count": 1,
   "id": "fc115497",
   "metadata": {
    "execution": {
     "iopub.execute_input": "2022-06-16T05:01:38.458073Z",
     "iopub.status.busy": "2022-06-16T05:01:38.455949Z",
     "iopub.status.idle": "2022-06-16T05:01:39.440872Z",
     "shell.execute_reply": "2022-06-16T05:01:39.441417Z",
     "shell.execute_reply.started": "2022-06-16T05:00:50.584434Z"
    },
    "papermill": {
     "duration": 0.997323,
     "end_time": "2022-06-16T05:01:39.441705",
     "exception": false,
     "start_time": "2022-06-16T05:01:38.444382",
     "status": "completed"
    },
    "tags": []
   },
   "outputs": [
    {
     "data": {
      "text/plain": [
       "0.260619629559015"
      ]
     },
     "execution_count": 1,
     "metadata": {},
     "output_type": "execute_result"
    }
   ],
   "source": [
    "import pandas as pd\n",
    "import numpy as np\n",
    "from sklearn.preprocessing import StandardScaler\n",
    "\n",
    "df = pd.read_csv('../input/bigdatacertificationkr/basic1.csv')\n",
    "df.head(2)\n",
    "# print(df['f5'])\n",
    "\n",
    "scaler = StandardScaler()\n",
    "# help(scaler.fit_transform)\n",
    "# scaler.fit(df['f5'])\n",
    "df['f5'] = scaler.fit_transform(df[['f5']])\n",
    "df['f5'].median()"
   ]
  },
  {
   "cell_type": "markdown",
   "id": "1ac3ceb6",
   "metadata": {
    "papermill": {
     "duration": 0.00568,
     "end_time": "2022-06-16T05:01:39.453707",
     "exception": false,
     "start_time": "2022-06-16T05:01:39.448027",
     "status": "completed"
    },
    "tags": []
   },
   "source": [
    "## Hint\n",
    "- https://scikit-learn.org/stable/modules/generated/sklearn.preprocessing.StandardScaler.html\n",
    "- https://en.wikipedia.org/wiki/Feature_scaling"
   ]
  },
  {
   "cell_type": "code",
   "execution_count": 2,
   "id": "e6e15def",
   "metadata": {
    "execution": {
     "iopub.execute_input": "2022-06-16T05:01:39.471461Z",
     "iopub.status.busy": "2022-06-16T05:01:39.470819Z",
     "iopub.status.idle": "2022-06-16T05:01:39.477321Z",
     "shell.execute_reply": "2022-06-16T05:01:39.478204Z",
     "shell.execute_reply.started": "2021-10-20T23:37:17.412446Z"
    },
    "papermill": {
     "duration": 0.018666,
     "end_time": "2022-06-16T05:01:39.478448",
     "exception": false,
     "start_time": "2022-06-16T05:01:39.459782",
     "status": "completed"
    },
    "tags": []
   },
   "outputs": [
    {
     "name": "stdout",
     "output_type": "stream",
     "text": [
      "StandardScaler()\n",
      "[[-0.73299648 -0.99206078]\n",
      " [-0.69948807 -1.125655  ]\n",
      " [-0.64084835 -0.39830869]\n",
      " [ 0.18848481  0.26966241]\n",
      " [ 2.11521842  0.41810043]\n",
      " [-0.23037032  1.82826164]]\n"
     ]
    }
   ],
   "source": [
    "from sklearn.preprocessing import StandardScaler\n",
    "data = [[0, 2], [0.4, 0.2], [1.1, 10], [11, 19], [34, 21], [6, 40]]\n",
    "scaler = StandardScaler()\n",
    "print(scaler.fit(data))\n",
    "print(scaler.transform(data))"
   ]
  },
  {
   "cell_type": "markdown",
   "id": "3a3d66cd",
   "metadata": {
    "papermill": {
     "duration": 0.006136,
     "end_time": "2022-06-16T05:01:39.492035",
     "exception": false,
     "start_time": "2022-06-16T05:01:39.485899",
     "status": "completed"
    },
    "tags": []
   },
   "source": [
    "## 풀이"
   ]
  },
  {
   "cell_type": "code",
   "execution_count": 3,
   "id": "0d1bc7e0",
   "metadata": {
    "_cell_guid": "b1076dfc-b9ad-4769-8c92-a6c4dae69d19",
    "_uuid": "8f2839f25d086af736a60e9eeb907d3b93b6e0e5",
    "execution": {
     "iopub.execute_input": "2022-06-16T05:01:39.511606Z",
     "iopub.status.busy": "2022-06-16T05:01:39.510614Z",
     "iopub.status.idle": "2022-06-16T05:01:39.529270Z",
     "shell.execute_reply": "2022-06-16T05:01:39.529910Z",
     "shell.execute_reply.started": "2022-06-16T05:01:01.581725Z"
    },
    "papermill": {
     "duration": 0.031293,
     "end_time": "2022-06-16T05:01:39.530134",
     "exception": false,
     "start_time": "2022-06-16T05:01:39.498841",
     "status": "completed"
    },
    "tags": []
   },
   "outputs": [
    {
     "data": {
      "text/html": [
       "<div>\n",
       "<style scoped>\n",
       "    .dataframe tbody tr th:only-of-type {\n",
       "        vertical-align: middle;\n",
       "    }\n",
       "\n",
       "    .dataframe tbody tr th {\n",
       "        vertical-align: top;\n",
       "    }\n",
       "\n",
       "    .dataframe thead th {\n",
       "        text-align: right;\n",
       "    }\n",
       "</style>\n",
       "<table border=\"1\" class=\"dataframe\">\n",
       "  <thead>\n",
       "    <tr style=\"text-align: right;\">\n",
       "      <th></th>\n",
       "      <th>id</th>\n",
       "      <th>age</th>\n",
       "      <th>city</th>\n",
       "      <th>f1</th>\n",
       "      <th>f2</th>\n",
       "      <th>f3</th>\n",
       "      <th>f4</th>\n",
       "      <th>f5</th>\n",
       "    </tr>\n",
       "  </thead>\n",
       "  <tbody>\n",
       "    <tr>\n",
       "      <th>0</th>\n",
       "      <td>id01</td>\n",
       "      <td>2.0</td>\n",
       "      <td>서울</td>\n",
       "      <td>NaN</td>\n",
       "      <td>0</td>\n",
       "      <td>NaN</td>\n",
       "      <td>ENFJ</td>\n",
       "      <td>91.297791</td>\n",
       "    </tr>\n",
       "    <tr>\n",
       "      <th>1</th>\n",
       "      <td>id02</td>\n",
       "      <td>9.0</td>\n",
       "      <td>서울</td>\n",
       "      <td>70.0</td>\n",
       "      <td>1</td>\n",
       "      <td>NaN</td>\n",
       "      <td>ENFJ</td>\n",
       "      <td>60.339826</td>\n",
       "    </tr>\n",
       "  </tbody>\n",
       "</table>\n",
       "</div>"
      ],
      "text/plain": [
       "     id  age city    f1  f2   f3    f4         f5\n",
       "0  id01  2.0   서울   NaN   0  NaN  ENFJ  91.297791\n",
       "1  id02  9.0   서울  70.0   1  NaN  ENFJ  60.339826"
      ]
     },
     "execution_count": 3,
     "metadata": {},
     "output_type": "execute_result"
    }
   ],
   "source": [
    "# 라이브러리 및 데이터 불러오기\n",
    "import pandas as pd\n",
    "import numpy as np\n",
    "\n",
    "df = pd.read_csv('../input/bigdatacertificationkr/basic1.csv')\n",
    "df.head(2)"
   ]
  },
  {
   "cell_type": "code",
   "execution_count": 4,
   "id": "258f81c5",
   "metadata": {
    "execution": {
     "iopub.execute_input": "2022-06-16T05:01:39.547666Z",
     "iopub.status.busy": "2022-06-16T05:01:39.546944Z",
     "iopub.status.idle": "2022-06-16T05:01:39.563110Z",
     "shell.execute_reply": "2022-06-16T05:01:39.563589Z",
     "shell.execute_reply.started": "2022-06-16T05:01:02.051962Z"
    },
    "papermill": {
     "duration": 0.026782,
     "end_time": "2022-06-16T05:01:39.563764",
     "exception": false,
     "start_time": "2022-06-16T05:01:39.536982",
     "status": "completed"
    },
    "tags": []
   },
   "outputs": [
    {
     "data": {
      "text/html": [
       "<div>\n",
       "<style scoped>\n",
       "    .dataframe tbody tr th:only-of-type {\n",
       "        vertical-align: middle;\n",
       "    }\n",
       "\n",
       "    .dataframe tbody tr th {\n",
       "        vertical-align: top;\n",
       "    }\n",
       "\n",
       "    .dataframe thead th {\n",
       "        text-align: right;\n",
       "    }\n",
       "</style>\n",
       "<table border=\"1\" class=\"dataframe\">\n",
       "  <thead>\n",
       "    <tr style=\"text-align: right;\">\n",
       "      <th></th>\n",
       "      <th>id</th>\n",
       "      <th>age</th>\n",
       "      <th>city</th>\n",
       "      <th>f1</th>\n",
       "      <th>f2</th>\n",
       "      <th>f3</th>\n",
       "      <th>f4</th>\n",
       "      <th>f5</th>\n",
       "    </tr>\n",
       "  </thead>\n",
       "  <tbody>\n",
       "    <tr>\n",
       "      <th>0</th>\n",
       "      <td>id01</td>\n",
       "      <td>2.0</td>\n",
       "      <td>서울</td>\n",
       "      <td>NaN</td>\n",
       "      <td>0</td>\n",
       "      <td>NaN</td>\n",
       "      <td>ENFJ</td>\n",
       "      <td>1.220815</td>\n",
       "    </tr>\n",
       "    <tr>\n",
       "      <th>1</th>\n",
       "      <td>id02</td>\n",
       "      <td>9.0</td>\n",
       "      <td>서울</td>\n",
       "      <td>70.0</td>\n",
       "      <td>1</td>\n",
       "      <td>NaN</td>\n",
       "      <td>ENFJ</td>\n",
       "      <td>0.127343</td>\n",
       "    </tr>\n",
       "    <tr>\n",
       "      <th>2</th>\n",
       "      <td>id03</td>\n",
       "      <td>27.0</td>\n",
       "      <td>서울</td>\n",
       "      <td>61.0</td>\n",
       "      <td>1</td>\n",
       "      <td>NaN</td>\n",
       "      <td>ISTJ</td>\n",
       "      <td>-1.394535</td>\n",
       "    </tr>\n",
       "    <tr>\n",
       "      <th>3</th>\n",
       "      <td>id04</td>\n",
       "      <td>75.0</td>\n",
       "      <td>서울</td>\n",
       "      <td>NaN</td>\n",
       "      <td>2</td>\n",
       "      <td>NaN</td>\n",
       "      <td>INFP</td>\n",
       "      <td>-0.143667</td>\n",
       "    </tr>\n",
       "    <tr>\n",
       "      <th>4</th>\n",
       "      <td>id05</td>\n",
       "      <td>24.0</td>\n",
       "      <td>서울</td>\n",
       "      <td>85.0</td>\n",
       "      <td>2</td>\n",
       "      <td>NaN</td>\n",
       "      <td>ISFJ</td>\n",
       "      <td>-0.970085</td>\n",
       "    </tr>\n",
       "  </tbody>\n",
       "</table>\n",
       "</div>"
      ],
      "text/plain": [
       "     id   age city    f1  f2   f3    f4        f5\n",
       "0  id01   2.0   서울   NaN   0  NaN  ENFJ  1.220815\n",
       "1  id02   9.0   서울  70.0   1  NaN  ENFJ  0.127343\n",
       "2  id03  27.0   서울  61.0   1  NaN  ISTJ -1.394535\n",
       "3  id04  75.0   서울   NaN   2  NaN  INFP -0.143667\n",
       "4  id05  24.0   서울  85.0   2  NaN  ISFJ -0.970085"
      ]
     },
     "execution_count": 4,
     "metadata": {},
     "output_type": "execute_result"
    }
   ],
   "source": [
    "# 표준화\n",
    "from sklearn.preprocessing import StandardScaler\n",
    "\n",
    "scaler = StandardScaler()\n",
    "df['f5']=scaler.fit_transform(df[['f5']])\n",
    "df.head()"
   ]
  },
  {
   "cell_type": "code",
   "execution_count": 5,
   "id": "10cfff93",
   "metadata": {
    "execution": {
     "iopub.execute_input": "2022-06-16T05:01:39.580998Z",
     "iopub.status.busy": "2022-06-16T05:01:39.580366Z",
     "iopub.status.idle": "2022-06-16T05:01:39.585191Z",
     "shell.execute_reply": "2022-06-16T05:01:39.585721Z",
     "shell.execute_reply.started": "2022-06-16T05:01:04.701682Z"
    },
    "papermill": {
     "duration": 0.015064,
     "end_time": "2022-06-16T05:01:39.585898",
     "exception": false,
     "start_time": "2022-06-16T05:01:39.570834",
     "status": "completed"
    },
    "tags": []
   },
   "outputs": [
    {
     "name": "stdout",
     "output_type": "stream",
     "text": [
      "0.260619629559015\n"
     ]
    }
   ],
   "source": [
    "# 중앙값 출력\n",
    "print(df['f5'].median())"
   ]
  }
 ],
 "metadata": {
  "kernelspec": {
   "display_name": "Python 3",
   "language": "python",
   "name": "python3"
  },
  "language_info": {
   "codemirror_mode": {
    "name": "ipython",
    "version": 3
   },
   "file_extension": ".py",
   "mimetype": "text/x-python",
   "name": "python",
   "nbconvert_exporter": "python",
   "pygments_lexer": "ipython3",
   "version": "3.7.10"
  },
  "papermill": {
   "default_parameters": {},
   "duration": 10.671935,
   "end_time": "2022-06-16T05:01:40.303446",
   "environment_variables": {},
   "exception": null,
   "input_path": "__notebook__.ipynb",
   "output_path": "__notebook__.ipynb",
   "parameters": {},
   "start_time": "2022-06-16T05:01:29.631511",
   "version": "2.3.3"
  }
 },
 "nbformat": 4,
 "nbformat_minor": 5
}
