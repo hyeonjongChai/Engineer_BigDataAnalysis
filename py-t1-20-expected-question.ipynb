{
 "cells": [
  {
   "cell_type": "markdown",
   "id": "0bfa3c38",
   "metadata": {
    "execution": {
     "iopub.execute_input": "2021-11-18T01:40:12.744485Z",
     "iopub.status.busy": "2021-11-18T01:40:12.743794Z",
     "iopub.status.idle": "2021-11-18T01:40:12.752699Z",
     "shell.execute_reply": "2021-11-18T01:40:12.751205Z",
     "shell.execute_reply.started": "2021-11-18T01:40:12.744442Z"
    },
    "papermill": {
     "duration": 0.003953,
     "end_time": "2022-06-16T09:09:20.360314",
     "exception": false,
     "start_time": "2022-06-16T09:09:20.356361",
     "status": "completed"
    },
    "tags": []
   },
   "source": [
    "## 고객과 잘 맞는 타입 추천 :)\n",
    "### basic1 데이터 중 'f4'를 기준으로 basic3 데이터 'f4'값을 기준으로 병합하고, \n",
    "### 병합한 데이터에서 r2결측치를 제거한다음, 앞에서 부터 20개 데이터를 선택하고 'f2'컬럼 합을 구하시오\n",
    "\n",
    "- basic1.csv: 고객 데이터 \n",
    "- basic3.csv: 잘 어울리는 관계 데이터 (추천1:r1, 추천2:r2)"
   ]
  },
  {
   "cell_type": "code",
   "execution_count": 1,
   "id": "c72ba98c",
   "metadata": {
    "execution": {
     "iopub.execute_input": "2022-06-16T09:09:20.371620Z",
     "iopub.status.busy": "2022-06-16T09:09:20.370476Z",
     "iopub.status.idle": "2022-06-16T09:09:20.442298Z",
     "shell.execute_reply": "2022-06-16T09:09:20.442890Z",
     "shell.execute_reply.started": "2022-06-16T09:08:33.477629Z"
    },
    "papermill": {
     "duration": 0.079602,
     "end_time": "2022-06-16T09:09:20.443204",
     "exception": false,
     "start_time": "2022-06-16T09:09:20.363602",
     "status": "completed"
    },
    "tags": []
   },
   "outputs": [
    {
     "name": "stdout",
     "output_type": "stream",
     "text": [
      "15\n"
     ]
    }
   ],
   "source": [
    "import pandas as pd\n",
    "b1 = pd.read_csv(\"../input/bigdatacertificationkr/basic1.csv\")\n",
    "b3 = pd.read_csv(\"../input/bigdatacertificationkr/basic3.csv\")\n",
    "\n",
    "# help(pd.merge)\n",
    "\n",
    "df1 = pd.merge(left = b1, right = b3, on = 'f4', how = 'left')\n",
    "df2 = df1.dropna(subset=['r2'],axis=0)\n",
    "df2.isnull().sum()\n",
    "\n",
    "df3 = df2.head(20)\n",
    "print(df3['f2'].sum())"
   ]
  }
 ],
 "metadata": {
  "kernelspec": {
   "display_name": "Python 3",
   "language": "python",
   "name": "python3"
  },
  "language_info": {
   "codemirror_mode": {
    "name": "ipython",
    "version": 3
   },
   "file_extension": ".py",
   "mimetype": "text/x-python",
   "name": "python",
   "nbconvert_exporter": "python",
   "pygments_lexer": "ipython3",
   "version": "3.7.10"
  },
  "papermill": {
   "default_parameters": {},
   "duration": 11.251856,
   "end_time": "2022-06-16T09:09:21.158318",
   "environment_variables": {},
   "exception": null,
   "input_path": "__notebook__.ipynb",
   "output_path": "__notebook__.ipynb",
   "parameters": {},
   "start_time": "2022-06-16T09:09:09.906462",
   "version": "2.3.3"
  }
 },
 "nbformat": 4,
 "nbformat_minor": 5
}
