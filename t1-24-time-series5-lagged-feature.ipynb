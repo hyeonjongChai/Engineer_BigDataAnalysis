{
 "cells": [
  {
   "cell_type": "markdown",
   "id": "dd398b2e",
   "metadata": {
    "papermill": {
     "duration": 0.003377,
     "end_time": "2022-06-17T05:27:09.230647",
     "exception": false,
     "start_time": "2022-06-17T05:27:09.227270",
     "status": "completed"
    },
    "tags": []
   },
   "source": [
    "## 주어진 데이터(basic2.csv)에서 PV의 새로운 컬럼(1일 이전 시차 컬럼)을 만들고, Events가 1이면서 Sales가 1000000이하인 조건에 맞는 새로운 컬럼 합을 구하시오\n",
    "- 데이터셋 : basic2.csv\n",
    "- 오른쪽 상단 copy&edit 클릭 -> 예상문제 풀이 시작"
   ]
  },
  {
   "cell_type": "code",
   "execution_count": 1,
   "id": "0ce4a57b",
   "metadata": {
    "execution": {
     "iopub.execute_input": "2022-06-17T05:27:09.244372Z",
     "iopub.status.busy": "2022-06-17T05:27:09.243687Z",
     "iopub.status.idle": "2022-06-17T05:27:09.276260Z",
     "shell.execute_reply": "2022-06-17T05:27:09.276709Z",
     "shell.execute_reply.started": "2022-06-17T05:26:34.598181Z"
    },
    "papermill": {
     "duration": 0.043767,
     "end_time": "2022-06-17T05:27:09.277009",
     "exception": false,
     "start_time": "2022-06-17T05:27:09.233242",
     "status": "completed"
    },
    "tags": []
   },
   "outputs": [
    {
     "data": {
      "text/plain": [
       "1894876.0"
      ]
     },
     "execution_count": 1,
     "metadata": {},
     "output_type": "execute_result"
    }
   ],
   "source": [
    "import pandas as pd\n",
    "\n",
    "df = pd.read_csv(\"../input/bigdatacertificationkr/basic2.csv\")\n",
    "df['shifted_PV'] = df['PV'].shift(1) \n",
    "\n",
    "df[(df['Events']==1) & (df['Sales']<=1000000)]['shifted_PV'].sum()"
   ]
  }
 ],
 "metadata": {
  "kernelspec": {
   "display_name": "Python 3",
   "language": "python",
   "name": "python3"
  },
  "language_info": {
   "codemirror_mode": {
    "name": "ipython",
    "version": 3
   },
   "file_extension": ".py",
   "mimetype": "text/x-python",
   "name": "python",
   "nbconvert_exporter": "python",
   "pygments_lexer": "ipython3",
   "version": "3.7.10"
  },
  "papermill": {
   "default_parameters": {},
   "duration": 9.244693,
   "end_time": "2022-06-17T05:27:09.889922",
   "environment_variables": {},
   "exception": null,
   "input_path": "__notebook__.ipynb",
   "output_path": "__notebook__.ipynb",
   "parameters": {},
   "start_time": "2022-06-17T05:27:00.645229",
   "version": "2.3.3"
  }
 },
 "nbformat": 4,
 "nbformat_minor": 5
}
